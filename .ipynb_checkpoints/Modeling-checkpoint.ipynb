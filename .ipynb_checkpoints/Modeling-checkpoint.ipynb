{
 "cells": [
  {
   "cell_type": "markdown",
   "metadata": {},
   "source": [
    "## Imports"
   ]
  },
  {
   "cell_type": "code",
   "execution_count": 1,
   "metadata": {},
   "outputs": [],
   "source": [
    "from sklearn.cluster import KMeans\n",
    "from sklearn.metrics import silhouette_score\n",
    "from sklearn.preprocessing import StandardScaler\n",
    "from sklearn.decomposition import PCA\n",
    "from sklearn.cluster import KMeans\n",
    "from scipy import sparse\n",
    "from sklearn.metrics.pairwise import pairwise_distances\n",
    "\n",
    "import numpy as np\n",
    "import pandas as pd\n",
    "\n",
    "import seaborn as sns\n",
    "import matplotlib.pyplot as plt\n",
    "import matplotlib"
   ]
  },
  {
   "cell_type": "markdown",
   "metadata": {},
   "source": [
    "### Read in CSV"
   ]
  },
  {
   "cell_type": "code",
   "execution_count": 2,
   "metadata": {},
   "outputs": [],
   "source": [
    "Players19 = pd.read_csv('./Data/Players19EDA.csv')"
   ]
  },
  {
   "cell_type": "code",
   "execution_count": 3,
   "metadata": {},
   "outputs": [
    {
     "data": {
      "text/html": [
       "<div>\n",
       "<style scoped>\n",
       "    .dataframe tbody tr th:only-of-type {\n",
       "        vertical-align: middle;\n",
       "    }\n",
       "\n",
       "    .dataframe tbody tr th {\n",
       "        vertical-align: top;\n",
       "    }\n",
       "\n",
       "    .dataframe thead th {\n",
       "        text-align: right;\n",
       "    }\n",
       "</style>\n",
       "<table border=\"1\" class=\"dataframe\">\n",
       "  <thead>\n",
       "    <tr style=\"text-align: right;\">\n",
       "      <th></th>\n",
       "      <th>3P%</th>\n",
       "      <th>3PA</th>\n",
       "      <th>3PAr</th>\n",
       "      <th>3PM</th>\n",
       "      <th>AST</th>\n",
       "      <th>Above_Break_FG%</th>\n",
       "      <th>Above_Break_FGA</th>\n",
       "      <th>Above_Break_FGM</th>\n",
       "      <th>As%</th>\n",
       "      <th>BLK</th>\n",
       "      <th>...</th>\n",
       "      <th>STL</th>\n",
       "      <th>Stl%</th>\n",
       "      <th>TO%</th>\n",
       "      <th>TOV</th>\n",
       "      <th>TRB%</th>\n",
       "      <th>TS%</th>\n",
       "      <th>Teams</th>\n",
       "      <th>USG%</th>\n",
       "      <th>age</th>\n",
       "      <th>name</th>\n",
       "    </tr>\n",
       "  </thead>\n",
       "  <tbody>\n",
       "    <tr>\n",
       "      <th>0</th>\n",
       "      <td>0.349</td>\n",
       "      <td>6.4</td>\n",
       "      <td>0.332</td>\n",
       "      <td>2.2</td>\n",
       "      <td>5.4</td>\n",
       "      <td>33.9</td>\n",
       "      <td>3.2</td>\n",
       "      <td>1.1</td>\n",
       "      <td>16.6</td>\n",
       "      <td>1.0</td>\n",
       "      <td>...</td>\n",
       "      <td>1.1</td>\n",
       "      <td>1.1</td>\n",
       "      <td>12.3</td>\n",
       "      <td>3.0</td>\n",
       "      <td>11.7</td>\n",
       "      <td>0.538</td>\n",
       "      <td>ORL</td>\n",
       "      <td>21.8</td>\n",
       "      <td>23.0</td>\n",
       "      <td>Aaron Gordon</td>\n",
       "    </tr>\n",
       "    <tr>\n",
       "      <th>1</th>\n",
       "      <td>0.339</td>\n",
       "      <td>9.6</td>\n",
       "      <td>0.485</td>\n",
       "      <td>3.3</td>\n",
       "      <td>6.6</td>\n",
       "      <td>34.5</td>\n",
       "      <td>2.2</td>\n",
       "      <td>0.8</td>\n",
       "      <td>19.3</td>\n",
       "      <td>1.0</td>\n",
       "      <td>...</td>\n",
       "      <td>1.6</td>\n",
       "      <td>1.6</td>\n",
       "      <td>12.3</td>\n",
       "      <td>3.0</td>\n",
       "      <td>5.8</td>\n",
       "      <td>0.518</td>\n",
       "      <td>IND</td>\n",
       "      <td>21.9</td>\n",
       "      <td>22.0</td>\n",
       "      <td>Aaron Holiday</td>\n",
       "    </tr>\n",
       "    <tr>\n",
       "      <th>2</th>\n",
       "      <td>0.320</td>\n",
       "      <td>6.7</td>\n",
       "      <td>0.465</td>\n",
       "      <td>2.2</td>\n",
       "      <td>1.3</td>\n",
       "      <td>29.3</td>\n",
       "      <td>1.0</td>\n",
       "      <td>0.3</td>\n",
       "      <td>3.8</td>\n",
       "      <td>0.8</td>\n",
       "      <td>...</td>\n",
       "      <td>1.3</td>\n",
       "      <td>1.3</td>\n",
       "      <td>10.1</td>\n",
       "      <td>1.7</td>\n",
       "      <td>8.6</td>\n",
       "      <td>0.522</td>\n",
       "      <td>OKC</td>\n",
       "      <td>15.1</td>\n",
       "      <td>25.0</td>\n",
       "      <td>Abdel Nader</td>\n",
       "    </tr>\n",
       "    <tr>\n",
       "      <th>3</th>\n",
       "      <td>0.360</td>\n",
       "      <td>5.0</td>\n",
       "      <td>0.281</td>\n",
       "      <td>1.8</td>\n",
       "      <td>6.9</td>\n",
       "      <td>36.8</td>\n",
       "      <td>2.7</td>\n",
       "      <td>1.0</td>\n",
       "      <td>21.2</td>\n",
       "      <td>2.1</td>\n",
       "      <td>...</td>\n",
       "      <td>1.4</td>\n",
       "      <td>1.4</td>\n",
       "      <td>11.8</td>\n",
       "      <td>2.5</td>\n",
       "      <td>12.4</td>\n",
       "      <td>0.605</td>\n",
       "      <td>BOS</td>\n",
       "      <td>18.9</td>\n",
       "      <td>32.0</td>\n",
       "      <td>Al Horford</td>\n",
       "    </tr>\n",
       "    <tr>\n",
       "      <th>4</th>\n",
       "      <td>0.343</td>\n",
       "      <td>5.9</td>\n",
       "      <td>0.472</td>\n",
       "      <td>2.0</td>\n",
       "      <td>2.2</td>\n",
       "      <td>34.6</td>\n",
       "      <td>2.3</td>\n",
       "      <td>0.8</td>\n",
       "      <td>6.0</td>\n",
       "      <td>0.7</td>\n",
       "      <td>...</td>\n",
       "      <td>1.4</td>\n",
       "      <td>1.4</td>\n",
       "      <td>9.7</td>\n",
       "      <td>1.5</td>\n",
       "      <td>14.2</td>\n",
       "      <td>0.568</td>\n",
       "      <td>POR</td>\n",
       "      <td>13.7</td>\n",
       "      <td>28.0</td>\n",
       "      <td>Al-Farouq Aminu</td>\n",
       "    </tr>\n",
       "  </tbody>\n",
       "</table>\n",
       "<p>5 rows × 51 columns</p>\n",
       "</div>"
      ],
      "text/plain": [
       "     3P%  3PA   3PAr  3PM  AST  Above_Break_FG%  Above_Break_FGA  \\\n",
       "0  0.349  6.4  0.332  2.2  5.4             33.9              3.2   \n",
       "1  0.339  9.6  0.485  3.3  6.6             34.5              2.2   \n",
       "2  0.320  6.7  0.465  2.2  1.3             29.3              1.0   \n",
       "3  0.360  5.0  0.281  1.8  6.9             36.8              2.7   \n",
       "4  0.343  5.9  0.472  2.0  2.2             34.6              2.3   \n",
       "\n",
       "   Above_Break_FGM   As%  BLK  ...  STL  Stl%   TO%  TOV  TRB%    TS%  Teams  \\\n",
       "0              1.1  16.6  1.0  ...  1.1   1.1  12.3  3.0  11.7  0.538    ORL   \n",
       "1              0.8  19.3  1.0  ...  1.6   1.6  12.3  3.0   5.8  0.518    IND   \n",
       "2              0.3   3.8  0.8  ...  1.3   1.3  10.1  1.7   8.6  0.522    OKC   \n",
       "3              1.0  21.2  2.1  ...  1.4   1.4  11.8  2.5  12.4  0.605    BOS   \n",
       "4              0.8   6.0  0.7  ...  1.4   1.4   9.7  1.5  14.2  0.568    POR   \n",
       "\n",
       "   USG%   age             name  \n",
       "0  21.8  23.0     Aaron Gordon  \n",
       "1  21.9  22.0    Aaron Holiday  \n",
       "2  15.1  25.0      Abdel Nader  \n",
       "3  18.9  32.0       Al Horford  \n",
       "4  13.7  28.0  Al-Farouq Aminu  \n",
       "\n",
       "[5 rows x 51 columns]"
      ]
     },
     "execution_count": 3,
     "metadata": {},
     "output_type": "execute_result"
    }
   ],
   "source": [
    "Players19.head()"
   ]
  },
  {
   "cell_type": "code",
   "execution_count": 4,
   "metadata": {},
   "outputs": [
    {
     "data": {
      "text/plain": [
       "Index(['3P%', '3PA', '3PAr', '3PM', 'AST', 'Above_Break_FG%',\n",
       "       'Above_Break_FGA', 'Above_Break_FGM', 'As%', 'BLK', 'Blk%', 'DRB%',\n",
       "       'DREB', 'FG%', 'FGA', 'FGM', 'FT%', 'FTAr', 'Fouls', 'GP',\n",
       "       'Left_Corner_FG%', 'Left_Corner_FGA', 'Left_Corner_FGM', 'MP',\n",
       "       'Mid_FG%', 'Mid_FGA', 'Mid_FGM', 'ORB%', 'OREB', 'PER', 'Paint_FG%',\n",
       "       'Paint_FGA', 'Paint_FGM', 'Pts', 'REB', 'Restricted_FG%',\n",
       "       'Restricted_FGA', 'Restricted_FGM', 'Right_Corner_FG%',\n",
       "       'Right_Corner_FGA', 'Right_Corner_FGM', 'STL', 'Stl%', 'TO%', 'TOV',\n",
       "       'TRB%', 'TS%', 'Teams', 'USG%', 'age', 'name'],\n",
       "      dtype='object')"
      ]
     },
     "execution_count": 4,
     "metadata": {},
     "output_type": "execute_result"
    }
   ],
   "source": [
    "Players19.columns"
   ]
  },
  {
   "cell_type": "markdown",
   "metadata": {},
   "source": [
    "### Organize Columns"
   ]
  },
  {
   "cell_type": "code",
   "execution_count": 5,
   "metadata": {},
   "outputs": [],
   "source": [
    "Players19 = Players19[['name','age','Teams','Pts','Restricted_FG%', 'Restricted_FGA',\n",
    "       'Restricted_FGM','Paint_FG%',\n",
    "       'Paint_FGA', 'Paint_FGM','Mid_FG%', 'Mid_FGA', 'Mid_FGM','Left_Corner_FG%', \n",
    "           'Left_Corner_FGA', 'Left_Corner_FGM','Right_Corner_FG%', 'Right_Corner_FGA',\n",
    "       'Right_Corner_FGM', 'Above_Break_FG%', 'Above_Break_FGA', 'Above_Break_FGM',\n",
    "        'FG%', '3PAr', 'FGA', 'FGM', 'FT%', 'FTAr','As%', 'Blk%',\n",
    "       'DRB%','Fouls', 'GP','MP','ORB%', 'PER', 'Stl%', 'TO%', 'TRB%', 'TS%', 'USG%']]"
   ]
  },
  {
   "cell_type": "code",
   "execution_count": 6,
   "metadata": {},
   "outputs": [
    {
     "data": {
      "text/html": [
       "<div>\n",
       "<style scoped>\n",
       "    .dataframe tbody tr th:only-of-type {\n",
       "        vertical-align: middle;\n",
       "    }\n",
       "\n",
       "    .dataframe tbody tr th {\n",
       "        vertical-align: top;\n",
       "    }\n",
       "\n",
       "    .dataframe thead th {\n",
       "        text-align: right;\n",
       "    }\n",
       "</style>\n",
       "<table border=\"1\" class=\"dataframe\">\n",
       "  <thead>\n",
       "    <tr style=\"text-align: right;\">\n",
       "      <th></th>\n",
       "      <th>name</th>\n",
       "      <th>age</th>\n",
       "      <th>Teams</th>\n",
       "      <th>Pts</th>\n",
       "      <th>Restricted_FG%</th>\n",
       "      <th>Restricted_FGA</th>\n",
       "      <th>Restricted_FGM</th>\n",
       "      <th>Paint_FG%</th>\n",
       "      <th>Paint_FGA</th>\n",
       "      <th>Paint_FGM</th>\n",
       "      <th>...</th>\n",
       "      <th>Fouls</th>\n",
       "      <th>GP</th>\n",
       "      <th>MP</th>\n",
       "      <th>ORB%</th>\n",
       "      <th>PER</th>\n",
       "      <th>Stl%</th>\n",
       "      <th>TO%</th>\n",
       "      <th>TRB%</th>\n",
       "      <th>TS%</th>\n",
       "      <th>USG%</th>\n",
       "    </tr>\n",
       "  </thead>\n",
       "  <tbody>\n",
       "    <tr>\n",
       "      <th>0</th>\n",
       "      <td>Aaron Gordon</td>\n",
       "      <td>23.0</td>\n",
       "      <td>ORL</td>\n",
       "      <td>23.2</td>\n",
       "      <td>63.4</td>\n",
       "      <td>4.9</td>\n",
       "      <td>3.1</td>\n",
       "      <td>34.3</td>\n",
       "      <td>1.8</td>\n",
       "      <td>0.6</td>\n",
       "      <td>...</td>\n",
       "      <td>3.2</td>\n",
       "      <td>78.0</td>\n",
       "      <td>2633.0</td>\n",
       "      <td>5.2</td>\n",
       "      <td>15.1</td>\n",
       "      <td>1.1</td>\n",
       "      <td>12.3</td>\n",
       "      <td>11.7</td>\n",
       "      <td>0.538</td>\n",
       "      <td>21.8</td>\n",
       "    </tr>\n",
       "    <tr>\n",
       "      <th>1</th>\n",
       "      <td>Aaron Holiday</td>\n",
       "      <td>22.0</td>\n",
       "      <td>IND</td>\n",
       "      <td>22.3</td>\n",
       "      <td>57.7</td>\n",
       "      <td>1.1</td>\n",
       "      <td>0.6</td>\n",
       "      <td>36.1</td>\n",
       "      <td>0.7</td>\n",
       "      <td>0.3</td>\n",
       "      <td>...</td>\n",
       "      <td>5.4</td>\n",
       "      <td>50.0</td>\n",
       "      <td>646.0</td>\n",
       "      <td>0.9</td>\n",
       "      <td>11.9</td>\n",
       "      <td>1.6</td>\n",
       "      <td>12.3</td>\n",
       "      <td>5.8</td>\n",
       "      <td>0.518</td>\n",
       "      <td>21.9</td>\n",
       "    </tr>\n",
       "    <tr>\n",
       "      <th>2</th>\n",
       "      <td>Abdel Nader</td>\n",
       "      <td>25.0</td>\n",
       "      <td>OKC</td>\n",
       "      <td>16.2</td>\n",
       "      <td>55.1</td>\n",
       "      <td>1.3</td>\n",
       "      <td>0.7</td>\n",
       "      <td>46.7</td>\n",
       "      <td>0.5</td>\n",
       "      <td>0.2</td>\n",
       "      <td>...</td>\n",
       "      <td>4.6</td>\n",
       "      <td>61.0</td>\n",
       "      <td>694.0</td>\n",
       "      <td>2.0</td>\n",
       "      <td>8.8</td>\n",
       "      <td>1.3</td>\n",
       "      <td>10.1</td>\n",
       "      <td>8.6</td>\n",
       "      <td>0.522</td>\n",
       "      <td>15.1</td>\n",
       "    </tr>\n",
       "    <tr>\n",
       "      <th>3</th>\n",
       "      <td>Al Horford</td>\n",
       "      <td>32.0</td>\n",
       "      <td>BOS</td>\n",
       "      <td>22.6</td>\n",
       "      <td>71.8</td>\n",
       "      <td>3.0</td>\n",
       "      <td>2.2</td>\n",
       "      <td>51.0</td>\n",
       "      <td>2.1</td>\n",
       "      <td>1.1</td>\n",
       "      <td>...</td>\n",
       "      <td>3.1</td>\n",
       "      <td>68.0</td>\n",
       "      <td>1973.0</td>\n",
       "      <td>6.5</td>\n",
       "      <td>20.2</td>\n",
       "      <td>1.4</td>\n",
       "      <td>11.8</td>\n",
       "      <td>12.4</td>\n",
       "      <td>0.605</td>\n",
       "      <td>18.9</td>\n",
       "    </tr>\n",
       "    <tr>\n",
       "      <th>4</th>\n",
       "      <td>Al-Farouq Aminu</td>\n",
       "      <td>28.0</td>\n",
       "      <td>POR</td>\n",
       "      <td>16.1</td>\n",
       "      <td>60.4</td>\n",
       "      <td>2.7</td>\n",
       "      <td>1.7</td>\n",
       "      <td>35.1</td>\n",
       "      <td>0.7</td>\n",
       "      <td>0.2</td>\n",
       "      <td>...</td>\n",
       "      <td>3.0</td>\n",
       "      <td>81.0</td>\n",
       "      <td>2292.0</td>\n",
       "      <td>5.3</td>\n",
       "      <td>13.2</td>\n",
       "      <td>1.4</td>\n",
       "      <td>9.7</td>\n",
       "      <td>14.2</td>\n",
       "      <td>0.568</td>\n",
       "      <td>13.7</td>\n",
       "    </tr>\n",
       "  </tbody>\n",
       "</table>\n",
       "<p>5 rows × 41 columns</p>\n",
       "</div>"
      ],
      "text/plain": [
       "              name   age Teams   Pts  Restricted_FG%  Restricted_FGA  \\\n",
       "0     Aaron Gordon  23.0   ORL  23.2            63.4             4.9   \n",
       "1    Aaron Holiday  22.0   IND  22.3            57.7             1.1   \n",
       "2      Abdel Nader  25.0   OKC  16.2            55.1             1.3   \n",
       "3       Al Horford  32.0   BOS  22.6            71.8             3.0   \n",
       "4  Al-Farouq Aminu  28.0   POR  16.1            60.4             2.7   \n",
       "\n",
       "   Restricted_FGM  Paint_FG%  Paint_FGA  Paint_FGM  ...  Fouls    GP      MP  \\\n",
       "0             3.1       34.3        1.8        0.6  ...    3.2  78.0  2633.0   \n",
       "1             0.6       36.1        0.7        0.3  ...    5.4  50.0   646.0   \n",
       "2             0.7       46.7        0.5        0.2  ...    4.6  61.0   694.0   \n",
       "3             2.2       51.0        2.1        1.1  ...    3.1  68.0  1973.0   \n",
       "4             1.7       35.1        0.7        0.2  ...    3.0  81.0  2292.0   \n",
       "\n",
       "   ORB%   PER  Stl%   TO%  TRB%    TS%  USG%  \n",
       "0   5.2  15.1   1.1  12.3  11.7  0.538  21.8  \n",
       "1   0.9  11.9   1.6  12.3   5.8  0.518  21.9  \n",
       "2   2.0   8.8   1.3  10.1   8.6  0.522  15.1  \n",
       "3   6.5  20.2   1.4  11.8  12.4  0.605  18.9  \n",
       "4   5.3  13.2   1.4   9.7  14.2  0.568  13.7  \n",
       "\n",
       "[5 rows x 41 columns]"
      ]
     },
     "execution_count": 6,
     "metadata": {},
     "output_type": "execute_result"
    }
   ],
   "source": [
    "Players19.head()"
   ]
  },
  {
   "cell_type": "code",
   "execution_count": 7,
   "metadata": {},
   "outputs": [
    {
     "data": {
      "text/html": [
       "<div>\n",
       "<style scoped>\n",
       "    .dataframe tbody tr th:only-of-type {\n",
       "        vertical-align: middle;\n",
       "    }\n",
       "\n",
       "    .dataframe tbody tr th {\n",
       "        vertical-align: top;\n",
       "    }\n",
       "\n",
       "    .dataframe thead th {\n",
       "        text-align: right;\n",
       "    }\n",
       "</style>\n",
       "<table border=\"1\" class=\"dataframe\">\n",
       "  <thead>\n",
       "    <tr style=\"text-align: right;\">\n",
       "      <th></th>\n",
       "      <th>name</th>\n",
       "      <th>age</th>\n",
       "      <th>Teams</th>\n",
       "      <th>Pts</th>\n",
       "      <th>Restricted_FG%</th>\n",
       "      <th>Restricted_FGA</th>\n",
       "      <th>Restricted_FGM</th>\n",
       "      <th>Paint_FG%</th>\n",
       "      <th>Paint_FGA</th>\n",
       "      <th>Paint_FGM</th>\n",
       "      <th>...</th>\n",
       "      <th>Fouls</th>\n",
       "      <th>GP</th>\n",
       "      <th>MP</th>\n",
       "      <th>ORB%</th>\n",
       "      <th>PER</th>\n",
       "      <th>Stl%</th>\n",
       "      <th>TO%</th>\n",
       "      <th>TRB%</th>\n",
       "      <th>TS%</th>\n",
       "      <th>USG%</th>\n",
       "    </tr>\n",
       "  </thead>\n",
       "  <tbody>\n",
       "    <tr>\n",
       "      <th>929</th>\n",
       "      <td>Zach Lofton</td>\n",
       "      <td>26.0</td>\n",
       "      <td>GRD</td>\n",
       "      <td>24.1</td>\n",
       "      <td>58.4</td>\n",
       "      <td>4.2</td>\n",
       "      <td>2.5</td>\n",
       "      <td>40.7</td>\n",
       "      <td>2.3</td>\n",
       "      <td>0.9</td>\n",
       "      <td>...</td>\n",
       "      <td>2.6</td>\n",
       "      <td>24.0</td>\n",
       "      <td>608.0</td>\n",
       "      <td>3.2</td>\n",
       "      <td>12.2</td>\n",
       "      <td>2.2</td>\n",
       "      <td>14.0</td>\n",
       "      <td>6.3</td>\n",
       "      <td>0.488</td>\n",
       "      <td>25.9</td>\n",
       "    </tr>\n",
       "    <tr>\n",
       "      <th>930</th>\n",
       "      <td>Zach Smith</td>\n",
       "      <td>23.0</td>\n",
       "      <td>GBO</td>\n",
       "      <td>11.6</td>\n",
       "      <td>71.6</td>\n",
       "      <td>2.5</td>\n",
       "      <td>1.8</td>\n",
       "      <td>38.5</td>\n",
       "      <td>0.6</td>\n",
       "      <td>0.2</td>\n",
       "      <td>...</td>\n",
       "      <td>4.7</td>\n",
       "      <td>44.0</td>\n",
       "      <td>831.0</td>\n",
       "      <td>7.9</td>\n",
       "      <td>13.8</td>\n",
       "      <td>1.2</td>\n",
       "      <td>17.0</td>\n",
       "      <td>14.6</td>\n",
       "      <td>0.590</td>\n",
       "      <td>10.8</td>\n",
       "    </tr>\n",
       "    <tr>\n",
       "      <th>931</th>\n",
       "      <td>Zak Irvin</td>\n",
       "      <td>24.0</td>\n",
       "      <td>WES</td>\n",
       "      <td>17.4</td>\n",
       "      <td>65.1</td>\n",
       "      <td>6.4</td>\n",
       "      <td>4.2</td>\n",
       "      <td>43.2</td>\n",
       "      <td>1.5</td>\n",
       "      <td>0.6</td>\n",
       "      <td>...</td>\n",
       "      <td>2.1</td>\n",
       "      <td>30.0</td>\n",
       "      <td>974.0</td>\n",
       "      <td>6.9</td>\n",
       "      <td>15.9</td>\n",
       "      <td>1.5</td>\n",
       "      <td>13.1</td>\n",
       "      <td>13.9</td>\n",
       "      <td>0.581</td>\n",
       "      <td>15.5</td>\n",
       "    </tr>\n",
       "    <tr>\n",
       "      <th>932</th>\n",
       "      <td>Zhaire Smith</td>\n",
       "      <td>20.0</td>\n",
       "      <td>DEL</td>\n",
       "      <td>14.1</td>\n",
       "      <td>57.6</td>\n",
       "      <td>3.0</td>\n",
       "      <td>1.7</td>\n",
       "      <td>40.0</td>\n",
       "      <td>0.9</td>\n",
       "      <td>0.4</td>\n",
       "      <td>...</td>\n",
       "      <td>4.3</td>\n",
       "      <td>11.0</td>\n",
       "      <td>249.0</td>\n",
       "      <td>4.6</td>\n",
       "      <td>6.6</td>\n",
       "      <td>0.6</td>\n",
       "      <td>16.4</td>\n",
       "      <td>6.8</td>\n",
       "      <td>0.454</td>\n",
       "      <td>17.2</td>\n",
       "    </tr>\n",
       "    <tr>\n",
       "      <th>933</th>\n",
       "      <td>Zhou Qi</td>\n",
       "      <td>23.0</td>\n",
       "      <td>RGV</td>\n",
       "      <td>19.5</td>\n",
       "      <td>76.9</td>\n",
       "      <td>3.7</td>\n",
       "      <td>2.9</td>\n",
       "      <td>25.0</td>\n",
       "      <td>0.6</td>\n",
       "      <td>0.1</td>\n",
       "      <td>...</td>\n",
       "      <td>5.9</td>\n",
       "      <td>7.0</td>\n",
       "      <td>195.0</td>\n",
       "      <td>9.9</td>\n",
       "      <td>14.7</td>\n",
       "      <td>1.0</td>\n",
       "      <td>24.6</td>\n",
       "      <td>17.2</td>\n",
       "      <td>0.587</td>\n",
       "      <td>19.0</td>\n",
       "    </tr>\n",
       "  </tbody>\n",
       "</table>\n",
       "<p>5 rows × 41 columns</p>\n",
       "</div>"
      ],
      "text/plain": [
       "             name   age Teams   Pts  Restricted_FG%  Restricted_FGA  \\\n",
       "929   Zach Lofton  26.0   GRD  24.1            58.4             4.2   \n",
       "930    Zach Smith  23.0   GBO  11.6            71.6             2.5   \n",
       "931     Zak Irvin  24.0   WES  17.4            65.1             6.4   \n",
       "932  Zhaire Smith  20.0   DEL  14.1            57.6             3.0   \n",
       "933       Zhou Qi  23.0   RGV  19.5            76.9             3.7   \n",
       "\n",
       "     Restricted_FGM  Paint_FG%  Paint_FGA  Paint_FGM  ...  Fouls    GP     MP  \\\n",
       "929             2.5       40.7        2.3        0.9  ...    2.6  24.0  608.0   \n",
       "930             1.8       38.5        0.6        0.2  ...    4.7  44.0  831.0   \n",
       "931             4.2       43.2        1.5        0.6  ...    2.1  30.0  974.0   \n",
       "932             1.7       40.0        0.9        0.4  ...    4.3  11.0  249.0   \n",
       "933             2.9       25.0        0.6        0.1  ...    5.9   7.0  195.0   \n",
       "\n",
       "     ORB%   PER  Stl%   TO%  TRB%    TS%  USG%  \n",
       "929   3.2  12.2   2.2  14.0   6.3  0.488  25.9  \n",
       "930   7.9  13.8   1.2  17.0  14.6  0.590  10.8  \n",
       "931   6.9  15.9   1.5  13.1  13.9  0.581  15.5  \n",
       "932   4.6   6.6   0.6  16.4   6.8  0.454  17.2  \n",
       "933   9.9  14.7   1.0  24.6  17.2  0.587  19.0  \n",
       "\n",
       "[5 rows x 41 columns]"
      ]
     },
     "execution_count": 7,
     "metadata": {},
     "output_type": "execute_result"
    }
   ],
   "source": [
    "Players19.tail()"
   ]
  },
  {
   "cell_type": "markdown",
   "metadata": {},
   "source": [
    "### Analyze mean Games Played"
   ]
  },
  {
   "cell_type": "code",
   "execution_count": 8,
   "metadata": {},
   "outputs": [
    {
     "data": {
      "text/plain": [
       "38.53533190578158"
      ]
     },
     "execution_count": 8,
     "metadata": {},
     "output_type": "execute_result"
    }
   ],
   "source": [
    "Players19['GP'].mean()"
   ]
  },
  {
   "cell_type": "markdown",
   "metadata": {},
   "source": [
    "### Analyze mean Minutes Played"
   ]
  },
  {
   "cell_type": "code",
   "execution_count": 9,
   "metadata": {},
   "outputs": [
    {
     "data": {
      "text/plain": [
       "903.5556745182013"
      ]
     },
     "execution_count": 9,
     "metadata": {},
     "output_type": "execute_result"
    }
   ],
   "source": [
    "Players19['MP'].mean()"
   ]
  },
  {
   "cell_type": "code",
   "execution_count": 10,
   "metadata": {},
   "outputs": [
    {
     "data": {
      "text/plain": [
       "Index(['name', 'age', 'Teams', 'Pts', 'Restricted_FG%', 'Restricted_FGA',\n",
       "       'Restricted_FGM', 'Paint_FG%', 'Paint_FGA', 'Paint_FGM', 'Mid_FG%',\n",
       "       'Mid_FGA', 'Mid_FGM', 'Left_Corner_FG%', 'Left_Corner_FGA',\n",
       "       'Left_Corner_FGM', 'Right_Corner_FG%', 'Right_Corner_FGA',\n",
       "       'Right_Corner_FGM', 'Above_Break_FG%', 'Above_Break_FGA',\n",
       "       'Above_Break_FGM', 'FG%', '3PAr', 'FGA', 'FGM', 'FT%', 'FTAr', 'As%',\n",
       "       'Blk%', 'DRB%', 'Fouls', 'GP', 'MP', 'ORB%', 'PER', 'Stl%', 'TO%',\n",
       "       'TRB%', 'TS%', 'USG%'],\n",
       "      dtype='object')"
      ]
     },
     "execution_count": 10,
     "metadata": {},
     "output_type": "execute_result"
    }
   ],
   "source": [
    "Players19.columns"
   ]
  },
  {
   "cell_type": "markdown",
   "metadata": {},
   "source": [
    "### Get rid of players > 20 Games Played"
   ]
  },
  {
   "cell_type": "code",
   "execution_count": 11,
   "metadata": {},
   "outputs": [],
   "source": [
    "Players19 = Players19[Players19['GP']>20]"
   ]
  },
  {
   "cell_type": "code",
   "execution_count": 12,
   "metadata": {},
   "outputs": [
    {
     "data": {
      "text/plain": [
       "(679, 41)"
      ]
     },
     "execution_count": 12,
     "metadata": {},
     "output_type": "execute_result"
    }
   ],
   "source": [
    "Players19.shape"
   ]
  },
  {
   "cell_type": "markdown",
   "metadata": {},
   "source": [
    "### Pre-Processing "
   ]
  },
  {
   "cell_type": "code",
   "execution_count": 13,
   "metadata": {},
   "outputs": [],
   "source": [
    "X = Players19.drop([ 'name', 'age', 'Teams', \n",
    "       'Restricted_FGM', 'Paint_FG%', 'Paint_FGA', 'Paint_FGM', 'Left_Corner_FG%', 'Left_Corner_FGA',\n",
    "       'Left_Corner_FGM', 'Right_Corner_FG%', 'Right_Corner_FGA',\n",
    "       'Right_Corner_FGM','Above_Break_FGM', 'FG%', 'FGA', 'FGM','Fouls', 'GP', 'MP', \n",
    "        ], axis=1)\n",
    "y = Players19['name']"
   ]
  },
  {
   "cell_type": "markdown",
   "metadata": {},
   "source": [
    "### Scale Data"
   ]
  },
  {
   "cell_type": "code",
   "execution_count": 14,
   "metadata": {},
   "outputs": [],
   "source": [
    "scaler = StandardScaler()\n",
    "X_sc = scaler.fit_transform(X)"
   ]
  },
  {
   "cell_type": "markdown",
   "metadata": {},
   "source": [
    "### Dimensionality Reduction"
   ]
  },
  {
   "cell_type": "code",
   "execution_count": 15,
   "metadata": {},
   "outputs": [],
   "source": [
    "pca = PCA(n_components=2)\n",
    "pca.fit(X_sc)\n",
    "\n",
    "X_pca = pca.transform(X_sc)"
   ]
  },
  {
   "cell_type": "code",
   "execution_count": 16,
   "metadata": {},
   "outputs": [
    {
     "data": {
      "text/plain": [
       "0.06365499118633189"
      ]
     },
     "execution_count": 16,
     "metadata": {},
     "output_type": "execute_result"
    }
   ],
   "source": [
    "# Create 9 clusters\n",
    "km = KMeans(n_clusters=9, random_state=23)\n",
    "km.fit(X_pca)\n",
    "y_kmeans = km.predict(X_pca)\n",
    "silhouette_score(X_sc, km.labels_)"
   ]
  },
  {
   "cell_type": "code",
   "execution_count": 17,
   "metadata": {},
   "outputs": [
    {
     "data": {
      "text/plain": [
       "array([[-1.0453662 ,  2.10497867],\n",
       "       [ 1.55758165,  0.55569325],\n",
       "       [-0.85063003, -0.16034701],\n",
       "       [ 4.93250103,  1.75213469],\n",
       "       [ 0.08247805,  5.0759399 ],\n",
       "       [-1.89073277, -2.29982717],\n",
       "       [-2.46173514, -0.13716128],\n",
       "       [ 4.30840598, -1.91249587],\n",
       "       [ 0.74619086, -1.91115632]])"
      ]
     },
     "execution_count": 17,
     "metadata": {},
     "output_type": "execute_result"
    }
   ],
   "source": [
    "km.cluster_centers_"
   ]
  },
  {
   "cell_type": "code",
   "execution_count": 18,
   "metadata": {},
   "outputs": [
    {
     "data": {
      "text/plain": [
       "array([1, 6, 5, 1, 8, 2, 2, 1, 8, 8, 6, 2, 8, 3, 8, 0, 3, 5, 2, 8, 5, 6,\n",
       "       7, 3, 7, 4, 1, 2, 4, 0, 6, 2, 5, 2, 6, 4, 4, 8, 6, 2, 2, 5, 6, 5,\n",
       "       6, 1, 8, 7, 0, 3, 7, 7, 0, 5, 6, 6, 4, 2, 5, 7, 4, 6, 6, 8, 4, 6,\n",
       "       5, 2, 6, 0, 8, 0, 5, 7, 8, 4, 3, 2, 3, 2, 5, 7, 4, 2, 4, 6, 6, 1,\n",
       "       6, 6, 3, 4, 5, 5, 6, 8, 8, 7, 2, 7, 0, 6, 7, 5, 7, 2, 0, 3, 0, 6,\n",
       "       0, 2, 6, 1, 2, 6, 6, 6, 5, 5, 2, 6, 2, 6, 3, 2, 1, 6, 7, 8, 8, 0,\n",
       "       7, 6, 8, 6, 5, 5, 6, 8, 6, 8, 7, 0, 1, 7, 1, 5, 2, 7, 2, 2, 6, 0,\n",
       "       4, 2, 5, 5, 8, 7, 5, 2, 0, 2, 0, 2, 0, 2, 6, 5, 6, 5, 4, 7, 2, 6,\n",
       "       3, 3, 6, 4, 7, 7, 8, 8, 2, 2, 6, 8, 0, 2, 5, 2, 5, 0, 4, 3, 5, 6,\n",
       "       2, 2, 3, 4, 5, 2, 4, 3, 5, 2, 6, 4, 6, 6, 1, 7, 7, 0, 5, 4, 8, 0,\n",
       "       8, 6, 0, 0, 1, 4, 4, 2, 5, 6, 6, 1, 4, 6, 5, 4, 6, 2, 8, 5, 0, 6,\n",
       "       6, 2, 1, 7, 6, 0, 6, 2, 2, 8, 2, 7, 6, 8, 8, 8, 1, 8, 8, 5, 4, 5,\n",
       "       5, 8, 7, 0, 3, 8, 1, 8, 7, 2, 6, 8, 2, 5, 8, 8, 1, 2, 5, 5, 5, 6,\n",
       "       8, 4, 1, 8, 6, 6, 2, 6, 6, 0, 7, 0, 2, 8, 2, 6, 5, 8, 5, 1, 7, 4,\n",
       "       5, 6, 5, 7, 8, 5, 1, 6, 0, 2, 8, 8, 6, 5, 5, 0, 5, 4, 5, 7, 2, 0,\n",
       "       1, 5, 0, 6, 5, 1, 1, 8, 5, 0, 0, 5, 5, 0, 5, 6, 0, 2, 7, 6, 5, 2,\n",
       "       6, 5, 0, 5, 7, 6, 4, 6, 6, 6, 5, 6, 2, 1, 5, 6, 8, 4, 7, 1, 2, 7,\n",
       "       3, 7, 0, 3, 7, 3, 6, 3, 1, 0, 7, 1, 1, 1, 0, 7, 4, 2, 1, 2, 6, 0,\n",
       "       7, 0, 0, 1, 6, 1, 5, 6, 3, 0, 5, 2, 0, 7, 2, 1, 3, 3, 0, 7, 1, 5,\n",
       "       3, 2, 2, 8, 2, 8, 6, 7, 4, 6, 3, 8, 4, 0, 4, 0, 6, 6, 3, 5, 6, 5,\n",
       "       2, 2, 6, 6, 6, 7, 7, 2, 8, 1, 6, 7, 1, 1, 2, 5, 7, 3, 7, 6, 2, 0,\n",
       "       0, 1, 4, 5, 7, 8, 5, 2, 6, 0, 1, 2, 7, 8, 3, 2, 0, 7, 5, 1, 7, 5,\n",
       "       1, 7, 0, 3, 1, 0, 5, 5, 5, 8, 0, 3, 2, 2, 2, 8, 1, 0, 6, 8, 0, 1,\n",
       "       0, 5, 4, 1, 2, 5, 5, 2, 7, 6, 1, 0, 0, 0, 5, 7, 5, 2, 0, 4, 1, 3,\n",
       "       7, 7, 7, 5, 0, 8, 5, 0, 6, 4, 0, 4, 0, 6, 6, 8, 2, 6, 2, 5, 8, 1,\n",
       "       0, 2, 4, 8, 2, 0, 6, 4, 2, 1, 7, 7, 0, 7, 1, 8, 5, 8, 8, 0, 4, 8,\n",
       "       0, 0, 5, 2, 0, 0, 4, 6, 0, 1, 6, 6, 1, 2, 2, 6, 1, 8, 1, 5, 6, 5,\n",
       "       0, 0, 1, 7, 2, 7, 5, 1, 2, 4, 5, 6, 0, 5, 8, 1, 0, 2, 3, 2, 8, 1,\n",
       "       7, 4, 5, 6, 6, 6, 1, 7, 5, 5, 6, 0, 0, 2, 4, 6, 2, 6, 3, 8, 1, 1,\n",
       "       8, 7, 8, 8, 2, 0, 3, 0, 2, 8, 5, 6, 5, 2, 2, 8, 0, 5, 0, 2, 0, 1,\n",
       "       1, 0, 6, 5, 2, 6, 2, 4, 1, 2, 8, 3, 8, 0, 3, 1, 0, 7, 1],\n",
       "      dtype=int32)"
      ]
     },
     "execution_count": 18,
     "metadata": {},
     "output_type": "execute_result"
    }
   ],
   "source": [
    "km.labels_"
   ]
  },
  {
   "cell_type": "markdown",
   "metadata": {},
   "source": [
    "### Create column from KM Labels"
   ]
  },
  {
   "cell_type": "code",
   "execution_count": 19,
   "metadata": {},
   "outputs": [],
   "source": [
    "Players19['Cluster'] = km.labels_"
   ]
  },
  {
   "cell_type": "markdown",
   "metadata": {},
   "source": [
    "### Look at Rockets Stats/Clusters"
   ]
  },
  {
   "cell_type": "code",
   "execution_count": 20,
   "metadata": {},
   "outputs": [
    {
     "data": {
      "text/html": [
       "<div>\n",
       "<style scoped>\n",
       "    .dataframe tbody tr th:only-of-type {\n",
       "        vertical-align: middle;\n",
       "    }\n",
       "\n",
       "    .dataframe tbody tr th {\n",
       "        vertical-align: top;\n",
       "    }\n",
       "\n",
       "    .dataframe thead th {\n",
       "        text-align: right;\n",
       "    }\n",
       "</style>\n",
       "<table border=\"1\" class=\"dataframe\">\n",
       "  <thead>\n",
       "    <tr style=\"text-align: right;\">\n",
       "      <th></th>\n",
       "      <th>name</th>\n",
       "      <th>age</th>\n",
       "      <th>Teams</th>\n",
       "      <th>Pts</th>\n",
       "      <th>Restricted_FG%</th>\n",
       "      <th>Restricted_FGA</th>\n",
       "      <th>Restricted_FGM</th>\n",
       "      <th>Paint_FG%</th>\n",
       "      <th>Paint_FGA</th>\n",
       "      <th>Paint_FGM</th>\n",
       "      <th>...</th>\n",
       "      <th>GP</th>\n",
       "      <th>MP</th>\n",
       "      <th>ORB%</th>\n",
       "      <th>PER</th>\n",
       "      <th>Stl%</th>\n",
       "      <th>TO%</th>\n",
       "      <th>TRB%</th>\n",
       "      <th>TS%</th>\n",
       "      <th>USG%</th>\n",
       "      <th>Cluster</th>\n",
       "    </tr>\n",
       "  </thead>\n",
       "  <tbody>\n",
       "    <tr>\n",
       "      <th>27</th>\n",
       "      <td>Austin Rivers</td>\n",
       "      <td>26.0</td>\n",
       "      <td>HOU</td>\n",
       "      <td>14.8</td>\n",
       "      <td>59.7</td>\n",
       "      <td>2.0</td>\n",
       "      <td>1.2</td>\n",
       "      <td>41.2</td>\n",
       "      <td>1.1</td>\n",
       "      <td>0.5</td>\n",
       "      <td>...</td>\n",
       "      <td>76.0</td>\n",
       "      <td>2028.0</td>\n",
       "      <td>1.3</td>\n",
       "      <td>7.7</td>\n",
       "      <td>1.1</td>\n",
       "      <td>10.0</td>\n",
       "      <td>4.4</td>\n",
       "      <td>0.503</td>\n",
       "      <td>14.5</td>\n",
       "      <td>5</td>\n",
       "    </tr>\n",
       "    <tr>\n",
       "      <th>64</th>\n",
       "      <td>Chris Paul</td>\n",
       "      <td>33.0</td>\n",
       "      <td>HOU</td>\n",
       "      <td>23.9</td>\n",
       "      <td>55.6</td>\n",
       "      <td>1.2</td>\n",
       "      <td>0.7</td>\n",
       "      <td>45.4</td>\n",
       "      <td>2.6</td>\n",
       "      <td>1.2</td>\n",
       "      <td>...</td>\n",
       "      <td>58.0</td>\n",
       "      <td>1857.0</td>\n",
       "      <td>2.1</td>\n",
       "      <td>19.7</td>\n",
       "      <td>3.0</td>\n",
       "      <td>15.8</td>\n",
       "      <td>7.9</td>\n",
       "      <td>0.560</td>\n",
       "      <td>22.5</td>\n",
       "      <td>0</td>\n",
       "    </tr>\n",
       "    <tr>\n",
       "      <th>66</th>\n",
       "      <td>Clint Capela</td>\n",
       "      <td>24.0</td>\n",
       "      <td>HOU</td>\n",
       "      <td>24.3</td>\n",
       "      <td>70.7</td>\n",
       "      <td>9.2</td>\n",
       "      <td>6.5</td>\n",
       "      <td>34.9</td>\n",
       "      <td>1.6</td>\n",
       "      <td>0.6</td>\n",
       "      <td>...</td>\n",
       "      <td>67.0</td>\n",
       "      <td>2249.0</td>\n",
       "      <td>14.4</td>\n",
       "      <td>23.8</td>\n",
       "      <td>1.0</td>\n",
       "      <td>10.0</td>\n",
       "      <td>20.8</td>\n",
       "      <td>0.658</td>\n",
       "      <td>18.2</td>\n",
       "      <td>7</td>\n",
       "    </tr>\n",
       "    <tr>\n",
       "      <th>139</th>\n",
       "      <td>Eric Gordon</td>\n",
       "      <td>30.0</td>\n",
       "      <td>HOU</td>\n",
       "      <td>25.1</td>\n",
       "      <td>62.7</td>\n",
       "      <td>3.2</td>\n",
       "      <td>2.0</td>\n",
       "      <td>22.4</td>\n",
       "      <td>1.4</td>\n",
       "      <td>0.3</td>\n",
       "      <td>...</td>\n",
       "      <td>68.0</td>\n",
       "      <td>2158.0</td>\n",
       "      <td>0.9</td>\n",
       "      <td>12.2</td>\n",
       "      <td>0.9</td>\n",
       "      <td>8.2</td>\n",
       "      <td>3.8</td>\n",
       "      <td>0.549</td>\n",
       "      <td>22.0</td>\n",
       "      <td>6</td>\n",
       "    </tr>\n",
       "    <tr>\n",
       "      <th>150</th>\n",
       "      <td>Gary Clark</td>\n",
       "      <td>24.0</td>\n",
       "      <td>HOU</td>\n",
       "      <td>11.3</td>\n",
       "      <td>80.0</td>\n",
       "      <td>0.2</td>\n",
       "      <td>0.2</td>\n",
       "      <td>33.3</td>\n",
       "      <td>0.1</td>\n",
       "      <td>0.0</td>\n",
       "      <td>...</td>\n",
       "      <td>51.0</td>\n",
       "      <td>641.0</td>\n",
       "      <td>4.1</td>\n",
       "      <td>9.2</td>\n",
       "      <td>1.5</td>\n",
       "      <td>4.3</td>\n",
       "      <td>10.0</td>\n",
       "      <td>0.480</td>\n",
       "      <td>10.9</td>\n",
       "      <td>5</td>\n",
       "    </tr>\n",
       "    <tr>\n",
       "      <th>155</th>\n",
       "      <td>Gerald Green</td>\n",
       "      <td>33.0</td>\n",
       "      <td>HOU</td>\n",
       "      <td>22.5</td>\n",
       "      <td>72.7</td>\n",
       "      <td>0.9</td>\n",
       "      <td>0.7</td>\n",
       "      <td>37.8</td>\n",
       "      <td>0.5</td>\n",
       "      <td>0.2</td>\n",
       "      <td>...</td>\n",
       "      <td>73.0</td>\n",
       "      <td>1473.0</td>\n",
       "      <td>2.2</td>\n",
       "      <td>11.4</td>\n",
       "      <td>1.1</td>\n",
       "      <td>8.3</td>\n",
       "      <td>6.8</td>\n",
       "      <td>0.555</td>\n",
       "      <td>19.5</td>\n",
       "      <td>6</td>\n",
       "    </tr>\n",
       "    <tr>\n",
       "      <th>170</th>\n",
       "      <td>Iman Shumpert</td>\n",
       "      <td>28.0</td>\n",
       "      <td>HOU</td>\n",
       "      <td>14.8</td>\n",
       "      <td>63.2</td>\n",
       "      <td>0.9</td>\n",
       "      <td>0.6</td>\n",
       "      <td>15.4</td>\n",
       "      <td>0.2</td>\n",
       "      <td>0.0</td>\n",
       "      <td>...</td>\n",
       "      <td>62.0</td>\n",
       "      <td>1481.0</td>\n",
       "      <td>1.9</td>\n",
       "      <td>9.1</td>\n",
       "      <td>1.9</td>\n",
       "      <td>9.7</td>\n",
       "      <td>6.5</td>\n",
       "      <td>0.499</td>\n",
       "      <td>14.5</td>\n",
       "      <td>6</td>\n",
       "    </tr>\n",
       "    <tr>\n",
       "      <th>175</th>\n",
       "      <td>Isaiah Hartenstein</td>\n",
       "      <td>20.0</td>\n",
       "      <td>HOU</td>\n",
       "      <td>11.8</td>\n",
       "      <td>56.3</td>\n",
       "      <td>1.3</td>\n",
       "      <td>0.7</td>\n",
       "      <td>0.0</td>\n",
       "      <td>0.1</td>\n",
       "      <td>0.0</td>\n",
       "      <td>...</td>\n",
       "      <td>28.0</td>\n",
       "      <td>221.0</td>\n",
       "      <td>10.3</td>\n",
       "      <td>10.0</td>\n",
       "      <td>1.6</td>\n",
       "      <td>21.6</td>\n",
       "      <td>11.8</td>\n",
       "      <td>0.562</td>\n",
       "      <td>11.8</td>\n",
       "      <td>8</td>\n",
       "    </tr>\n",
       "    <tr>\n",
       "      <th>195</th>\n",
       "      <td>James Harden</td>\n",
       "      <td>29.0</td>\n",
       "      <td>HOU</td>\n",
       "      <td>48.2</td>\n",
       "      <td>58.8</td>\n",
       "      <td>6.7</td>\n",
       "      <td>3.9</td>\n",
       "      <td>44.8</td>\n",
       "      <td>3.6</td>\n",
       "      <td>1.6</td>\n",
       "      <td>...</td>\n",
       "      <td>78.0</td>\n",
       "      <td>2867.0</td>\n",
       "      <td>2.5</td>\n",
       "      <td>30.6</td>\n",
       "      <td>2.7</td>\n",
       "      <td>14.5</td>\n",
       "      <td>10.0</td>\n",
       "      <td>0.616</td>\n",
       "      <td>40.5</td>\n",
       "      <td>4</td>\n",
       "    </tr>\n",
       "    <tr>\n",
       "      <th>264</th>\n",
       "      <td>Kenneth Faried</td>\n",
       "      <td>29.0</td>\n",
       "      <td>HOU</td>\n",
       "      <td>25.7</td>\n",
       "      <td>65.2</td>\n",
       "      <td>5.4</td>\n",
       "      <td>3.5</td>\n",
       "      <td>37.1</td>\n",
       "      <td>0.9</td>\n",
       "      <td>0.4</td>\n",
       "      <td>...</td>\n",
       "      <td>37.0</td>\n",
       "      <td>728.0</td>\n",
       "      <td>14.4</td>\n",
       "      <td>21.6</td>\n",
       "      <td>1.1</td>\n",
       "      <td>9.7</td>\n",
       "      <td>18.8</td>\n",
       "      <td>0.622</td>\n",
       "      <td>20.3</td>\n",
       "      <td>3</td>\n",
       "    </tr>\n",
       "  </tbody>\n",
       "</table>\n",
       "<p>10 rows × 42 columns</p>\n",
       "</div>"
      ],
      "text/plain": [
       "                   name   age Teams   Pts  Restricted_FG%  Restricted_FGA  \\\n",
       "27        Austin Rivers  26.0   HOU  14.8            59.7             2.0   \n",
       "64           Chris Paul  33.0   HOU  23.9            55.6             1.2   \n",
       "66         Clint Capela  24.0   HOU  24.3            70.7             9.2   \n",
       "139         Eric Gordon  30.0   HOU  25.1            62.7             3.2   \n",
       "150          Gary Clark  24.0   HOU  11.3            80.0             0.2   \n",
       "155        Gerald Green  33.0   HOU  22.5            72.7             0.9   \n",
       "170       Iman Shumpert  28.0   HOU  14.8            63.2             0.9   \n",
       "175  Isaiah Hartenstein  20.0   HOU  11.8            56.3             1.3   \n",
       "195        James Harden  29.0   HOU  48.2            58.8             6.7   \n",
       "264      Kenneth Faried  29.0   HOU  25.7            65.2             5.4   \n",
       "\n",
       "     Restricted_FGM  Paint_FG%  Paint_FGA  Paint_FGM  ...    GP      MP  ORB%  \\\n",
       "27              1.2       41.2        1.1        0.5  ...  76.0  2028.0   1.3   \n",
       "64              0.7       45.4        2.6        1.2  ...  58.0  1857.0   2.1   \n",
       "66              6.5       34.9        1.6        0.6  ...  67.0  2249.0  14.4   \n",
       "139             2.0       22.4        1.4        0.3  ...  68.0  2158.0   0.9   \n",
       "150             0.2       33.3        0.1        0.0  ...  51.0   641.0   4.1   \n",
       "155             0.7       37.8        0.5        0.2  ...  73.0  1473.0   2.2   \n",
       "170             0.6       15.4        0.2        0.0  ...  62.0  1481.0   1.9   \n",
       "175             0.7        0.0        0.1        0.0  ...  28.0   221.0  10.3   \n",
       "195             3.9       44.8        3.6        1.6  ...  78.0  2867.0   2.5   \n",
       "264             3.5       37.1        0.9        0.4  ...  37.0   728.0  14.4   \n",
       "\n",
       "      PER  Stl%   TO%  TRB%    TS%  USG%  Cluster  \n",
       "27    7.7   1.1  10.0   4.4  0.503  14.5        5  \n",
       "64   19.7   3.0  15.8   7.9  0.560  22.5        0  \n",
       "66   23.8   1.0  10.0  20.8  0.658  18.2        7  \n",
       "139  12.2   0.9   8.2   3.8  0.549  22.0        6  \n",
       "150   9.2   1.5   4.3  10.0  0.480  10.9        5  \n",
       "155  11.4   1.1   8.3   6.8  0.555  19.5        6  \n",
       "170   9.1   1.9   9.7   6.5  0.499  14.5        6  \n",
       "175  10.0   1.6  21.6  11.8  0.562  11.8        8  \n",
       "195  30.6   2.7  14.5  10.0  0.616  40.5        4  \n",
       "264  21.6   1.1   9.7  18.8  0.622  20.3        3  \n",
       "\n",
       "[10 rows x 42 columns]"
      ]
     },
     "execution_count": 20,
     "metadata": {},
     "output_type": "execute_result"
    }
   ],
   "source": [
    "Players19.loc[Players19['Teams'] == 'HOU']"
   ]
  },
  {
   "cell_type": "markdown",
   "metadata": {},
   "source": [
    "### Visually analyze mean"
   ]
  },
  {
   "cell_type": "code",
   "execution_count": 21,
   "metadata": {},
   "outputs": [
    {
     "data": {
      "text/plain": [
       "age                   25.643594\n",
       "Pts                   20.553608\n",
       "Restricted_FG%        61.556406\n",
       "Restricted_FGA         2.989396\n",
       "Restricted_FGM         1.884389\n",
       "Paint_FG%             37.313549\n",
       "Paint_FGA              1.378792\n",
       "Paint_FGM              0.539912\n",
       "Mid_FG%               35.133137\n",
       "Mid_FGA                1.192489\n",
       "Mid_FGM                0.467452\n",
       "Left_Corner_FG%       32.514138\n",
       "Left_Corner_FGA        0.384536\n",
       "Left_Corner_FGM        0.148601\n",
       "Right_Corner_FG%      31.647865\n",
       "Right_Corner_FGA       0.351105\n",
       "Right_Corner_FGM       0.133137\n",
       "Above_Break_FG%       30.239470\n",
       "Above_Break_FGA        2.359352\n",
       "Above_Break_FGM        0.811340\n",
       "FG%                   21.154541\n",
       "3PAr                   0.357370\n",
       "FGA                   16.727246\n",
       "FGM                    7.645508\n",
       "FT%                   33.906183\n",
       "FTAr                   0.259240\n",
       "As%                   13.684831\n",
       "Blk%                   1.837997\n",
       "DRB%                  15.278351\n",
       "Fouls                  4.336819\n",
       "GP                    49.683358\n",
       "MP                  1185.503682\n",
       "ORB%                   4.962297\n",
       "PER                   14.214875\n",
       "Stl%                   1.573785\n",
       "TO%                   13.134904\n",
       "TRB%                  10.122386\n",
       "TS%                    0.551109\n",
       "USG%                  19.119882\n",
       "Cluster                4.039764\n",
       "dtype: float64"
      ]
     },
     "execution_count": 21,
     "metadata": {},
     "output_type": "execute_result"
    }
   ],
   "source": [
    "Players19.mean()"
   ]
  },
  {
   "cell_type": "markdown",
   "metadata": {},
   "source": [
    "### We can look at Clusters"
   ]
  },
  {
   "cell_type": "code",
   "execution_count": 22,
   "metadata": {},
   "outputs": [
    {
     "data": {
      "text/plain": [
       "6            Alec Burks\n",
       "7           Alex Caruso\n",
       "13        Allonzo Trier\n",
       "25     Antonio Blakeney\n",
       "37       Brad Wanamaker\n",
       "             ...       \n",
       "885     Trahson Burrell\n",
       "894        Trevon Duval\n",
       "913         Vander Blue\n",
       "915         Vitto Brown\n",
       "919         Will Cherry\n",
       "Name: name, Length: 99, dtype: object"
      ]
     },
     "execution_count": 22,
     "metadata": {},
     "output_type": "execute_result"
    }
   ],
   "source": [
    "Players19.loc[Players19['Cluster'] == 2, 'name']"
   ]
  },
  {
   "cell_type": "markdown",
   "metadata": {},
   "source": [
    "### Create DF of Cluster 1"
   ]
  },
  {
   "cell_type": "code",
   "execution_count": 23,
   "metadata": {
    "scrolled": false
   },
   "outputs": [],
   "source": [
    "Offensive_Forwards19 = Players19.loc[Players19['Cluster'] == 1]"
   ]
  },
  {
   "cell_type": "code",
   "execution_count": 24,
   "metadata": {},
   "outputs": [],
   "source": [
    "Offensive_Forwards = Offensive_Forwards19.set_index(['name'])"
   ]
  },
  {
   "cell_type": "code",
   "execution_count": 25,
   "metadata": {},
   "outputs": [],
   "source": [
    "Offensive_Forwards.drop(columns=['Teams','age'],inplace=True)"
   ]
  },
  {
   "cell_type": "code",
   "execution_count": 26,
   "metadata": {},
   "outputs": [],
   "source": [
    "OF_sparse = sparse.csr_matrix(Offensive_Forwards.fillna(0))"
   ]
  },
  {
   "cell_type": "markdown",
   "metadata": {},
   "source": [
    "### Create Recommendation System"
   ]
  },
  {
   "cell_type": "code",
   "execution_count": 27,
   "metadata": {},
   "outputs": [],
   "source": [
    "recommender = pairwise_distances(Offensive_Forwards, metric='cosine')\n",
    "# Thanks Rachel Koenig!!"
   ]
  },
  {
   "cell_type": "code",
   "execution_count": 28,
   "metadata": {},
   "outputs": [],
   "source": [
    "recommender_df = pd.DataFrame(recommender, index=Offensive_Forwards.index, columns=Offensive_Forwards.index)"
   ]
  },
  {
   "cell_type": "code",
   "execution_count": 29,
   "metadata": {},
   "outputs": [
    {
     "data": {
      "text/html": [
       "<div>\n",
       "<style scoped>\n",
       "    .dataframe tbody tr th:only-of-type {\n",
       "        vertical-align: middle;\n",
       "    }\n",
       "\n",
       "    .dataframe tbody tr th {\n",
       "        vertical-align: top;\n",
       "    }\n",
       "\n",
       "    .dataframe thead th {\n",
       "        text-align: right;\n",
       "    }\n",
       "</style>\n",
       "<table border=\"1\" class=\"dataframe\">\n",
       "  <thead>\n",
       "    <tr style=\"text-align: right;\">\n",
       "      <th>name</th>\n",
       "      <th>Aaron Gordon</th>\n",
       "      <th>Al Horford</th>\n",
       "      <th>Alex Len</th>\n",
       "      <th>Bobby Portis</th>\n",
       "      <th>Cheick Diallo</th>\n",
       "      <th>Dewayne Dedmon</th>\n",
       "      <th>Frank Kaminsky</th>\n",
       "      <th>Gorgui Dieng</th>\n",
       "      <th>JaMychal Green</th>\n",
       "      <th>Jabari Parker</th>\n",
       "      <th>...</th>\n",
       "      <th>Raphiael Putney</th>\n",
       "      <th>Retin Obasohan</th>\n",
       "      <th>Roscoe Smith</th>\n",
       "      <th>Sir'Dominic Pointer</th>\n",
       "      <th>Stephan Hicks</th>\n",
       "      <th>Troy Williams</th>\n",
       "      <th>Tyler Cavanaugh</th>\n",
       "      <th>Wenyen Gabriel</th>\n",
       "      <th>Yuta Watanabe</th>\n",
       "      <th>Zak Irvin</th>\n",
       "    </tr>\n",
       "    <tr>\n",
       "      <th>name</th>\n",
       "      <th></th>\n",
       "      <th></th>\n",
       "      <th></th>\n",
       "      <th></th>\n",
       "      <th></th>\n",
       "      <th></th>\n",
       "      <th></th>\n",
       "      <th></th>\n",
       "      <th></th>\n",
       "      <th></th>\n",
       "      <th></th>\n",
       "      <th></th>\n",
       "      <th></th>\n",
       "      <th></th>\n",
       "      <th></th>\n",
       "      <th></th>\n",
       "      <th></th>\n",
       "      <th></th>\n",
       "      <th></th>\n",
       "      <th></th>\n",
       "      <th></th>\n",
       "    </tr>\n",
       "  </thead>\n",
       "  <tbody>\n",
       "    <tr>\n",
       "      <th>Aaron Gordon</th>\n",
       "      <td>0.000000</td>\n",
       "      <td>4.298086e-04</td>\n",
       "      <td>6.431750e-04</td>\n",
       "      <td>0.001310</td>\n",
       "      <td>0.010192</td>\n",
       "      <td>0.000640</td>\n",
       "      <td>0.005943</td>\n",
       "      <td>0.003957</td>\n",
       "      <td>0.001242</td>\n",
       "      <td>0.000478</td>\n",
       "      <td>...</td>\n",
       "      <td>0.004471</td>\n",
       "      <td>0.008704</td>\n",
       "      <td>0.041921</td>\n",
       "      <td>0.008200</td>\n",
       "      <td>0.002345</td>\n",
       "      <td>0.006658</td>\n",
       "      <td>0.004719</td>\n",
       "      <td>0.009397</td>\n",
       "      <td>0.004874</td>\n",
       "      <td>0.005960</td>\n",
       "    </tr>\n",
       "    <tr>\n",
       "      <th>Al Horford</th>\n",
       "      <td>0.000430</td>\n",
       "      <td>1.110223e-16</td>\n",
       "      <td>3.742614e-04</td>\n",
       "      <td>0.000425</td>\n",
       "      <td>0.007643</td>\n",
       "      <td>0.000267</td>\n",
       "      <td>0.004232</td>\n",
       "      <td>0.002338</td>\n",
       "      <td>0.000797</td>\n",
       "      <td>0.000143</td>\n",
       "      <td>...</td>\n",
       "      <td>0.003756</td>\n",
       "      <td>0.007575</td>\n",
       "      <td>0.038098</td>\n",
       "      <td>0.006669</td>\n",
       "      <td>0.002035</td>\n",
       "      <td>0.005446</td>\n",
       "      <td>0.003896</td>\n",
       "      <td>0.008220</td>\n",
       "      <td>0.004072</td>\n",
       "      <td>0.004765</td>\n",
       "    </tr>\n",
       "    <tr>\n",
       "      <th>Alex Len</th>\n",
       "      <td>0.000643</td>\n",
       "      <td>3.742614e-04</td>\n",
       "      <td>1.110223e-16</td>\n",
       "      <td>0.000450</td>\n",
       "      <td>0.007070</td>\n",
       "      <td>0.000134</td>\n",
       "      <td>0.003388</td>\n",
       "      <td>0.001637</td>\n",
       "      <td>0.000246</td>\n",
       "      <td>0.000168</td>\n",
       "      <td>...</td>\n",
       "      <td>0.003477</td>\n",
       "      <td>0.006867</td>\n",
       "      <td>0.036623</td>\n",
       "      <td>0.006216</td>\n",
       "      <td>0.002269</td>\n",
       "      <td>0.005126</td>\n",
       "      <td>0.003566</td>\n",
       "      <td>0.007208</td>\n",
       "      <td>0.004006</td>\n",
       "      <td>0.005241</td>\n",
       "    </tr>\n",
       "    <tr>\n",
       "      <th>Bobby Portis</th>\n",
       "      <td>0.001310</td>\n",
       "      <td>4.245930e-04</td>\n",
       "      <td>4.502902e-04</td>\n",
       "      <td>0.000000</td>\n",
       "      <td>0.005978</td>\n",
       "      <td>0.000373</td>\n",
       "      <td>0.003088</td>\n",
       "      <td>0.001489</td>\n",
       "      <td>0.000643</td>\n",
       "      <td>0.000338</td>\n",
       "      <td>...</td>\n",
       "      <td>0.003429</td>\n",
       "      <td>0.006738</td>\n",
       "      <td>0.035171</td>\n",
       "      <td>0.005699</td>\n",
       "      <td>0.002263</td>\n",
       "      <td>0.004609</td>\n",
       "      <td>0.003374</td>\n",
       "      <td>0.007316</td>\n",
       "      <td>0.003871</td>\n",
       "      <td>0.004811</td>\n",
       "    </tr>\n",
       "    <tr>\n",
       "      <th>Cheick Diallo</th>\n",
       "      <td>0.010192</td>\n",
       "      <td>7.643144e-03</td>\n",
       "      <td>7.070098e-03</td>\n",
       "      <td>0.005978</td>\n",
       "      <td>0.000000</td>\n",
       "      <td>0.007330</td>\n",
       "      <td>0.003132</td>\n",
       "      <td>0.006234</td>\n",
       "      <td>0.006501</td>\n",
       "      <td>0.008006</td>\n",
       "      <td>...</td>\n",
       "      <td>0.009379</td>\n",
       "      <td>0.013479</td>\n",
       "      <td>0.027857</td>\n",
       "      <td>0.009339</td>\n",
       "      <td>0.010072</td>\n",
       "      <td>0.009167</td>\n",
       "      <td>0.009602</td>\n",
       "      <td>0.009298</td>\n",
       "      <td>0.009518</td>\n",
       "      <td>0.009087</td>\n",
       "    </tr>\n",
       "  </tbody>\n",
       "</table>\n",
       "<p>5 rows × 66 columns</p>\n",
       "</div>"
      ],
      "text/plain": [
       "name           Aaron Gordon    Al Horford      Alex Len  Bobby Portis  \\\n",
       "name                                                                    \n",
       "Aaron Gordon       0.000000  4.298086e-04  6.431750e-04      0.001310   \n",
       "Al Horford         0.000430  1.110223e-16  3.742614e-04      0.000425   \n",
       "Alex Len           0.000643  3.742614e-04  1.110223e-16      0.000450   \n",
       "Bobby Portis       0.001310  4.245930e-04  4.502902e-04      0.000000   \n",
       "Cheick Diallo      0.010192  7.643144e-03  7.070098e-03      0.005978   \n",
       "\n",
       "name           Cheick Diallo  Dewayne Dedmon  Frank Kaminsky  Gorgui Dieng  \\\n",
       "name                                                                         \n",
       "Aaron Gordon        0.010192        0.000640        0.005943      0.003957   \n",
       "Al Horford          0.007643        0.000267        0.004232      0.002338   \n",
       "Alex Len            0.007070        0.000134        0.003388      0.001637   \n",
       "Bobby Portis        0.005978        0.000373        0.003088      0.001489   \n",
       "Cheick Diallo       0.000000        0.007330        0.003132      0.006234   \n",
       "\n",
       "name           JaMychal Green  Jabari Parker  ...  Raphiael Putney  \\\n",
       "name                                          ...                    \n",
       "Aaron Gordon         0.001242       0.000478  ...         0.004471   \n",
       "Al Horford           0.000797       0.000143  ...         0.003756   \n",
       "Alex Len             0.000246       0.000168  ...         0.003477   \n",
       "Bobby Portis         0.000643       0.000338  ...         0.003429   \n",
       "Cheick Diallo        0.006501       0.008006  ...         0.009379   \n",
       "\n",
       "name           Retin Obasohan  Roscoe Smith  Sir'Dominic Pointer  \\\n",
       "name                                                               \n",
       "Aaron Gordon         0.008704      0.041921             0.008200   \n",
       "Al Horford           0.007575      0.038098             0.006669   \n",
       "Alex Len             0.006867      0.036623             0.006216   \n",
       "Bobby Portis         0.006738      0.035171             0.005699   \n",
       "Cheick Diallo        0.013479      0.027857             0.009339   \n",
       "\n",
       "name           Stephan Hicks  Troy Williams  Tyler Cavanaugh  Wenyen Gabriel  \\\n",
       "name                                                                           \n",
       "Aaron Gordon        0.002345       0.006658         0.004719        0.009397   \n",
       "Al Horford          0.002035       0.005446         0.003896        0.008220   \n",
       "Alex Len            0.002269       0.005126         0.003566        0.007208   \n",
       "Bobby Portis        0.002263       0.004609         0.003374        0.007316   \n",
       "Cheick Diallo       0.010072       0.009167         0.009602        0.009298   \n",
       "\n",
       "name           Yuta Watanabe  Zak Irvin  \n",
       "name                                     \n",
       "Aaron Gordon        0.004874   0.005960  \n",
       "Al Horford          0.004072   0.004765  \n",
       "Alex Len            0.004006   0.005241  \n",
       "Bobby Portis        0.003871   0.004811  \n",
       "Cheick Diallo       0.009518   0.009087  \n",
       "\n",
       "[5 rows x 66 columns]"
      ]
     },
     "execution_count": 29,
     "metadata": {},
     "output_type": "execute_result"
    }
   ],
   "source": [
    "recommender_df.head()"
   ]
  },
  {
   "cell_type": "code",
   "execution_count": 30,
   "metadata": {},
   "outputs": [
    {
     "data": {
      "text/plain": [
       "age                   25.515152\n",
       "Pts                   23.422727\n",
       "Restricted_FG%        65.006061\n",
       "Restricted_FGA         4.078788\n",
       "Restricted_FGM         2.646970\n",
       "Paint_FG%             40.639394\n",
       "Paint_FGA              1.834848\n",
       "Paint_FGM              0.740909\n",
       "Mid_FG%               36.866667\n",
       "Mid_FGA                1.237879\n",
       "Mid_FGM                0.484848\n",
       "Left_Corner_FG%       33.248485\n",
       "Left_Corner_FGA        0.348485\n",
       "Left_Corner_FGM        0.125758\n",
       "Right_Corner_FG%      27.912121\n",
       "Right_Corner_FGA       0.363636\n",
       "Right_Corner_FGM       0.125758\n",
       "Above_Break_FG%       34.006061\n",
       "Above_Break_FGA        2.203030\n",
       "Above_Break_FGM        0.737879\n",
       "FG%                   30.775030\n",
       "3PAr                   0.278712\n",
       "FGA                   18.365152\n",
       "FGM                    8.937879\n",
       "FT%                   47.544682\n",
       "FTAr                   0.280667\n",
       "As%                   11.862121\n",
       "Blk%                   2.754545\n",
       "DRB%                  19.631818\n",
       "Fouls                  4.634848\n",
       "GP                    46.530303\n",
       "MP                  1192.303030\n",
       "ORB%                   6.684848\n",
       "PER                   17.107576\n",
       "Stl%                   1.648485\n",
       "TO%                   12.831818\n",
       "TRB%                  13.166667\n",
       "TS%                    0.572045\n",
       "USG%                  21.251515\n",
       "Cluster                1.000000\n",
       "dtype: float64"
      ]
     },
     "execution_count": 30,
     "metadata": {},
     "output_type": "execute_result"
    }
   ],
   "source": [
    "Offensive_Forwards19.mean()"
   ]
  },
  {
   "cell_type": "markdown",
   "metadata": {},
   "source": [
    "### Return 10 most similar Players in Cluster"
   ]
  },
  {
   "cell_type": "code",
   "execution_count": 31,
   "metadata": {},
   "outputs": [
    {
     "name": "stdout",
     "output_type": "stream",
     "text": [
      "Players\n",
      "\n",
      "10 closest Players\n",
      "name\n",
      "Pascal Siakam      0.000047\n",
      "Thaddeus Young     0.000060\n",
      "Marc Gasol         0.000245\n",
      "Paul Millsap       0.000254\n",
      "Serge Ibaka        0.000314\n",
      "Myles Turner       0.000364\n",
      "Lauri Markkanen    0.000393\n",
      "Al Horford         0.000430\n",
      "Jabari Parker      0.000478\n",
      "Rudy Gay           0.000513\n",
      "Name: Aaron Gordon, dtype: float64\n",
      "\n"
     ]
    }
   ],
   "source": [
    "search = 'Aaron Gordon'\n",
    "\n",
    "for name in Offensive_Forwards19.loc[Offensive_Forwards19['name'].str.contains(search), 'name']:\n",
    "    print('Players')\n",
    "    print('')\n",
    "    print('10 closest Players')\n",
    "    print(recommender_df[name].sort_values()[1:11])\n",
    "    print('')\n",
    "#     Iterated on Riley Dallas code"
   ]
  },
  {
   "cell_type": "code",
   "execution_count": 32,
   "metadata": {},
   "outputs": [
    {
     "data": {
      "image/png": "[encoded data removed]",
      "text/plain": [
       "<Figure size 432x288 with 1 Axes>"
      ]
     },
     "metadata": {
      "needs_background": "light"
     },
     "output_type": "display_data"
    }
   ],
   "source": [
    "plt.hist(Offensive_Forwards19['TS%'])\n",
    "plt.title('Offensive Forwards TS%');"
   ]
  },
  {
   "cell_type": "code",
   "execution_count": 33,
   "metadata": {},
   "outputs": [
    {
     "data": {
      "image/png": "[encoded data removed]",
      "text/plain": [
       "<Figure size 432x288 with 1 Axes>"
      ]
     },
     "metadata": {
      "needs_background": "light"
     },
     "output_type": "display_data"
    }
   ],
   "source": [
    "plt.hist(Offensive_Forwards19['DRB%'])\n",
    "plt.title('Defensive Rebound %');"
   ]
  },
  {
   "cell_type": "code",
   "execution_count": 34,
   "metadata": {},
   "outputs": [
    {
     "data": {
      "text/plain": [
       "29           Bam Adebayo\n",
       "33       Bismack Biyombo\n",
       "62         Chris Boucher\n",
       "66          Clint Capela\n",
       "67           Cody Zeller\n",
       "             ...        \n",
       "807         Norvel Pelle\n",
       "832      Richard Solomon\n",
       "840        Ryan Anderson\n",
       "862    Stephen Zimmerman\n",
       "930           Zach Smith\n",
       "Name: name, Length: 67, dtype: object"
      ]
     },
     "execution_count": 34,
     "metadata": {},
     "output_type": "execute_result"
    }
   ],
   "source": [
    "Players19.loc[Players19['Cluster'] == 7, 'name']"
   ]
  },
  {
   "cell_type": "markdown",
   "metadata": {},
   "source": [
    "### Create DF of Cluster 7"
   ]
  },
  {
   "cell_type": "code",
   "execution_count": 35,
   "metadata": {},
   "outputs": [],
   "source": [
    "Paint_Bigs19 = Players19.loc[Players19['Cluster'] == 7]"
   ]
  },
  {
   "cell_type": "code",
   "execution_count": 36,
   "metadata": {},
   "outputs": [],
   "source": [
    "Paint_Bigs = Paint_Bigs19.set_index(['name'])"
   ]
  },
  {
   "cell_type": "code",
   "execution_count": 37,
   "metadata": {},
   "outputs": [],
   "source": [
    "Paint_Bigs.drop(columns=['Teams','age'],inplace=True)"
   ]
  },
  {
   "cell_type": "code",
   "execution_count": 38,
   "metadata": {},
   "outputs": [],
   "source": [
    "Paint_sparse = sparse.csr_matrix(Paint_Bigs.fillna(0))"
   ]
  },
  {
   "cell_type": "markdown",
   "metadata": {},
   "source": [
    "### Build Recommendation"
   ]
  },
  {
   "cell_type": "code",
   "execution_count": 39,
   "metadata": {},
   "outputs": [],
   "source": [
    "recommender = pairwise_distances(Paint_Bigs, metric='cosine')"
   ]
  },
  {
   "cell_type": "code",
   "execution_count": 40,
   "metadata": {},
   "outputs": [],
   "source": [
    "recommender_df = pd.DataFrame(recommender, index=Paint_Bigs.index, columns=Paint_Bigs.index)"
   ]
  },
  {
   "cell_type": "code",
   "execution_count": 41,
   "metadata": {},
   "outputs": [
    {
     "data": {
      "text/html": [
       "<div>\n",
       "<style scoped>\n",
       "    .dataframe tbody tr th:only-of-type {\n",
       "        vertical-align: middle;\n",
       "    }\n",
       "\n",
       "    .dataframe tbody tr th {\n",
       "        vertical-align: top;\n",
       "    }\n",
       "\n",
       "    .dataframe thead th {\n",
       "        text-align: right;\n",
       "    }\n",
       "</style>\n",
       "<table border=\"1\" class=\"dataframe\">\n",
       "  <thead>\n",
       "    <tr style=\"text-align: right;\">\n",
       "      <th>name</th>\n",
       "      <th>Bam Adebayo</th>\n",
       "      <th>Bismack Biyombo</th>\n",
       "      <th>Chris Boucher</th>\n",
       "      <th>Clint Capela</th>\n",
       "      <th>Cody Zeller</th>\n",
       "      <th>Damian Jones</th>\n",
       "      <th>DeAndre Jordan</th>\n",
       "      <th>Derrick Favors</th>\n",
       "      <th>Drew Eubanks</th>\n",
       "      <th>Dwight Powell</th>\n",
       "      <th>...</th>\n",
       "      <th>Jon Horford</th>\n",
       "      <th>Kevin Young</th>\n",
       "      <th>Khadeem Lattin</th>\n",
       "      <th>Kostas Antetokounmpo</th>\n",
       "      <th>Nino Johnson</th>\n",
       "      <th>Norvel Pelle</th>\n",
       "      <th>Richard Solomon</th>\n",
       "      <th>Ryan Anderson</th>\n",
       "      <th>Stephen Zimmerman</th>\n",
       "      <th>Zach Smith</th>\n",
       "    </tr>\n",
       "    <tr>\n",
       "      <th>name</th>\n",
       "      <th></th>\n",
       "      <th></th>\n",
       "      <th></th>\n",
       "      <th></th>\n",
       "      <th></th>\n",
       "      <th></th>\n",
       "      <th></th>\n",
       "      <th></th>\n",
       "      <th></th>\n",
       "      <th></th>\n",
       "      <th></th>\n",
       "      <th></th>\n",
       "      <th></th>\n",
       "      <th></th>\n",
       "      <th></th>\n",
       "      <th></th>\n",
       "      <th></th>\n",
       "      <th></th>\n",
       "      <th></th>\n",
       "      <th></th>\n",
       "      <th></th>\n",
       "    </tr>\n",
       "  </thead>\n",
       "  <tbody>\n",
       "    <tr>\n",
       "      <th>Bam Adebayo</th>\n",
       "      <td>2.220446e-16</td>\n",
       "      <td>2.875567e-03</td>\n",
       "      <td>0.147011</td>\n",
       "      <td>4.620205e-04</td>\n",
       "      <td>2.933777e-04</td>\n",
       "      <td>0.019643</td>\n",
       "      <td>0.000307</td>\n",
       "      <td>0.000193</td>\n",
       "      <td>0.238963</td>\n",
       "      <td>0.000715</td>\n",
       "      <td>...</td>\n",
       "      <td>0.056752</td>\n",
       "      <td>0.011112</td>\n",
       "      <td>0.027186</td>\n",
       "      <td>0.004317</td>\n",
       "      <td>0.020533</td>\n",
       "      <td>0.011655</td>\n",
       "      <td>0.006671</td>\n",
       "      <td>0.011535</td>\n",
       "      <td>0.012753</td>\n",
       "      <td>0.007430</td>\n",
       "    </tr>\n",
       "    <tr>\n",
       "      <th>Bismack Biyombo</th>\n",
       "      <td>2.875567e-03</td>\n",
       "      <td>2.220446e-16</td>\n",
       "      <td>0.128171</td>\n",
       "      <td>4.252329e-03</td>\n",
       "      <td>1.787777e-03</td>\n",
       "      <td>0.009013</td>\n",
       "      <td>0.003559</td>\n",
       "      <td>0.002522</td>\n",
       "      <td>0.198587</td>\n",
       "      <td>0.003343</td>\n",
       "      <td>...</td>\n",
       "      <td>0.047272</td>\n",
       "      <td>0.008595</td>\n",
       "      <td>0.021695</td>\n",
       "      <td>0.005320</td>\n",
       "      <td>0.014104</td>\n",
       "      <td>0.008120</td>\n",
       "      <td>0.005874</td>\n",
       "      <td>0.008915</td>\n",
       "      <td>0.011001</td>\n",
       "      <td>0.006031</td>\n",
       "    </tr>\n",
       "    <tr>\n",
       "      <th>Chris Boucher</th>\n",
       "      <td>1.470110e-01</td>\n",
       "      <td>1.281707e-01</td>\n",
       "      <td>0.000000</td>\n",
       "      <td>1.519114e-01</td>\n",
       "      <td>1.392269e-01</td>\n",
       "      <td>0.107357</td>\n",
       "      <td>0.150744</td>\n",
       "      <td>0.139910</td>\n",
       "      <td>0.195909</td>\n",
       "      <td>0.134628</td>\n",
       "      <td>...</td>\n",
       "      <td>0.103681</td>\n",
       "      <td>0.130057</td>\n",
       "      <td>0.111505</td>\n",
       "      <td>0.134907</td>\n",
       "      <td>0.125510</td>\n",
       "      <td>0.132719</td>\n",
       "      <td>0.128414</td>\n",
       "      <td>0.109336</td>\n",
       "      <td>0.120634</td>\n",
       "      <td>0.124979</td>\n",
       "    </tr>\n",
       "    <tr>\n",
       "      <th>Clint Capela</th>\n",
       "      <td>4.620205e-04</td>\n",
       "      <td>4.252329e-03</td>\n",
       "      <td>0.151911</td>\n",
       "      <td>1.110223e-16</td>\n",
       "      <td>1.021073e-03</td>\n",
       "      <td>0.022873</td>\n",
       "      <td>0.000072</td>\n",
       "      <td>0.000714</td>\n",
       "      <td>0.247707</td>\n",
       "      <td>0.000989</td>\n",
       "      <td>...</td>\n",
       "      <td>0.060040</td>\n",
       "      <td>0.011748</td>\n",
       "      <td>0.029178</td>\n",
       "      <td>0.005059</td>\n",
       "      <td>0.022457</td>\n",
       "      <td>0.012899</td>\n",
       "      <td>0.007673</td>\n",
       "      <td>0.012571</td>\n",
       "      <td>0.013588</td>\n",
       "      <td>0.008035</td>\n",
       "    </tr>\n",
       "    <tr>\n",
       "      <th>Cody Zeller</th>\n",
       "      <td>2.933777e-04</td>\n",
       "      <td>1.787777e-03</td>\n",
       "      <td>0.139227</td>\n",
       "      <td>1.021073e-03</td>\n",
       "      <td>1.110223e-16</td>\n",
       "      <td>0.015901</td>\n",
       "      <td>0.000785</td>\n",
       "      <td>0.000281</td>\n",
       "      <td>0.226270</td>\n",
       "      <td>0.000873</td>\n",
       "      <td>...</td>\n",
       "      <td>0.052564</td>\n",
       "      <td>0.009904</td>\n",
       "      <td>0.025312</td>\n",
       "      <td>0.003732</td>\n",
       "      <td>0.018067</td>\n",
       "      <td>0.009981</td>\n",
       "      <td>0.005558</td>\n",
       "      <td>0.009921</td>\n",
       "      <td>0.011707</td>\n",
       "      <td>0.006553</td>\n",
       "    </tr>\n",
       "  </tbody>\n",
       "</table>\n",
       "<p>5 rows × 67 columns</p>\n",
       "</div>"
      ],
      "text/plain": [
       "name              Bam Adebayo  Bismack Biyombo  Chris Boucher  Clint Capela  \\\n",
       "name                                                                          \n",
       "Bam Adebayo      2.220446e-16     2.875567e-03       0.147011  4.620205e-04   \n",
       "Bismack Biyombo  2.875567e-03     2.220446e-16       0.128171  4.252329e-03   \n",
       "Chris Boucher    1.470110e-01     1.281707e-01       0.000000  1.519114e-01   \n",
       "Clint Capela     4.620205e-04     4.252329e-03       0.151911  1.110223e-16   \n",
       "Cody Zeller      2.933777e-04     1.787777e-03       0.139227  1.021073e-03   \n",
       "\n",
       "name              Cody Zeller  Damian Jones  DeAndre Jordan  Derrick Favors  \\\n",
       "name                                                                          \n",
       "Bam Adebayo      2.933777e-04      0.019643        0.000307        0.000193   \n",
       "Bismack Biyombo  1.787777e-03      0.009013        0.003559        0.002522   \n",
       "Chris Boucher    1.392269e-01      0.107357        0.150744        0.139910   \n",
       "Clint Capela     1.021073e-03      0.022873        0.000072        0.000714   \n",
       "Cody Zeller      1.110223e-16      0.015901        0.000785        0.000281   \n",
       "\n",
       "name             Drew Eubanks  Dwight Powell  ...  Jon Horford  Kevin Young  \\\n",
       "name                                          ...                             \n",
       "Bam Adebayo          0.238963       0.000715  ...     0.056752     0.011112   \n",
       "Bismack Biyombo      0.198587       0.003343  ...     0.047272     0.008595   \n",
       "Chris Boucher        0.195909       0.134628  ...     0.103681     0.130057   \n",
       "Clint Capela         0.247707       0.000989  ...     0.060040     0.011748   \n",
       "Cody Zeller          0.226270       0.000873  ...     0.052564     0.009904   \n",
       "\n",
       "name             Khadeem Lattin  Kostas Antetokounmpo  Nino Johnson  \\\n",
       "name                                                                  \n",
       "Bam Adebayo            0.027186              0.004317      0.020533   \n",
       "Bismack Biyombo        0.021695              0.005320      0.014104   \n",
       "Chris Boucher          0.111505              0.134907      0.125510   \n",
       "Clint Capela           0.029178              0.005059      0.022457   \n",
       "Cody Zeller            0.025312              0.003732      0.018067   \n",
       "\n",
       "name             Norvel Pelle  Richard Solomon  Ryan Anderson  \\\n",
       "name                                                            \n",
       "Bam Adebayo          0.011655         0.006671       0.011535   \n",
       "Bismack Biyombo      0.008120         0.005874       0.008915   \n",
       "Chris Boucher        0.132719         0.128414       0.109336   \n",
       "Clint Capela         0.012899         0.007673       0.012571   \n",
       "Cody Zeller          0.009981         0.005558       0.009921   \n",
       "\n",
       "name             Stephen Zimmerman  Zach Smith  \n",
       "name                                            \n",
       "Bam Adebayo               0.012753    0.007430  \n",
       "Bismack Biyombo           0.011001    0.006031  \n",
       "Chris Boucher             0.120634    0.124979  \n",
       "Clint Capela              0.013588    0.008035  \n",
       "Cody Zeller               0.011707    0.006553  \n",
       "\n",
       "[5 rows x 67 columns]"
      ]
     },
     "execution_count": 41,
     "metadata": {},
     "output_type": "execute_result"
    }
   ],
   "source": [
    "recommender_df.head()"
   ]
  },
  {
   "cell_type": "code",
   "execution_count": 42,
   "metadata": {},
   "outputs": [],
   "source": [
    "# plt.hist(LowUsage_Guards19['Restricted_FG%'])"
   ]
  },
  {
   "cell_type": "code",
   "execution_count": 43,
   "metadata": {},
   "outputs": [
    {
     "data": {
      "text/plain": [
       "age                  25.462687\n",
       "Pts                  19.331343\n",
       "Restricted_FG%       66.573134\n",
       "Restricted_FGA        3.843284\n",
       "Restricted_FGM        2.580597\n",
       "Paint_FG%            38.749254\n",
       "Paint_FGA             1.153731\n",
       "Paint_FGM             0.468657\n",
       "Mid_FG%              23.885075\n",
       "Mid_FGA               0.359701\n",
       "Mid_FGM               0.114925\n",
       "Left_Corner_FG%       8.362687\n",
       "Left_Corner_FGA       0.038806\n",
       "Left_Corner_FGM       0.007463\n",
       "Right_Corner_FG%      8.041791\n",
       "Right_Corner_FGA      0.050746\n",
       "Right_Corner_FGM      0.013433\n",
       "Above_Break_FG%      10.049254\n",
       "Above_Break_FGA       0.200000\n",
       "Above_Break_FGM       0.055224\n",
       "FG%                  27.920299\n",
       "3PAr                  0.054552\n",
       "FGA                  13.749254\n",
       "FGM                   7.791045\n",
       "FT%                  31.140478\n",
       "FTAr                  0.415045\n",
       "As%                   8.741791\n",
       "Blk%                  4.443284\n",
       "DRB%                 22.861194\n",
       "Fouls                 5.879104\n",
       "GP                   48.477612\n",
       "MP                  977.014925\n",
       "ORB%                 12.250746\n",
       "PER                  17.941791\n",
       "Stl%                  1.397015\n",
       "TO%                  15.652239\n",
       "TRB%                 17.562687\n",
       "TS%                   0.603896\n",
       "USG%                 17.043284\n",
       "Cluster               7.000000\n",
       "dtype: float64"
      ]
     },
     "execution_count": 43,
     "metadata": {},
     "output_type": "execute_result"
    }
   ],
   "source": [
    "Paint_Bigs19.mean()"
   ]
  },
  {
   "cell_type": "markdown",
   "metadata": {},
   "source": [
    "### 10 most similar players in Cluster"
   ]
  },
  {
   "cell_type": "code",
   "execution_count": 44,
   "metadata": {},
   "outputs": [
    {
     "name": "stdout",
     "output_type": "stream",
     "text": [
      "Players\n",
      "\n",
      "10 closest Players\n",
      "name\n",
      "Mason Plumlee        0.000231\n",
      "JaVale McGee         0.000253\n",
      "Derrick Favors       0.000281\n",
      "Bam Adebayo          0.000293\n",
      "Mitchell Robinson    0.000354\n",
      "Tristan Thompson     0.000364\n",
      "Kevon Looney         0.000382\n",
      "Hassan Whiteside     0.000460\n",
      "Richaun Holmes       0.000551\n",
      "Ivica Zubac          0.000580\n",
      "Name: Cody Zeller, dtype: float64\n",
      "\n"
     ]
    }
   ],
   "source": [
    "search = 'Cody Zeller'\n",
    "\n",
    "for name in Paint_Bigs19.loc[Paint_Bigs19['name'].str.contains(search), 'name']:\n",
    "    print('Players')\n",
    "    print('')\n",
    "    print('10 closest Players')\n",
    "    print(recommender_df[name].sort_values()[1:11])\n",
    "    print('')"
   ]
  },
  {
   "cell_type": "code",
   "execution_count": 45,
   "metadata": {},
   "outputs": [
    {
     "data": {
      "text/plain": [
       "Text(0.5, 1.0, 'Paint Bigs Restrict Area FG%')"
      ]
     },
     "execution_count": 45,
     "metadata": {},
     "output_type": "execute_result"
    },
    {
     "data": {
      "image/png": "[encoded data removed]",
      "text/plain": [
       "<Figure size 432x288 with 1 Axes>"
      ]
     },
     "metadata": {
      "needs_background": "light"
     },
     "output_type": "display_data"
    }
   ],
   "source": [
    "plt.hist(Paint_Bigs19['Restricted_FG%'])\n",
    "plt.title('Paint Bigs Restrict Area FG%')"
   ]
  },
  {
   "cell_type": "code",
   "execution_count": 46,
   "metadata": {},
   "outputs": [
    {
     "data": {
      "text/plain": [
       "Text(0.5, 1.0, 'Paint Bigs Defensive Rebound%')"
      ]
     },
     "execution_count": 46,
     "metadata": {},
     "output_type": "execute_result"
    },
    {
     "data": {
      "image/png": "[encoded data removed]",
      "text/plain": [
       "<Figure size 432x288 with 1 Axes>"
      ]
     },
     "metadata": {
      "needs_background": "light"
     },
     "output_type": "display_data"
    }
   ],
   "source": [
    "plt.hist(Paint_Bigs19['DRB%'])\n",
    "plt.title('Paint Bigs Defensive Rebound%')"
   ]
  },
  {
   "cell_type": "code",
   "execution_count": 47,
   "metadata": {},
   "outputs": [
    {
     "data": {
      "text/plain": [
       "4        Al-Farouq Aminu\n",
       "9         Alex Poythress\n",
       "10      Alfonzo McKinnie\n",
       "15          Amir Johnson\n",
       "17        Andre Iguodala\n",
       "             ...        \n",
       "865        Tanner McGrew\n",
       "877       Thomas Wimbush\n",
       "886    Travin Thibodeaux\n",
       "921          William Lee\n",
       "923       Xavier Johnson\n",
       "Name: name, Length: 74, dtype: object"
      ]
     },
     "execution_count": 47,
     "metadata": {},
     "output_type": "execute_result"
    }
   ],
   "source": [
    "Players19.loc[Players19['Cluster'] == 8, 'name']"
   ]
  },
  {
   "cell_type": "markdown",
   "metadata": {},
   "source": [
    "### Create DF of Cluster 8"
   ]
  },
  {
   "cell_type": "code",
   "execution_count": 48,
   "metadata": {},
   "outputs": [],
   "source": [
    "Versatile_Forwards19 = Players19.loc[Players19['Cluster'] == 8]"
   ]
  },
  {
   "cell_type": "code",
   "execution_count": 49,
   "metadata": {},
   "outputs": [],
   "source": [
    "Versatile_Forwards = Versatile_Forwards19.set_index(['name'])"
   ]
  },
  {
   "cell_type": "code",
   "execution_count": 50,
   "metadata": {},
   "outputs": [],
   "source": [
    "Versatile_Forwards.drop(columns=['Teams','age'],inplace=True)"
   ]
  },
  {
   "cell_type": "code",
   "execution_count": 51,
   "metadata": {},
   "outputs": [],
   "source": [
    "VF_sparse = sparse.csr_matrix(Versatile_Forwards.fillna(0))"
   ]
  },
  {
   "cell_type": "markdown",
   "metadata": {},
   "source": [
    "### Build Recommendation System"
   ]
  },
  {
   "cell_type": "code",
   "execution_count": 52,
   "metadata": {},
   "outputs": [],
   "source": [
    "recommender = pairwise_distances(Versatile_Forwards, metric='cosine')"
   ]
  },
  {
   "cell_type": "code",
   "execution_count": 53,
   "metadata": {},
   "outputs": [],
   "source": [
    "recommender_df = pd.DataFrame(recommender, index=Versatile_Forwards.index, columns=Versatile_Forwards.index)"
   ]
  },
  {
   "cell_type": "code",
   "execution_count": 54,
   "metadata": {},
   "outputs": [
    {
     "data": {
      "text/html": [
       "<div>\n",
       "<style scoped>\n",
       "    .dataframe tbody tr th:only-of-type {\n",
       "        vertical-align: middle;\n",
       "    }\n",
       "\n",
       "    .dataframe tbody tr th {\n",
       "        vertical-align: top;\n",
       "    }\n",
       "\n",
       "    .dataframe thead th {\n",
       "        text-align: right;\n",
       "    }\n",
       "</style>\n",
       "<table border=\"1\" class=\"dataframe\">\n",
       "  <thead>\n",
       "    <tr style=\"text-align: right;\">\n",
       "      <th>name</th>\n",
       "      <th>Al-Farouq Aminu</th>\n",
       "      <th>Alex Poythress</th>\n",
       "      <th>Alfonzo McKinnie</th>\n",
       "      <th>Amir Johnson</th>\n",
       "      <th>Andre Iguodala</th>\n",
       "      <th>Aron Baynes</th>\n",
       "      <th>Caleb Swanigan</th>\n",
       "      <th>Chimezie Metu</th>\n",
       "      <th>Daniel Theis</th>\n",
       "      <th>David Nwaba</th>\n",
       "      <th>...</th>\n",
       "      <th>Quinton Chievous</th>\n",
       "      <th>Reggis Onwukamuche</th>\n",
       "      <th>Shonn Miller</th>\n",
       "      <th>Stephaun Branch</th>\n",
       "      <th>Tahjere McCall</th>\n",
       "      <th>Tanner McGrew</th>\n",
       "      <th>Thomas Wimbush</th>\n",
       "      <th>Travin Thibodeaux</th>\n",
       "      <th>William Lee</th>\n",
       "      <th>Xavier Johnson</th>\n",
       "    </tr>\n",
       "    <tr>\n",
       "      <th>name</th>\n",
       "      <th></th>\n",
       "      <th></th>\n",
       "      <th></th>\n",
       "      <th></th>\n",
       "      <th></th>\n",
       "      <th></th>\n",
       "      <th></th>\n",
       "      <th></th>\n",
       "      <th></th>\n",
       "      <th></th>\n",
       "      <th></th>\n",
       "      <th></th>\n",
       "      <th></th>\n",
       "      <th></th>\n",
       "      <th></th>\n",
       "      <th></th>\n",
       "      <th></th>\n",
       "      <th></th>\n",
       "      <th></th>\n",
       "      <th></th>\n",
       "      <th></th>\n",
       "    </tr>\n",
       "  </thead>\n",
       "  <tbody>\n",
       "    <tr>\n",
       "      <th>Al-Farouq Aminu</th>\n",
       "      <td>0.000000</td>\n",
       "      <td>0.041807</td>\n",
       "      <td>0.002792</td>\n",
       "      <td>1.637445e-02</td>\n",
       "      <td>5.886492e-04</td>\n",
       "      <td>0.004800</td>\n",
       "      <td>0.089979</td>\n",
       "      <td>0.123534</td>\n",
       "      <td>0.004024</td>\n",
       "      <td>0.002050</td>\n",
       "      <td>...</td>\n",
       "      <td>0.094154</td>\n",
       "      <td>0.070920</td>\n",
       "      <td>0.013467</td>\n",
       "      <td>0.002802</td>\n",
       "      <td>0.008241</td>\n",
       "      <td>0.010815</td>\n",
       "      <td>0.019210</td>\n",
       "      <td>0.022884</td>\n",
       "      <td>0.022514</td>\n",
       "      <td>0.004981</td>\n",
       "    </tr>\n",
       "    <tr>\n",
       "      <th>Alex Poythress</th>\n",
       "      <td>0.041807</td>\n",
       "      <td>0.000000</td>\n",
       "      <td>0.028415</td>\n",
       "      <td>2.271990e-02</td>\n",
       "      <td>3.430138e-02</td>\n",
       "      <td>0.023592</td>\n",
       "      <td>0.040404</td>\n",
       "      <td>0.072608</td>\n",
       "      <td>0.033217</td>\n",
       "      <td>0.027073</td>\n",
       "      <td>...</td>\n",
       "      <td>0.060346</td>\n",
       "      <td>0.074623</td>\n",
       "      <td>0.032386</td>\n",
       "      <td>0.038464</td>\n",
       "      <td>0.029109</td>\n",
       "      <td>0.023240</td>\n",
       "      <td>0.027563</td>\n",
       "      <td>0.031021</td>\n",
       "      <td>0.028199</td>\n",
       "      <td>0.030213</td>\n",
       "    </tr>\n",
       "    <tr>\n",
       "      <th>Alfonzo McKinnie</th>\n",
       "      <td>0.002792</td>\n",
       "      <td>0.028415</td>\n",
       "      <td>0.000000</td>\n",
       "      <td>7.728962e-03</td>\n",
       "      <td>1.396825e-03</td>\n",
       "      <td>0.000768</td>\n",
       "      <td>0.067492</td>\n",
       "      <td>0.100230</td>\n",
       "      <td>0.001460</td>\n",
       "      <td>0.000471</td>\n",
       "      <td>...</td>\n",
       "      <td>0.079692</td>\n",
       "      <td>0.057136</td>\n",
       "      <td>0.008906</td>\n",
       "      <td>0.003386</td>\n",
       "      <td>0.006949</td>\n",
       "      <td>0.007252</td>\n",
       "      <td>0.013715</td>\n",
       "      <td>0.015106</td>\n",
       "      <td>0.015608</td>\n",
       "      <td>0.003523</td>\n",
       "    </tr>\n",
       "    <tr>\n",
       "      <th>Amir Johnson</th>\n",
       "      <td>0.016374</td>\n",
       "      <td>0.022720</td>\n",
       "      <td>0.007729</td>\n",
       "      <td>1.110223e-16</td>\n",
       "      <td>1.224550e-02</td>\n",
       "      <td>0.005656</td>\n",
       "      <td>0.050087</td>\n",
       "      <td>0.069209</td>\n",
       "      <td>0.005812</td>\n",
       "      <td>0.009206</td>\n",
       "      <td>...</td>\n",
       "      <td>0.056937</td>\n",
       "      <td>0.037085</td>\n",
       "      <td>0.011207</td>\n",
       "      <td>0.013766</td>\n",
       "      <td>0.015624</td>\n",
       "      <td>0.012237</td>\n",
       "      <td>0.017797</td>\n",
       "      <td>0.023130</td>\n",
       "      <td>0.013552</td>\n",
       "      <td>0.012466</td>\n",
       "    </tr>\n",
       "    <tr>\n",
       "      <th>Andre Iguodala</th>\n",
       "      <td>0.000589</td>\n",
       "      <td>0.034301</td>\n",
       "      <td>0.001397</td>\n",
       "      <td>1.224550e-02</td>\n",
       "      <td>2.220446e-16</td>\n",
       "      <td>0.002870</td>\n",
       "      <td>0.080545</td>\n",
       "      <td>0.115077</td>\n",
       "      <td>0.002723</td>\n",
       "      <td>0.000826</td>\n",
       "      <td>...</td>\n",
       "      <td>0.085697</td>\n",
       "      <td>0.065790</td>\n",
       "      <td>0.011216</td>\n",
       "      <td>0.002467</td>\n",
       "      <td>0.006686</td>\n",
       "      <td>0.008349</td>\n",
       "      <td>0.015997</td>\n",
       "      <td>0.019939</td>\n",
       "      <td>0.019296</td>\n",
       "      <td>0.003724</td>\n",
       "    </tr>\n",
       "  </tbody>\n",
       "</table>\n",
       "<p>5 rows × 74 columns</p>\n",
       "</div>"
      ],
      "text/plain": [
       "name              Al-Farouq Aminu  Alex Poythress  Alfonzo McKinnie  \\\n",
       "name                                                                  \n",
       "Al-Farouq Aminu          0.000000        0.041807          0.002792   \n",
       "Alex Poythress           0.041807        0.000000          0.028415   \n",
       "Alfonzo McKinnie         0.002792        0.028415          0.000000   \n",
       "Amir Johnson             0.016374        0.022720          0.007729   \n",
       "Andre Iguodala           0.000589        0.034301          0.001397   \n",
       "\n",
       "name              Amir Johnson  Andre Iguodala  Aron Baynes  Caleb Swanigan  \\\n",
       "name                                                                          \n",
       "Al-Farouq Aminu   1.637445e-02    5.886492e-04     0.004800        0.089979   \n",
       "Alex Poythress    2.271990e-02    3.430138e-02     0.023592        0.040404   \n",
       "Alfonzo McKinnie  7.728962e-03    1.396825e-03     0.000768        0.067492   \n",
       "Amir Johnson      1.110223e-16    1.224550e-02     0.005656        0.050087   \n",
       "Andre Iguodala    1.224550e-02    2.220446e-16     0.002870        0.080545   \n",
       "\n",
       "name              Chimezie Metu  Daniel Theis  David Nwaba  ...  \\\n",
       "name                                                        ...   \n",
       "Al-Farouq Aminu        0.123534      0.004024     0.002050  ...   \n",
       "Alex Poythress         0.072608      0.033217     0.027073  ...   \n",
       "Alfonzo McKinnie       0.100230      0.001460     0.000471  ...   \n",
       "Amir Johnson           0.069209      0.005812     0.009206  ...   \n",
       "Andre Iguodala         0.115077      0.002723     0.000826  ...   \n",
       "\n",
       "name              Quinton Chievous  Reggis Onwukamuche  Shonn Miller  \\\n",
       "name                                                                   \n",
       "Al-Farouq Aminu           0.094154            0.070920      0.013467   \n",
       "Alex Poythress            0.060346            0.074623      0.032386   \n",
       "Alfonzo McKinnie          0.079692            0.057136      0.008906   \n",
       "Amir Johnson              0.056937            0.037085      0.011207   \n",
       "Andre Iguodala            0.085697            0.065790      0.011216   \n",
       "\n",
       "name              Stephaun Branch  Tahjere McCall  Tanner McGrew  \\\n",
       "name                                                               \n",
       "Al-Farouq Aminu          0.002802        0.008241       0.010815   \n",
       "Alex Poythress           0.038464        0.029109       0.023240   \n",
       "Alfonzo McKinnie         0.003386        0.006949       0.007252   \n",
       "Amir Johnson             0.013766        0.015624       0.012237   \n",
       "Andre Iguodala           0.002467        0.006686       0.008349   \n",
       "\n",
       "name              Thomas Wimbush  Travin Thibodeaux  William Lee  \\\n",
       "name                                                               \n",
       "Al-Farouq Aminu         0.019210           0.022884     0.022514   \n",
       "Alex Poythress          0.027563           0.031021     0.028199   \n",
       "Alfonzo McKinnie        0.013715           0.015106     0.015608   \n",
       "Amir Johnson            0.017797           0.023130     0.013552   \n",
       "Andre Iguodala          0.015997           0.019939     0.019296   \n",
       "\n",
       "name              Xavier Johnson  \n",
       "name                              \n",
       "Al-Farouq Aminu         0.004981  \n",
       "Alex Poythress          0.030213  \n",
       "Alfonzo McKinnie        0.003523  \n",
       "Amir Johnson            0.012466  \n",
       "Andre Iguodala          0.003724  \n",
       "\n",
       "[5 rows x 74 columns]"
      ]
     },
     "execution_count": 54,
     "metadata": {},
     "output_type": "execute_result"
    }
   ],
   "source": [
    "recommender_df.head()"
   ]
  },
  {
   "cell_type": "code",
   "execution_count": 55,
   "metadata": {},
   "outputs": [
    {
     "data": {
      "text/plain": [
       "age                  25.472973\n",
       "Pts                  16.266216\n",
       "Restricted_FG%       63.502703\n",
       "Restricted_FGA        2.209459\n",
       "Restricted_FGM        1.387838\n",
       "Paint_FG%            37.033784\n",
       "Paint_FGA             0.831081\n",
       "Paint_FGM             0.317568\n",
       "Mid_FG%              30.583784\n",
       "Mid_FGA               0.397297\n",
       "Mid_FGM               0.131081\n",
       "Left_Corner_FG%      28.940541\n",
       "Left_Corner_FGA       0.260811\n",
       "Left_Corner_FGM       0.085135\n",
       "Right_Corner_FG%     28.351351\n",
       "Right_Corner_FGA      0.245946\n",
       "Right_Corner_FGM      0.085135\n",
       "Above_Break_FG%      27.647297\n",
       "Above_Break_FGA       0.929730\n",
       "Above_Break_FGM       0.294595\n",
       "FG%                  18.675338\n",
       "3PAr                  0.275703\n",
       "FGA                  13.217568\n",
       "FGM                   6.231081\n",
       "FT%                  26.996824\n",
       "FTAr                  0.291649\n",
       "As%                   9.374324\n",
       "Blk%                  2.474324\n",
       "DRB%                 17.245946\n",
       "Fouls                 5.387838\n",
       "GP                   46.472973\n",
       "MP                  831.945946\n",
       "ORB%                  6.931081\n",
       "PER                  12.582432\n",
       "Stl%                  1.585135\n",
       "TO%                  14.375676\n",
       "TRB%                 12.078378\n",
       "TS%                   0.551270\n",
       "USG%                 15.520270\n",
       "Cluster               8.000000\n",
       "dtype: float64"
      ]
     },
     "execution_count": 55,
     "metadata": {},
     "output_type": "execute_result"
    }
   ],
   "source": [
    "Versatile_Forwards19.mean()"
   ]
  },
  {
   "cell_type": "markdown",
   "metadata": {},
   "source": [
    "### Return 10 most similar "
   ]
  },
  {
   "cell_type": "code",
   "execution_count": 56,
   "metadata": {},
   "outputs": [
    {
     "name": "stdout",
     "output_type": "stream",
     "text": [
      "Players\n",
      "\n",
      "10 closest Players\n",
      "name\n",
      "Maurice Harkless           0.000115\n",
      "Miles Bridges              0.000179\n",
      "Shaquille Harrison         0.000263\n",
      "Noah Vonleh                0.000329\n",
      "Draymond Green             0.000344\n",
      "Nemanja Bjelica            0.000400\n",
      "DeAndre' Bembry            0.000434\n",
      "Maxi Kleber                0.000449\n",
      "Rondae Hollis-Jefferson    0.000514\n",
      "Al-Farouq Aminu            0.000589\n",
      "Name: Andre Iguodala, dtype: float64\n",
      "\n"
     ]
    }
   ],
   "source": [
    "search = 'Andre Iguodala'\n",
    "\n",
    "for name in Versatile_Forwards19.loc[Versatile_Forwards19['name'].str.contains(search), 'name']:\n",
    "    print('Players')\n",
    "    print('')\n",
    "    print('10 closest Players')\n",
    "    print(recommender_df[name].sort_values()[1:11])\n",
    "    print('')"
   ]
  },
  {
   "cell_type": "code",
   "execution_count": 57,
   "metadata": {},
   "outputs": [
    {
     "data": {
      "text/plain": [
       "Text(0.5, 1.0, 'Versatile Forwards Total Reb%')"
      ]
     },
     "execution_count": 57,
     "metadata": {},
     "output_type": "execute_result"
    },
    {
     "data": {
      "image/png": "[encoded data removed]",
      "text/plain": [
       "<Figure size 432x288 with 1 Axes>"
      ]
     },
     "metadata": {
      "needs_background": "light"
     },
     "output_type": "display_data"
    }
   ],
   "source": [
    "plt.hist(Versatile_Forwards19['TRB%'])\n",
    "plt.title('Versatile Forwards Total Reb%')"
   ]
  },
  {
   "cell_type": "code",
   "execution_count": 58,
   "metadata": {},
   "outputs": [
    {
     "data": {
      "text/plain": [
       "0         Aaron Gordon\n",
       "3           Al Horford\n",
       "8             Alex Len\n",
       "35        Bobby Portis\n",
       "60       Cheick Diallo\n",
       "            ...       \n",
       "899      Troy Williams\n",
       "900    Tyler Cavanaugh\n",
       "917     Wenyen Gabriel\n",
       "928      Yuta Watanabe\n",
       "931          Zak Irvin\n",
       "Name: name, Length: 66, dtype: object"
      ]
     },
     "execution_count": 58,
     "metadata": {},
     "output_type": "execute_result"
    }
   ],
   "source": [
    "Players19.loc[Players19['Cluster'] == 1, 'name']"
   ]
  },
  {
   "cell_type": "markdown",
   "metadata": {},
   "source": [
    "### Create DF of Cluster 2"
   ]
  },
  {
   "cell_type": "code",
   "execution_count": 59,
   "metadata": {},
   "outputs": [],
   "source": [
    "Perimeter_Threat19 = Players19.loc[Players19['Cluster'] == 2]"
   ]
  },
  {
   "cell_type": "code",
   "execution_count": 60,
   "metadata": {},
   "outputs": [],
   "source": [
    "Perimeter_Threat = Perimeter_Threat19.set_index(['name'])"
   ]
  },
  {
   "cell_type": "code",
   "execution_count": 61,
   "metadata": {},
   "outputs": [],
   "source": [
    "Perimeter_Threat.drop(columns=['Teams','age'],inplace=True)"
   ]
  },
  {
   "cell_type": "code",
   "execution_count": 62,
   "metadata": {},
   "outputs": [],
   "source": [
    "DB_sparse = sparse.csr_matrix(Perimeter_Threat.fillna(0))"
   ]
  },
  {
   "cell_type": "markdown",
   "metadata": {},
   "source": [
    "### Build Recommendation System"
   ]
  },
  {
   "cell_type": "code",
   "execution_count": 63,
   "metadata": {},
   "outputs": [],
   "source": [
    "recommender = pairwise_distances(Perimeter_Threat, metric='cosine')"
   ]
  },
  {
   "cell_type": "code",
   "execution_count": 64,
   "metadata": {},
   "outputs": [],
   "source": [
    "recommender_df = pd.DataFrame(recommender, index=Perimeter_Threat.index, columns=Perimeter_Threat.index)"
   ]
  },
  {
   "cell_type": "code",
   "execution_count": 65,
   "metadata": {},
   "outputs": [
    {
     "data": {
      "text/html": [
       "<div>\n",
       "<style scoped>\n",
       "    .dataframe tbody tr th:only-of-type {\n",
       "        vertical-align: middle;\n",
       "    }\n",
       "\n",
       "    .dataframe tbody tr th {\n",
       "        vertical-align: top;\n",
       "    }\n",
       "\n",
       "    .dataframe thead th {\n",
       "        text-align: right;\n",
       "    }\n",
       "</style>\n",
       "<table border=\"1\" class=\"dataframe\">\n",
       "  <thead>\n",
       "    <tr style=\"text-align: right;\">\n",
       "      <th>name</th>\n",
       "      <th>Alec Burks</th>\n",
       "      <th>Alex Caruso</th>\n",
       "      <th>Allonzo Trier</th>\n",
       "      <th>Antonio Blakeney</th>\n",
       "      <th>Brad Wanamaker</th>\n",
       "      <th>Brook Lopez</th>\n",
       "      <th>Bruno Caboclo</th>\n",
       "      <th>Caris LeVert</th>\n",
       "      <th>Cedi Osman</th>\n",
       "      <th>D.J. Augustin</th>\n",
       "      <th>...</th>\n",
       "      <th>Sekou Wiggs</th>\n",
       "      <th>Sheldon Jeter</th>\n",
       "      <th>Taren Sullivan</th>\n",
       "      <th>Thomas Wilder</th>\n",
       "      <th>Tra-Deon Hollins</th>\n",
       "      <th>Trahson Burrell</th>\n",
       "      <th>Trevon Duval</th>\n",
       "      <th>Vander Blue</th>\n",
       "      <th>Vitto Brown</th>\n",
       "      <th>Will Cherry</th>\n",
       "    </tr>\n",
       "    <tr>\n",
       "      <th>name</th>\n",
       "      <th></th>\n",
       "      <th></th>\n",
       "      <th></th>\n",
       "      <th></th>\n",
       "      <th></th>\n",
       "      <th></th>\n",
       "      <th></th>\n",
       "      <th></th>\n",
       "      <th></th>\n",
       "      <th></th>\n",
       "      <th></th>\n",
       "      <th></th>\n",
       "      <th></th>\n",
       "      <th></th>\n",
       "      <th></th>\n",
       "      <th></th>\n",
       "      <th></th>\n",
       "      <th></th>\n",
       "      <th></th>\n",
       "      <th></th>\n",
       "      <th></th>\n",
       "    </tr>\n",
       "  </thead>\n",
       "  <tbody>\n",
       "    <tr>\n",
       "      <th>Alec Burks</th>\n",
       "      <td>2.220446e-16</td>\n",
       "      <td>8.248085e-03</td>\n",
       "      <td>5.109340e-05</td>\n",
       "      <td>0.003033</td>\n",
       "      <td>3.290834e-02</td>\n",
       "      <td>0.000390</td>\n",
       "      <td>0.003746</td>\n",
       "      <td>0.000684</td>\n",
       "      <td>0.000660</td>\n",
       "      <td>0.000358</td>\n",
       "      <td>...</td>\n",
       "      <td>0.003936</td>\n",
       "      <td>0.012637</td>\n",
       "      <td>0.006164</td>\n",
       "      <td>0.005658</td>\n",
       "      <td>0.008752</td>\n",
       "      <td>0.020780</td>\n",
       "      <td>0.002759</td>\n",
       "      <td>0.003167</td>\n",
       "      <td>0.003700</td>\n",
       "      <td>0.002396</td>\n",
       "    </tr>\n",
       "    <tr>\n",
       "      <th>Alex Caruso</th>\n",
       "      <td>8.248085e-03</td>\n",
       "      <td>1.110223e-16</td>\n",
       "      <td>8.463901e-03</td>\n",
       "      <td>0.003783</td>\n",
       "      <td>1.589527e-02</td>\n",
       "      <td>0.011013</td>\n",
       "      <td>0.003642</td>\n",
       "      <td>0.005788</td>\n",
       "      <td>0.012532</td>\n",
       "      <td>0.010756</td>\n",
       "      <td>...</td>\n",
       "      <td>0.009302</td>\n",
       "      <td>0.010816</td>\n",
       "      <td>0.008111</td>\n",
       "      <td>0.009982</td>\n",
       "      <td>0.011829</td>\n",
       "      <td>0.010068</td>\n",
       "      <td>0.009174</td>\n",
       "      <td>0.011037</td>\n",
       "      <td>0.009512</td>\n",
       "      <td>0.011170</td>\n",
       "    </tr>\n",
       "    <tr>\n",
       "      <th>Allonzo Trier</th>\n",
       "      <td>5.109340e-05</td>\n",
       "      <td>8.463901e-03</td>\n",
       "      <td>1.110223e-16</td>\n",
       "      <td>0.003244</td>\n",
       "      <td>3.302442e-02</td>\n",
       "      <td>0.000392</td>\n",
       "      <td>0.003711</td>\n",
       "      <td>0.000828</td>\n",
       "      <td>0.000606</td>\n",
       "      <td>0.000340</td>\n",
       "      <td>...</td>\n",
       "      <td>0.003967</td>\n",
       "      <td>0.012825</td>\n",
       "      <td>0.006123</td>\n",
       "      <td>0.005726</td>\n",
       "      <td>0.008727</td>\n",
       "      <td>0.021161</td>\n",
       "      <td>0.002820</td>\n",
       "      <td>0.003142</td>\n",
       "      <td>0.003767</td>\n",
       "      <td>0.002403</td>\n",
       "    </tr>\n",
       "    <tr>\n",
       "      <th>Antonio Blakeney</th>\n",
       "      <td>3.033185e-03</td>\n",
       "      <td>3.782794e-03</td>\n",
       "      <td>3.243544e-03</td>\n",
       "      <td>0.000000</td>\n",
       "      <td>2.387826e-02</td>\n",
       "      <td>0.004916</td>\n",
       "      <td>0.002592</td>\n",
       "      <td>0.001979</td>\n",
       "      <td>0.006157</td>\n",
       "      <td>0.004933</td>\n",
       "      <td>...</td>\n",
       "      <td>0.005247</td>\n",
       "      <td>0.009742</td>\n",
       "      <td>0.005778</td>\n",
       "      <td>0.005386</td>\n",
       "      <td>0.008023</td>\n",
       "      <td>0.013794</td>\n",
       "      <td>0.004801</td>\n",
       "      <td>0.006179</td>\n",
       "      <td>0.005565</td>\n",
       "      <td>0.006310</td>\n",
       "    </tr>\n",
       "    <tr>\n",
       "      <th>Brad Wanamaker</th>\n",
       "      <td>3.290834e-02</td>\n",
       "      <td>1.589527e-02</td>\n",
       "      <td>3.302442e-02</td>\n",
       "      <td>0.023878</td>\n",
       "      <td>3.330669e-16</td>\n",
       "      <td>0.037564</td>\n",
       "      <td>0.021817</td>\n",
       "      <td>0.029221</td>\n",
       "      <td>0.040005</td>\n",
       "      <td>0.038222</td>\n",
       "      <td>...</td>\n",
       "      <td>0.028946</td>\n",
       "      <td>0.030149</td>\n",
       "      <td>0.025180</td>\n",
       "      <td>0.031221</td>\n",
       "      <td>0.034067</td>\n",
       "      <td>0.021068</td>\n",
       "      <td>0.032783</td>\n",
       "      <td>0.033966</td>\n",
       "      <td>0.032620</td>\n",
       "      <td>0.033869</td>\n",
       "    </tr>\n",
       "  </tbody>\n",
       "</table>\n",
       "<p>5 rows × 99 columns</p>\n",
       "</div>"
      ],
      "text/plain": [
       "name                Alec Burks   Alex Caruso  Allonzo Trier  Antonio Blakeney  \\\n",
       "name                                                                            \n",
       "Alec Burks        2.220446e-16  8.248085e-03   5.109340e-05          0.003033   \n",
       "Alex Caruso       8.248085e-03  1.110223e-16   8.463901e-03          0.003783   \n",
       "Allonzo Trier     5.109340e-05  8.463901e-03   1.110223e-16          0.003244   \n",
       "Antonio Blakeney  3.033185e-03  3.782794e-03   3.243544e-03          0.000000   \n",
       "Brad Wanamaker    3.290834e-02  1.589527e-02   3.302442e-02          0.023878   \n",
       "\n",
       "name              Brad Wanamaker  Brook Lopez  Bruno Caboclo  Caris LeVert  \\\n",
       "name                                                                         \n",
       "Alec Burks          3.290834e-02     0.000390       0.003746      0.000684   \n",
       "Alex Caruso         1.589527e-02     0.011013       0.003642      0.005788   \n",
       "Allonzo Trier       3.302442e-02     0.000392       0.003711      0.000828   \n",
       "Antonio Blakeney    2.387826e-02     0.004916       0.002592      0.001979   \n",
       "Brad Wanamaker      3.330669e-16     0.037564       0.021817      0.029221   \n",
       "\n",
       "name              Cedi Osman  D.J. Augustin  ...  Sekou Wiggs  Sheldon Jeter  \\\n",
       "name                                         ...                               \n",
       "Alec Burks          0.000660       0.000358  ...     0.003936       0.012637   \n",
       "Alex Caruso         0.012532       0.010756  ...     0.009302       0.010816   \n",
       "Allonzo Trier       0.000606       0.000340  ...     0.003967       0.012825   \n",
       "Antonio Blakeney    0.006157       0.004933  ...     0.005247       0.009742   \n",
       "Brad Wanamaker      0.040005       0.038222  ...     0.028946       0.030149   \n",
       "\n",
       "name              Taren Sullivan  Thomas Wilder  Tra-Deon Hollins  \\\n",
       "name                                                                \n",
       "Alec Burks              0.006164       0.005658          0.008752   \n",
       "Alex Caruso             0.008111       0.009982          0.011829   \n",
       "Allonzo Trier           0.006123       0.005726          0.008727   \n",
       "Antonio Blakeney        0.005778       0.005386          0.008023   \n",
       "Brad Wanamaker          0.025180       0.031221          0.034067   \n",
       "\n",
       "name              Trahson Burrell  Trevon Duval  Vander Blue  Vitto Brown  \\\n",
       "name                                                                        \n",
       "Alec Burks               0.020780      0.002759     0.003167     0.003700   \n",
       "Alex Caruso              0.010068      0.009174     0.011037     0.009512   \n",
       "Allonzo Trier            0.021161      0.002820     0.003142     0.003767   \n",
       "Antonio Blakeney         0.013794      0.004801     0.006179     0.005565   \n",
       "Brad Wanamaker           0.021068      0.032783     0.033966     0.032620   \n",
       "\n",
       "name              Will Cherry  \n",
       "name                           \n",
       "Alec Burks           0.002396  \n",
       "Alex Caruso          0.011170  \n",
       "Allonzo Trier        0.002403  \n",
       "Antonio Blakeney     0.006310  \n",
       "Brad Wanamaker       0.033869  \n",
       "\n",
       "[5 rows x 99 columns]"
      ]
     },
     "execution_count": 65,
     "metadata": {},
     "output_type": "execute_result"
    }
   ],
   "source": [
    "recommender_df.head()"
   ]
  },
  {
   "cell_type": "code",
   "execution_count": 66,
   "metadata": {},
   "outputs": [
    {
     "data": {
      "text/plain": [
       "age                   25.202020\n",
       "Pts                   19.750505\n",
       "Restricted_FG%        61.682828\n",
       "Restricted_FGA         2.571717\n",
       "Restricted_FGM         1.569697\n",
       "Paint_FG%             37.863636\n",
       "Paint_FGA              1.257576\n",
       "Paint_FGM              0.471717\n",
       "Mid_FG%               36.622222\n",
       "Mid_FGA                0.958586\n",
       "Mid_FGM                0.352525\n",
       "Left_Corner_FG%       35.553535\n",
       "Left_Corner_FGA        0.459596\n",
       "Left_Corner_FGM        0.179798\n",
       "Right_Corner_FG%      36.228283\n",
       "Right_Corner_FGA       0.426263\n",
       "Right_Corner_FGM       0.160606\n",
       "Above_Break_FG%       33.767677\n",
       "Above_Break_FGA        2.613131\n",
       "Above_Break_FGM        0.905051\n",
       "FG%                   19.510646\n",
       "3PAr                   0.419788\n",
       "FGA                   16.365657\n",
       "FGM                    7.163636\n",
       "FT%                   34.233747\n",
       "FTAr                   0.243404\n",
       "As%                   14.013131\n",
       "Blk%                   1.345455\n",
       "DRB%                  13.767677\n",
       "Fouls                  3.891919\n",
       "GP                    51.969697\n",
       "MP                  1245.383838\n",
       "ORB%                   3.250505\n",
       "PER                   12.913131\n",
       "Stl%                   1.569697\n",
       "TO%                   12.804040\n",
       "TRB%                   8.500000\n",
       "TS%                    0.547828\n",
       "USG%                  18.470707\n",
       "Cluster                2.000000\n",
       "dtype: float64"
      ]
     },
     "execution_count": 66,
     "metadata": {},
     "output_type": "execute_result"
    }
   ],
   "source": [
    "Perimeter_Threat19.mean()"
   ]
  },
  {
   "cell_type": "markdown",
   "metadata": {},
   "source": [
    "### Return 10 most similar "
   ]
  },
  {
   "cell_type": "code",
   "execution_count": 67,
   "metadata": {},
   "outputs": [
    {
     "name": "stdout",
     "output_type": "stream",
     "text": [
      "Players\n",
      "\n",
      "10 closest Players\n",
      "name\n",
      "Marvin Williams            0.000020\n",
      "Jonathan Isaac             0.000047\n",
      "Jaylen Brown               0.000051\n",
      "Jeff Green                 0.000055\n",
      "Shai Gilgeous-Alexander    0.000063\n",
      "DeMarre Carroll            0.000070\n",
      "Jae Crowder                0.000075\n",
      "Joe Harris                 0.000075\n",
      "Justise Winslow            0.000081\n",
      "Nicolas Batum              0.000099\n",
      "Name: Brook Lopez, dtype: float64\n",
      "\n"
     ]
    }
   ],
   "source": [
    "search = 'Brook Lopez'\n",
    "\n",
    "for name in Perimeter_Threat19.loc[Perimeter_Threat19['name'].str.contains(search), 'name']:\n",
    "    print('Players')\n",
    "    print('')\n",
    "    print('10 closest Players')\n",
    "    print(recommender_df[name].sort_values()[1:11])\n",
    "    print('')"
   ]
  },
  {
   "cell_type": "code",
   "execution_count": 68,
   "metadata": {},
   "outputs": [
    {
     "data": {
      "text/plain": [
       "Text(0.5, 1.0, 'Perimeter Left Corner FG%')"
      ]
     },
     "execution_count": 68,
     "metadata": {},
     "output_type": "execute_result"
    },
    {
     "data": {
      "image/png": "[encoded data removed]",
      "text/plain": [
       "<Figure size 432x288 with 1 Axes>"
      ]
     },
     "metadata": {
      "needs_background": "light"
     },
     "output_type": "display_data"
    }
   ],
   "source": [
    "plt.hist(Perimeter_Threat19['Left_Corner_FG%'])\n",
    "plt.title('Perimeter Left Corner FG%')"
   ]
  },
  {
   "cell_type": "markdown",
   "metadata": {},
   "source": [
    "### Create DF of Cluster 6"
   ]
  },
  {
   "cell_type": "code",
   "execution_count": 69,
   "metadata": {},
   "outputs": [],
   "source": [
    "Perimeter_Scorers19 = Players19.loc[Players19['Cluster'] == 6]"
   ]
  },
  {
   "cell_type": "code",
   "execution_count": 70,
   "metadata": {},
   "outputs": [],
   "source": [
    "Perimeter_Scorers = Perimeter_Scorers19.set_index(['name'])"
   ]
  },
  {
   "cell_type": "code",
   "execution_count": 71,
   "metadata": {},
   "outputs": [],
   "source": [
    "Perimeter_Scorers.drop(columns=['Teams','age'],inplace=True)"
   ]
  },
  {
   "cell_type": "code",
   "execution_count": 72,
   "metadata": {},
   "outputs": [],
   "source": [
    "PS_sparse = sparse.csr_matrix(Perimeter_Scorers.fillna(0))"
   ]
  },
  {
   "cell_type": "markdown",
   "metadata": {},
   "source": [
    "### Build Recommendation System"
   ]
  },
  {
   "cell_type": "code",
   "execution_count": 73,
   "metadata": {},
   "outputs": [],
   "source": [
    "recommender = pairwise_distances(Perimeter_Scorers, metric='cosine')"
   ]
  },
  {
   "cell_type": "code",
   "execution_count": 74,
   "metadata": {},
   "outputs": [],
   "source": [
    "recommender_df = pd.DataFrame(recommender, index=Perimeter_Scorers.index, columns=Perimeter_Scorers.index)"
   ]
  },
  {
   "cell_type": "code",
   "execution_count": 75,
   "metadata": {},
   "outputs": [
    {
     "data": {
      "text/html": [
       "<div>\n",
       "<style scoped>\n",
       "    .dataframe tbody tr th:only-of-type {\n",
       "        vertical-align: middle;\n",
       "    }\n",
       "\n",
       "    .dataframe tbody tr th {\n",
       "        vertical-align: top;\n",
       "    }\n",
       "\n",
       "    .dataframe thead th {\n",
       "        text-align: right;\n",
       "    }\n",
       "</style>\n",
       "<table border=\"1\" class=\"dataframe\">\n",
       "  <thead>\n",
       "    <tr style=\"text-align: right;\">\n",
       "      <th>name</th>\n",
       "      <th>Aaron Holiday</th>\n",
       "      <th>Allen Crabbe</th>\n",
       "      <th>Avery Bradley</th>\n",
       "      <th>Brandon Knight</th>\n",
       "      <th>Bryn Forbes</th>\n",
       "      <th>Cameron Payne</th>\n",
       "      <th>Chandler Parsons</th>\n",
       "      <th>Chasson Randle</th>\n",
       "      <th>Cory Joseph</th>\n",
       "      <th>Courtney Lee</th>\n",
       "      <th>...</th>\n",
       "      <th>Pe'Shon Howard</th>\n",
       "      <th>Robert Johnson</th>\n",
       "      <th>Rodney Pryor</th>\n",
       "      <th>Rodney Purvis</th>\n",
       "      <th>Scoochie Smith</th>\n",
       "      <th>Shannon Scott</th>\n",
       "      <th>Shep Garner</th>\n",
       "      <th>Tiwian Kendley</th>\n",
       "      <th>Tyler Nelson</th>\n",
       "      <th>Vincent Edwards</th>\n",
       "    </tr>\n",
       "    <tr>\n",
       "      <th>name</th>\n",
       "      <th></th>\n",
       "      <th></th>\n",
       "      <th></th>\n",
       "      <th></th>\n",
       "      <th></th>\n",
       "      <th></th>\n",
       "      <th></th>\n",
       "      <th></th>\n",
       "      <th></th>\n",
       "      <th></th>\n",
       "      <th></th>\n",
       "      <th></th>\n",
       "      <th></th>\n",
       "      <th></th>\n",
       "      <th></th>\n",
       "      <th></th>\n",
       "      <th></th>\n",
       "      <th></th>\n",
       "      <th></th>\n",
       "      <th></th>\n",
       "      <th></th>\n",
       "    </tr>\n",
       "  </thead>\n",
       "  <tbody>\n",
       "    <tr>\n",
       "      <th>Aaron Holiday</th>\n",
       "      <td>0.000000</td>\n",
       "      <td>4.081719e-03</td>\n",
       "      <td>0.007267</td>\n",
       "      <td>0.001349</td>\n",
       "      <td>0.007107</td>\n",
       "      <td>0.002593</td>\n",
       "      <td>0.001279</td>\n",
       "      <td>0.001526</td>\n",
       "      <td>0.007218</td>\n",
       "      <td>0.010329</td>\n",
       "      <td>...</td>\n",
       "      <td>0.007265</td>\n",
       "      <td>0.005337</td>\n",
       "      <td>0.006378</td>\n",
       "      <td>0.007375</td>\n",
       "      <td>0.007762</td>\n",
       "      <td>0.007241</td>\n",
       "      <td>0.011730</td>\n",
       "      <td>0.014887</td>\n",
       "      <td>0.009685</td>\n",
       "      <td>0.005604</td>\n",
       "    </tr>\n",
       "    <tr>\n",
       "      <th>Allen Crabbe</th>\n",
       "      <td>0.004082</td>\n",
       "      <td>1.110223e-16</td>\n",
       "      <td>0.001047</td>\n",
       "      <td>0.002758</td>\n",
       "      <td>0.000840</td>\n",
       "      <td>0.005159</td>\n",
       "      <td>0.006788</td>\n",
       "      <td>0.001589</td>\n",
       "      <td>0.001185</td>\n",
       "      <td>0.020328</td>\n",
       "      <td>...</td>\n",
       "      <td>0.002665</td>\n",
       "      <td>0.004101</td>\n",
       "      <td>0.007139</td>\n",
       "      <td>0.001983</td>\n",
       "      <td>0.002097</td>\n",
       "      <td>0.002466</td>\n",
       "      <td>0.011996</td>\n",
       "      <td>0.021208</td>\n",
       "      <td>0.011918</td>\n",
       "      <td>0.003608</td>\n",
       "    </tr>\n",
       "    <tr>\n",
       "      <th>Avery Bradley</th>\n",
       "      <td>0.007267</td>\n",
       "      <td>1.046537e-03</td>\n",
       "      <td>0.000000</td>\n",
       "      <td>0.004391</td>\n",
       "      <td>0.000040</td>\n",
       "      <td>0.008902</td>\n",
       "      <td>0.010896</td>\n",
       "      <td>0.003597</td>\n",
       "      <td>0.000093</td>\n",
       "      <td>0.027378</td>\n",
       "      <td>...</td>\n",
       "      <td>0.002709</td>\n",
       "      <td>0.005150</td>\n",
       "      <td>0.009161</td>\n",
       "      <td>0.001424</td>\n",
       "      <td>0.001596</td>\n",
       "      <td>0.002178</td>\n",
       "      <td>0.015122</td>\n",
       "      <td>0.026133</td>\n",
       "      <td>0.015984</td>\n",
       "      <td>0.004484</td>\n",
       "    </tr>\n",
       "    <tr>\n",
       "      <th>Brandon Knight</th>\n",
       "      <td>0.001349</td>\n",
       "      <td>2.758330e-03</td>\n",
       "      <td>0.004391</td>\n",
       "      <td>0.000000</td>\n",
       "      <td>0.004431</td>\n",
       "      <td>0.003398</td>\n",
       "      <td>0.002727</td>\n",
       "      <td>0.002079</td>\n",
       "      <td>0.004523</td>\n",
       "      <td>0.015425</td>\n",
       "      <td>...</td>\n",
       "      <td>0.005178</td>\n",
       "      <td>0.004459</td>\n",
       "      <td>0.006160</td>\n",
       "      <td>0.004903</td>\n",
       "      <td>0.005341</td>\n",
       "      <td>0.005331</td>\n",
       "      <td>0.012451</td>\n",
       "      <td>0.016897</td>\n",
       "      <td>0.010788</td>\n",
       "      <td>0.003972</td>\n",
       "    </tr>\n",
       "    <tr>\n",
       "      <th>Bryn Forbes</th>\n",
       "      <td>0.007107</td>\n",
       "      <td>8.400053e-04</td>\n",
       "      <td>0.000040</td>\n",
       "      <td>0.004431</td>\n",
       "      <td>0.000000</td>\n",
       "      <td>0.008505</td>\n",
       "      <td>0.010817</td>\n",
       "      <td>0.003465</td>\n",
       "      <td>0.000120</td>\n",
       "      <td>0.026846</td>\n",
       "      <td>...</td>\n",
       "      <td>0.002663</td>\n",
       "      <td>0.005126</td>\n",
       "      <td>0.009137</td>\n",
       "      <td>0.001486</td>\n",
       "      <td>0.001599</td>\n",
       "      <td>0.002223</td>\n",
       "      <td>0.014750</td>\n",
       "      <td>0.025999</td>\n",
       "      <td>0.015624</td>\n",
       "      <td>0.004522</td>\n",
       "    </tr>\n",
       "  </tbody>\n",
       "</table>\n",
       "<p>5 rows × 109 columns</p>\n",
       "</div>"
      ],
      "text/plain": [
       "name            Aaron Holiday  Allen Crabbe  Avery Bradley  Brandon Knight  \\\n",
       "name                                                                         \n",
       "Aaron Holiday        0.000000  4.081719e-03       0.007267        0.001349   \n",
       "Allen Crabbe         0.004082  1.110223e-16       0.001047        0.002758   \n",
       "Avery Bradley        0.007267  1.046537e-03       0.000000        0.004391   \n",
       "Brandon Knight       0.001349  2.758330e-03       0.004391        0.000000   \n",
       "Bryn Forbes          0.007107  8.400053e-04       0.000040        0.004431   \n",
       "\n",
       "name            Bryn Forbes  Cameron Payne  Chandler Parsons  Chasson Randle  \\\n",
       "name                                                                           \n",
       "Aaron Holiday      0.007107       0.002593          0.001279        0.001526   \n",
       "Allen Crabbe       0.000840       0.005159          0.006788        0.001589   \n",
       "Avery Bradley      0.000040       0.008902          0.010896        0.003597   \n",
       "Brandon Knight     0.004431       0.003398          0.002727        0.002079   \n",
       "Bryn Forbes        0.000000       0.008505          0.010817        0.003465   \n",
       "\n",
       "name            Cory Joseph  Courtney Lee  ...  Pe'Shon Howard  \\\n",
       "name                                       ...                   \n",
       "Aaron Holiday      0.007218      0.010329  ...        0.007265   \n",
       "Allen Crabbe       0.001185      0.020328  ...        0.002665   \n",
       "Avery Bradley      0.000093      0.027378  ...        0.002709   \n",
       "Brandon Knight     0.004523      0.015425  ...        0.005178   \n",
       "Bryn Forbes        0.000120      0.026846  ...        0.002663   \n",
       "\n",
       "name            Robert Johnson  Rodney Pryor  Rodney Purvis  Scoochie Smith  \\\n",
       "name                                                                          \n",
       "Aaron Holiday         0.005337      0.006378       0.007375        0.007762   \n",
       "Allen Crabbe          0.004101      0.007139       0.001983        0.002097   \n",
       "Avery Bradley         0.005150      0.009161       0.001424        0.001596   \n",
       "Brandon Knight        0.004459      0.006160       0.004903        0.005341   \n",
       "Bryn Forbes           0.005126      0.009137       0.001486        0.001599   \n",
       "\n",
       "name            Shannon Scott  Shep Garner  Tiwian Kendley  Tyler Nelson  \\\n",
       "name                                                                       \n",
       "Aaron Holiday        0.007241     0.011730        0.014887      0.009685   \n",
       "Allen Crabbe         0.002466     0.011996        0.021208      0.011918   \n",
       "Avery Bradley        0.002178     0.015122        0.026133      0.015984   \n",
       "Brandon Knight       0.005331     0.012451        0.016897      0.010788   \n",
       "Bryn Forbes          0.002223     0.014750        0.025999      0.015624   \n",
       "\n",
       "name            Vincent Edwards  \n",
       "name                             \n",
       "Aaron Holiday          0.005604  \n",
       "Allen Crabbe           0.003608  \n",
       "Avery Bradley          0.004484  \n",
       "Brandon Knight         0.003972  \n",
       "Bryn Forbes            0.004522  \n",
       "\n",
       "[5 rows x 109 columns]"
      ]
     },
     "execution_count": 75,
     "metadata": {},
     "output_type": "execute_result"
    }
   ],
   "source": [
    "recommender_df.head()"
   ]
  },
  {
   "cell_type": "code",
   "execution_count": 76,
   "metadata": {},
   "outputs": [
    {
     "data": {
      "text/plain": [
       "age                   26.788991\n",
       "Pts                   18.315596\n",
       "Restricted_FG%        57.100917\n",
       "Restricted_FGA         1.595413\n",
       "Restricted_FGM         0.920183\n",
       "Paint_FG%             35.761468\n",
       "Paint_FGA              0.917431\n",
       "Paint_FGM              0.328440\n",
       "Mid_FG%               39.637615\n",
       "Mid_FGA                1.168807\n",
       "Mid_FGM                0.463303\n",
       "Left_Corner_FG%       38.681651\n",
       "Left_Corner_FGA        0.530275\n",
       "Left_Corner_FGM        0.221101\n",
       "Right_Corner_FG%      38.575229\n",
       "Right_Corner_FGA       0.495413\n",
       "Right_Corner_FGM       0.191743\n",
       "Above_Break_FG%       34.212844\n",
       "Above_Break_FGA        3.182569\n",
       "Above_Break_FGM        1.098165\n",
       "FG%                   13.865725\n",
       "3PAr                   0.528330\n",
       "FGA                   16.244954\n",
       "FGM                    6.611927\n",
       "FT%                   25.667257\n",
       "FTAr                   0.164899\n",
       "As%                   14.828440\n",
       "Blk%                   0.751376\n",
       "DRB%                  10.222018\n",
       "Fouls                  3.656881\n",
       "GP                    54.256881\n",
       "MP                  1254.266055\n",
       "ORB%                   1.866055\n",
       "PER                   10.845872\n",
       "Stl%                   1.474312\n",
       "TO%                   12.000000\n",
       "TRB%                   6.038532\n",
       "TS%                    0.525917\n",
       "USG%                  17.620183\n",
       "Cluster                6.000000\n",
       "dtype: float64"
      ]
     },
     "execution_count": 76,
     "metadata": {},
     "output_type": "execute_result"
    }
   ],
   "source": [
    "Perimeter_Scorers19.mean()"
   ]
  },
  {
   "cell_type": "markdown",
   "metadata": {},
   "source": [
    "### Return 10 similar Players"
   ]
  },
  {
   "cell_type": "code",
   "execution_count": 77,
   "metadata": {},
   "outputs": [
    {
     "name": "stdout",
     "output_type": "stream",
     "text": [
      "Players\n",
      "\n",
      "10 closest Players\n",
      "name\n",
      "Furkan Korkmaz      0.000462\n",
      "Dirk Nowitzki       0.001123\n",
      "Jerryd Bayless      0.001163\n",
      "Devonte' Graham     0.001217\n",
      "Chandler Parsons    0.001279\n",
      "Brandon Knight      0.001349\n",
      "Isaiah Canaan       0.001499\n",
      "Chasson Randle      0.001526\n",
      "Troy Daniels        0.001647\n",
      "Quinn Cook          0.001663\n",
      "Name: Aaron Holiday, dtype: float64\n",
      "\n"
     ]
    }
   ],
   "source": [
    "search = 'Aaron Holiday'\n",
    "\n",
    "for name in Perimeter_Scorers19.loc[Perimeter_Scorers19['name'].str.contains(search), 'name']:\n",
    "    print('Players')\n",
    "    print('')\n",
    "    print('10 closest Players')\n",
    "    print(recommender_df[name].sort_values()[1:11])\n",
    "    print('')"
   ]
  },
  {
   "cell_type": "code",
   "execution_count": 78,
   "metadata": {},
   "outputs": [
    {
     "data": {
      "image/png": "[encoded data removed]",
      "text/plain": [
       "<Figure size 432x288 with 1 Axes>"
      ]
     },
     "metadata": {
      "needs_background": "light"
     },
     "output_type": "display_data"
    }
   ],
   "source": [
    "plt.hist(Perimeter_Scorers19['Pts'])\n",
    "plt.title('Perimeter Scorers Points Per Possesion');"
   ]
  },
  {
   "cell_type": "code",
   "execution_count": null,
   "metadata": {},
   "outputs": [],
   "source": []
  },
  {
   "cell_type": "markdown",
   "metadata": {},
   "source": [
    "### Create DF of Cluster 4"
   ]
  },
  {
   "cell_type": "code",
   "execution_count": 79,
   "metadata": {},
   "outputs": [],
   "source": [
    "Stars19 = Players19.loc[Players19['Cluster'] == 4]"
   ]
  },
  {
   "cell_type": "code",
   "execution_count": 80,
   "metadata": {},
   "outputs": [],
   "source": [
    "Stars = Stars19.set_index(['name'])"
   ]
  },
  {
   "cell_type": "code",
   "execution_count": 81,
   "metadata": {},
   "outputs": [],
   "source": [
    "Stars.drop(columns=['Teams','age'],inplace=True)"
   ]
  },
  {
   "cell_type": "code",
   "execution_count": 82,
   "metadata": {},
   "outputs": [],
   "source": [
    "Star_sparse = sparse.csr_matrix(Stars.fillna(0))"
   ]
  },
  {
   "cell_type": "markdown",
   "metadata": {},
   "source": [
    "### Build Recommendation System"
   ]
  },
  {
   "cell_type": "code",
   "execution_count": 83,
   "metadata": {},
   "outputs": [],
   "source": [
    "recommender = pairwise_distances(Stars, metric='cosine')"
   ]
  },
  {
   "cell_type": "code",
   "execution_count": 84,
   "metadata": {},
   "outputs": [],
   "source": [
    "recommender_df = pd.DataFrame(recommender, index=Stars.index, columns=Stars.index)"
   ]
  },
  {
   "cell_type": "code",
   "execution_count": 85,
   "metadata": {},
   "outputs": [
    {
     "data": {
      "text/html": [
       "<div>\n",
       "<style scoped>\n",
       "    .dataframe tbody tr th:only-of-type {\n",
       "        vertical-align: middle;\n",
       "    }\n",
       "\n",
       "    .dataframe tbody tr th {\n",
       "        vertical-align: top;\n",
       "    }\n",
       "\n",
       "    .dataframe thead th {\n",
       "        text-align: right;\n",
       "    }\n",
       "</style>\n",
       "<table border=\"1\" class=\"dataframe\">\n",
       "  <thead>\n",
       "    <tr style=\"text-align: right;\">\n",
       "      <th>name</th>\n",
       "      <th>Blake Griffin</th>\n",
       "      <th>Bradley Beal</th>\n",
       "      <th>Buddy Hield</th>\n",
       "      <th>CJ McCollum</th>\n",
       "      <th>D'Angelo Russell</th>\n",
       "      <th>Damian Lillard</th>\n",
       "      <th>Danilo Gallinari</th>\n",
       "      <th>DeMar DeRozan</th>\n",
       "      <th>Derrick Rose</th>\n",
       "      <th>Devin Booker</th>\n",
       "      <th>...</th>\n",
       "      <th>Jordan Loyd</th>\n",
       "      <th>Jordan McRae</th>\n",
       "      <th>Kalin Lucas</th>\n",
       "      <th>Kendrick Nunn</th>\n",
       "      <th>Lonnie Walker IV</th>\n",
       "      <th>Marcus Thornton</th>\n",
       "      <th>PJ Dozier</th>\n",
       "      <th>Rob Gray</th>\n",
       "      <th>Shake Milton</th>\n",
       "      <th>Walter Lemon Jr.</th>\n",
       "    </tr>\n",
       "    <tr>\n",
       "      <th>name</th>\n",
       "      <th></th>\n",
       "      <th></th>\n",
       "      <th></th>\n",
       "      <th></th>\n",
       "      <th></th>\n",
       "      <th></th>\n",
       "      <th></th>\n",
       "      <th></th>\n",
       "      <th></th>\n",
       "      <th></th>\n",
       "      <th></th>\n",
       "      <th></th>\n",
       "      <th></th>\n",
       "      <th></th>\n",
       "      <th></th>\n",
       "      <th></th>\n",
       "      <th></th>\n",
       "      <th></th>\n",
       "      <th></th>\n",
       "      <th></th>\n",
       "      <th></th>\n",
       "    </tr>\n",
       "  </thead>\n",
       "  <tbody>\n",
       "    <tr>\n",
       "      <th>Blake Griffin</th>\n",
       "      <td>0.000000</td>\n",
       "      <td>0.000044</td>\n",
       "      <td>8.770985e-05</td>\n",
       "      <td>0.000144</td>\n",
       "      <td>1.893541e-04</td>\n",
       "      <td>0.000066</td>\n",
       "      <td>0.000223</td>\n",
       "      <td>0.000122</td>\n",
       "      <td>0.001399</td>\n",
       "      <td>0.000137</td>\n",
       "      <td>...</td>\n",
       "      <td>0.003068</td>\n",
       "      <td>0.006857</td>\n",
       "      <td>0.006016</td>\n",
       "      <td>0.003328</td>\n",
       "      <td>0.012312</td>\n",
       "      <td>0.007447</td>\n",
       "      <td>0.001632</td>\n",
       "      <td>0.003986</td>\n",
       "      <td>0.009806</td>\n",
       "      <td>0.002604</td>\n",
       "    </tr>\n",
       "    <tr>\n",
       "      <th>Bradley Beal</th>\n",
       "      <td>0.000044</td>\n",
       "      <td>0.000000</td>\n",
       "      <td>6.559384e-05</td>\n",
       "      <td>0.000112</td>\n",
       "      <td>1.840379e-04</td>\n",
       "      <td>0.000025</td>\n",
       "      <td>0.000225</td>\n",
       "      <td>0.000085</td>\n",
       "      <td>0.001522</td>\n",
       "      <td>0.000159</td>\n",
       "      <td>...</td>\n",
       "      <td>0.003219</td>\n",
       "      <td>0.007182</td>\n",
       "      <td>0.006328</td>\n",
       "      <td>0.003481</td>\n",
       "      <td>0.012559</td>\n",
       "      <td>0.007772</td>\n",
       "      <td>0.001733</td>\n",
       "      <td>0.004162</td>\n",
       "      <td>0.010112</td>\n",
       "      <td>0.002717</td>\n",
       "    </tr>\n",
       "    <tr>\n",
       "      <th>Buddy Hield</th>\n",
       "      <td>0.000088</td>\n",
       "      <td>0.000066</td>\n",
       "      <td>1.110223e-16</td>\n",
       "      <td>0.000047</td>\n",
       "      <td>1.539915e-04</td>\n",
       "      <td>0.000112</td>\n",
       "      <td>0.000162</td>\n",
       "      <td>0.000234</td>\n",
       "      <td>0.001196</td>\n",
       "      <td>0.000188</td>\n",
       "      <td>...</td>\n",
       "      <td>0.003068</td>\n",
       "      <td>0.006728</td>\n",
       "      <td>0.005926</td>\n",
       "      <td>0.003280</td>\n",
       "      <td>0.011920</td>\n",
       "      <td>0.007224</td>\n",
       "      <td>0.001640</td>\n",
       "      <td>0.003860</td>\n",
       "      <td>0.009519</td>\n",
       "      <td>0.002897</td>\n",
       "    </tr>\n",
       "    <tr>\n",
       "      <th>CJ McCollum</th>\n",
       "      <td>0.000144</td>\n",
       "      <td>0.000112</td>\n",
       "      <td>4.745574e-05</td>\n",
       "      <td>0.000000</td>\n",
       "      <td>1.287313e-04</td>\n",
       "      <td>0.000150</td>\n",
       "      <td>0.000154</td>\n",
       "      <td>0.000261</td>\n",
       "      <td>0.000985</td>\n",
       "      <td>0.000113</td>\n",
       "      <td>...</td>\n",
       "      <td>0.002865</td>\n",
       "      <td>0.006288</td>\n",
       "      <td>0.005557</td>\n",
       "      <td>0.003027</td>\n",
       "      <td>0.011421</td>\n",
       "      <td>0.006840</td>\n",
       "      <td>0.001545</td>\n",
       "      <td>0.003595</td>\n",
       "      <td>0.009034</td>\n",
       "      <td>0.002816</td>\n",
       "    </tr>\n",
       "    <tr>\n",
       "      <th>D'Angelo Russell</th>\n",
       "      <td>0.000189</td>\n",
       "      <td>0.000184</td>\n",
       "      <td>1.539915e-04</td>\n",
       "      <td>0.000129</td>\n",
       "      <td>2.220446e-16</td>\n",
       "      <td>0.000201</td>\n",
       "      <td>0.000133</td>\n",
       "      <td>0.000313</td>\n",
       "      <td>0.000835</td>\n",
       "      <td>0.000093</td>\n",
       "      <td>...</td>\n",
       "      <td>0.002869</td>\n",
       "      <td>0.006462</td>\n",
       "      <td>0.005467</td>\n",
       "      <td>0.003157</td>\n",
       "      <td>0.011229</td>\n",
       "      <td>0.006887</td>\n",
       "      <td>0.001442</td>\n",
       "      <td>0.003700</td>\n",
       "      <td>0.008821</td>\n",
       "      <td>0.002642</td>\n",
       "    </tr>\n",
       "  </tbody>\n",
       "</table>\n",
       "<p>5 rows × 46 columns</p>\n",
       "</div>"
      ],
      "text/plain": [
       "name              Blake Griffin  Bradley Beal   Buddy Hield  CJ McCollum  \\\n",
       "name                                                                       \n",
       "Blake Griffin          0.000000      0.000044  8.770985e-05     0.000144   \n",
       "Bradley Beal           0.000044      0.000000  6.559384e-05     0.000112   \n",
       "Buddy Hield            0.000088      0.000066  1.110223e-16     0.000047   \n",
       "CJ McCollum            0.000144      0.000112  4.745574e-05     0.000000   \n",
       "D'Angelo Russell       0.000189      0.000184  1.539915e-04     0.000129   \n",
       "\n",
       "name              D'Angelo Russell  Damian Lillard  Danilo Gallinari  \\\n",
       "name                                                                   \n",
       "Blake Griffin         1.893541e-04        0.000066          0.000223   \n",
       "Bradley Beal          1.840379e-04        0.000025          0.000225   \n",
       "Buddy Hield           1.539915e-04        0.000112          0.000162   \n",
       "CJ McCollum           1.287313e-04        0.000150          0.000154   \n",
       "D'Angelo Russell      2.220446e-16        0.000201          0.000133   \n",
       "\n",
       "name              DeMar DeRozan  Derrick Rose  Devin Booker  ...  Jordan Loyd  \\\n",
       "name                                                         ...                \n",
       "Blake Griffin          0.000122      0.001399      0.000137  ...     0.003068   \n",
       "Bradley Beal           0.000085      0.001522      0.000159  ...     0.003219   \n",
       "Buddy Hield            0.000234      0.001196      0.000188  ...     0.003068   \n",
       "CJ McCollum            0.000261      0.000985      0.000113  ...     0.002865   \n",
       "D'Angelo Russell       0.000313      0.000835      0.000093  ...     0.002869   \n",
       "\n",
       "name              Jordan McRae  Kalin Lucas  Kendrick Nunn  Lonnie Walker IV  \\\n",
       "name                                                                           \n",
       "Blake Griffin         0.006857     0.006016       0.003328          0.012312   \n",
       "Bradley Beal          0.007182     0.006328       0.003481          0.012559   \n",
       "Buddy Hield           0.006728     0.005926       0.003280          0.011920   \n",
       "CJ McCollum           0.006288     0.005557       0.003027          0.011421   \n",
       "D'Angelo Russell      0.006462     0.005467       0.003157          0.011229   \n",
       "\n",
       "name              Marcus Thornton  PJ Dozier  Rob Gray  Shake Milton  \\\n",
       "name                                                                   \n",
       "Blake Griffin            0.007447   0.001632  0.003986      0.009806   \n",
       "Bradley Beal             0.007772   0.001733  0.004162      0.010112   \n",
       "Buddy Hield              0.007224   0.001640  0.003860      0.009519   \n",
       "CJ McCollum              0.006840   0.001545  0.003595      0.009034   \n",
       "D'Angelo Russell         0.006887   0.001442  0.003700      0.008821   \n",
       "\n",
       "name              Walter Lemon Jr.  \n",
       "name                                \n",
       "Blake Griffin             0.002604  \n",
       "Bradley Beal              0.002717  \n",
       "Buddy Hield               0.002897  \n",
       "CJ McCollum               0.002816  \n",
       "D'Angelo Russell          0.002642  \n",
       "\n",
       "[5 rows x 46 columns]"
      ]
     },
     "execution_count": 85,
     "metadata": {},
     "output_type": "execute_result"
    }
   ],
   "source": [
    "recommender_df.head()"
   ]
  },
  {
   "cell_type": "code",
   "execution_count": 86,
   "metadata": {},
   "outputs": [
    {
     "data": {
      "text/plain": [
       "age                   26.934783\n",
       "Pts                   32.306522\n",
       "Restricted_FG%        62.828261\n",
       "Restricted_FGA         5.082609\n",
       "Restricted_FGM         3.193478\n",
       "Paint_FG%             39.676087\n",
       "Paint_FGA              2.730435\n",
       "Paint_FGM              1.110870\n",
       "Mid_FG%               42.480435\n",
       "Mid_FGA                3.808696\n",
       "Mid_FGM                1.641304\n",
       "Left_Corner_FG%       39.376087\n",
       "Left_Corner_FGA        0.441304\n",
       "Left_Corner_FGM        0.195652\n",
       "Right_Corner_FG%      37.606522\n",
       "Right_Corner_FGA       0.371739\n",
       "Right_Corner_FGM       0.154348\n",
       "Above_Break_FG%       34.684783\n",
       "Above_Break_FGA        5.069565\n",
       "Above_Break_FGM        1.826087\n",
       "FG%                   17.432652\n",
       "3PAr                   0.332739\n",
       "FGA                   25.163043\n",
       "FGM                   11.626087\n",
       "FT%                   30.602304\n",
       "FTAr                   0.290130\n",
       "As%                   24.393478\n",
       "Blk%                   1.071739\n",
       "DRB%                  13.219565\n",
       "Fouls                  3.236957\n",
       "GP                    57.608696\n",
       "MP                  1916.086957\n",
       "ORB%                   2.943478\n",
       "PER                   20.571739\n",
       "Stl%                   1.834783\n",
       "TO%                   11.480435\n",
       "TRB%                   8.082609\n",
       "TS%                    0.570261\n",
       "USG%                  28.632609\n",
       "Cluster                4.000000\n",
       "dtype: float64"
      ]
     },
     "execution_count": 86,
     "metadata": {},
     "output_type": "execute_result"
    }
   ],
   "source": [
    "Stars19.mean()"
   ]
  },
  {
   "cell_type": "code",
   "execution_count": null,
   "metadata": {},
   "outputs": [],
   "source": []
  },
  {
   "cell_type": "markdown",
   "metadata": {},
   "source": [
    "### Return 10 similar Players"
   ]
  },
  {
   "cell_type": "code",
   "execution_count": 87,
   "metadata": {},
   "outputs": [
    {
     "name": "stdout",
     "output_type": "stream",
     "text": [
      "Players\n",
      "\n",
      "10 closest Players\n",
      "name\n",
      "Kyrie Irving        0.000115\n",
      "Devin Booker        0.000150\n",
      "Kawhi Leonard       0.000172\n",
      "Lou Williams        0.000193\n",
      "Stephen Curry       0.000195\n",
      "Zach LaVine         0.000197\n",
      "Mike Conley         0.000220\n",
      "D'Angelo Russell    0.000224\n",
      "Danilo Gallinari    0.000227\n",
      "Jimmy Butler        0.000233\n",
      "Name: LeBron James, dtype: float64\n",
      "\n"
     ]
    }
   ],
   "source": [
    "search = 'LeBron James'\n",
    "\n",
    "for name in Stars19.loc[Stars19['name'].str.contains(search), 'name']:\n",
    "    print('Players')\n",
    "    print('')\n",
    "    print('10 closest Players')\n",
    "    print(recommender_df[name].sort_values()[1:11])\n",
    "    print('')"
   ]
  },
  {
   "cell_type": "code",
   "execution_count": 88,
   "metadata": {},
   "outputs": [
    {
     "data": {
      "image/png": "[encoded data removed]",
      "text/plain": [
       "<Figure size 432x288 with 1 Axes>"
      ]
     },
     "metadata": {
      "needs_background": "light"
     },
     "output_type": "display_data"
    }
   ],
   "source": [
    "plt.hist(Stars19['USG%'])\n",
    "plt.title('Stars USG%');"
   ]
  },
  {
   "cell_type": "code",
   "execution_count": 89,
   "metadata": {},
   "outputs": [
    {
     "data": {
      "image/png": "[encoded data removed]",
      "text/plain": [
       "<Figure size 432x288 with 1 Axes>"
      ]
     },
     "metadata": {
      "needs_background": "light"
     },
     "output_type": "display_data"
    }
   ],
   "source": [
    "plt.hist(Stars19['Pts'])\n",
    "plt.title('Stars Points Per Possesion');"
   ]
  },
  {
   "cell_type": "markdown",
   "metadata": {},
   "source": [
    "### Create DF of Cluster 3"
   ]
  },
  {
   "cell_type": "code",
   "execution_count": 90,
   "metadata": {},
   "outputs": [],
   "source": [
    "Unicorns19 = Players19.loc[Players19['Cluster'] == 3]"
   ]
  },
  {
   "cell_type": "code",
   "execution_count": 91,
   "metadata": {},
   "outputs": [],
   "source": [
    "Unicorns = Unicorns19.set_index(['name'])"
   ]
  },
  {
   "cell_type": "code",
   "execution_count": 92,
   "metadata": {},
   "outputs": [],
   "source": [
    "Unicorns.drop(columns=['Teams','age'],inplace=True)"
   ]
  },
  {
   "cell_type": "code",
   "execution_count": 93,
   "metadata": {},
   "outputs": [],
   "source": [
    "Unicorn_sparse = sparse.csr_matrix(Unicorns.fillna(0))"
   ]
  },
  {
   "cell_type": "markdown",
   "metadata": {},
   "source": [
    "### Build Recommendation System"
   ]
  },
  {
   "cell_type": "code",
   "execution_count": 94,
   "metadata": {},
   "outputs": [],
   "source": [
    "recommender = pairwise_distances(Unicorns, metric='cosine')"
   ]
  },
  {
   "cell_type": "code",
   "execution_count": 95,
   "metadata": {},
   "outputs": [],
   "source": [
    "recommender_df = pd.DataFrame(recommender, index=Unicorns.index, columns=Unicorns.index)"
   ]
  },
  {
   "cell_type": "code",
   "execution_count": 96,
   "metadata": {},
   "outputs": [
    {
     "data": {
      "text/html": [
       "<div>\n",
       "<style scoped>\n",
       "    .dataframe tbody tr th:only-of-type {\n",
       "        vertical-align: middle;\n",
       "    }\n",
       "\n",
       "    .dataframe tbody tr th {\n",
       "        vertical-align: top;\n",
       "    }\n",
       "\n",
       "    .dataframe thead th {\n",
       "        text-align: right;\n",
       "    }\n",
       "</style>\n",
       "<table border=\"1\" class=\"dataframe\">\n",
       "  <thead>\n",
       "    <tr style=\"text-align: right;\">\n",
       "      <th>name</th>\n",
       "      <th>Andre Drummond</th>\n",
       "      <th>Anthony Davis</th>\n",
       "      <th>Ben Simmons</th>\n",
       "      <th>Christian Wood</th>\n",
       "      <th>DeMarcus Cousins</th>\n",
       "      <th>Deandre Ayton</th>\n",
       "      <th>Domantas Sabonis</th>\n",
       "      <th>Enes Kanter</th>\n",
       "      <th>Giannis Antetokounmpo</th>\n",
       "      <th>Joel Embiid</th>\n",
       "      <th>...</th>\n",
       "      <th>Drew Eubanks</th>\n",
       "      <th>Hakim Warrick</th>\n",
       "      <th>Isaiah Hartenstein</th>\n",
       "      <th>JaKarr Sampson</th>\n",
       "      <th>Johnathan Motley</th>\n",
       "      <th>Ray Spalding</th>\n",
       "      <th>Shevon Thompson</th>\n",
       "      <th>Terrence Jones</th>\n",
       "      <th>Willie Reed</th>\n",
       "      <th>Yante Maten</th>\n",
       "    </tr>\n",
       "    <tr>\n",
       "      <th>name</th>\n",
       "      <th></th>\n",
       "      <th></th>\n",
       "      <th></th>\n",
       "      <th></th>\n",
       "      <th></th>\n",
       "      <th></th>\n",
       "      <th></th>\n",
       "      <th></th>\n",
       "      <th></th>\n",
       "      <th></th>\n",
       "      <th></th>\n",
       "      <th></th>\n",
       "      <th></th>\n",
       "      <th></th>\n",
       "      <th></th>\n",
       "      <th></th>\n",
       "      <th></th>\n",
       "      <th></th>\n",
       "      <th></th>\n",
       "      <th></th>\n",
       "      <th></th>\n",
       "    </tr>\n",
       "  </thead>\n",
       "  <tbody>\n",
       "    <tr>\n",
       "      <th>Andre Drummond</th>\n",
       "      <td>2.220446e-16</td>\n",
       "      <td>0.001115</td>\n",
       "      <td>1.560715e-04</td>\n",
       "      <td>8.095925e-02</td>\n",
       "      <td>0.005862</td>\n",
       "      <td>0.000200</td>\n",
       "      <td>0.000837</td>\n",
       "      <td>0.002283</td>\n",
       "      <td>0.000185</td>\n",
       "      <td>0.000351</td>\n",
       "      <td>...</td>\n",
       "      <td>0.015078</td>\n",
       "      <td>0.016995</td>\n",
       "      <td>0.014225</td>\n",
       "      <td>0.016964</td>\n",
       "      <td>0.010224</td>\n",
       "      <td>0.007243</td>\n",
       "      <td>0.024852</td>\n",
       "      <td>0.019466</td>\n",
       "      <td>0.039164</td>\n",
       "      <td>0.008143</td>\n",
       "    </tr>\n",
       "    <tr>\n",
       "      <th>Anthony Davis</th>\n",
       "      <td>1.115467e-03</td>\n",
       "      <td>0.000000</td>\n",
       "      <td>1.629243e-03</td>\n",
       "      <td>7.089563e-02</td>\n",
       "      <td>0.003210</td>\n",
       "      <td>0.001348</td>\n",
       "      <td>0.000419</td>\n",
       "      <td>0.002356</td>\n",
       "      <td>0.000643</td>\n",
       "      <td>0.000288</td>\n",
       "      <td>...</td>\n",
       "      <td>0.013611</td>\n",
       "      <td>0.011731</td>\n",
       "      <td>0.011026</td>\n",
       "      <td>0.013265</td>\n",
       "      <td>0.008490</td>\n",
       "      <td>0.006390</td>\n",
       "      <td>0.022494</td>\n",
       "      <td>0.012825</td>\n",
       "      <td>0.030215</td>\n",
       "      <td>0.006714</td>\n",
       "    </tr>\n",
       "    <tr>\n",
       "      <th>Ben Simmons</th>\n",
       "      <td>1.560715e-04</td>\n",
       "      <td>0.001629</td>\n",
       "      <td>4.440892e-16</td>\n",
       "      <td>8.261505e-02</td>\n",
       "      <td>0.006396</td>\n",
       "      <td>0.000193</td>\n",
       "      <td>0.001268</td>\n",
       "      <td>0.002417</td>\n",
       "      <td>0.000305</td>\n",
       "      <td>0.000679</td>\n",
       "      <td>...</td>\n",
       "      <td>0.015215</td>\n",
       "      <td>0.018014</td>\n",
       "      <td>0.014944</td>\n",
       "      <td>0.017673</td>\n",
       "      <td>0.010478</td>\n",
       "      <td>0.007510</td>\n",
       "      <td>0.025232</td>\n",
       "      <td>0.020773</td>\n",
       "      <td>0.041765</td>\n",
       "      <td>0.008511</td>\n",
       "    </tr>\n",
       "    <tr>\n",
       "      <th>Christian Wood</th>\n",
       "      <td>8.095925e-02</td>\n",
       "      <td>0.070896</td>\n",
       "      <td>8.261505e-02</td>\n",
       "      <td>1.110223e-16</td>\n",
       "      <td>0.046995</td>\n",
       "      <td>0.076926</td>\n",
       "      <td>0.069716</td>\n",
       "      <td>0.067452</td>\n",
       "      <td>0.075847</td>\n",
       "      <td>0.074476</td>\n",
       "      <td>...</td>\n",
       "      <td>0.054160</td>\n",
       "      <td>0.061387</td>\n",
       "      <td>0.048505</td>\n",
       "      <td>0.045808</td>\n",
       "      <td>0.050521</td>\n",
       "      <td>0.055979</td>\n",
       "      <td>0.048156</td>\n",
       "      <td>0.056317</td>\n",
       "      <td>0.050121</td>\n",
       "      <td>0.056755</td>\n",
       "    </tr>\n",
       "    <tr>\n",
       "      <th>DeMarcus Cousins</th>\n",
       "      <td>5.861848e-03</td>\n",
       "      <td>0.003210</td>\n",
       "      <td>6.396312e-03</td>\n",
       "      <td>4.699501e-02</td>\n",
       "      <td>0.000000</td>\n",
       "      <td>0.005080</td>\n",
       "      <td>0.003015</td>\n",
       "      <td>0.005604</td>\n",
       "      <td>0.004286</td>\n",
       "      <td>0.003822</td>\n",
       "      <td>...</td>\n",
       "      <td>0.009721</td>\n",
       "      <td>0.012246</td>\n",
       "      <td>0.006756</td>\n",
       "      <td>0.008941</td>\n",
       "      <td>0.006391</td>\n",
       "      <td>0.004565</td>\n",
       "      <td>0.015605</td>\n",
       "      <td>0.011627</td>\n",
       "      <td>0.023736</td>\n",
       "      <td>0.005911</td>\n",
       "    </tr>\n",
       "  </tbody>\n",
       "</table>\n",
       "<p>5 rows × 35 columns</p>\n",
       "</div>"
      ],
      "text/plain": [
       "name              Andre Drummond  Anthony Davis   Ben Simmons  Christian Wood  \\\n",
       "name                                                                            \n",
       "Andre Drummond      2.220446e-16       0.001115  1.560715e-04    8.095925e-02   \n",
       "Anthony Davis       1.115467e-03       0.000000  1.629243e-03    7.089563e-02   \n",
       "Ben Simmons         1.560715e-04       0.001629  4.440892e-16    8.261505e-02   \n",
       "Christian Wood      8.095925e-02       0.070896  8.261505e-02    1.110223e-16   \n",
       "DeMarcus Cousins    5.861848e-03       0.003210  6.396312e-03    4.699501e-02   \n",
       "\n",
       "name              DeMarcus Cousins  Deandre Ayton  Domantas Sabonis  \\\n",
       "name                                                                  \n",
       "Andre Drummond            0.005862       0.000200          0.000837   \n",
       "Anthony Davis             0.003210       0.001348          0.000419   \n",
       "Ben Simmons               0.006396       0.000193          0.001268   \n",
       "Christian Wood            0.046995       0.076926          0.069716   \n",
       "DeMarcus Cousins          0.000000       0.005080          0.003015   \n",
       "\n",
       "name              Enes Kanter  Giannis Antetokounmpo  Joel Embiid  ...  \\\n",
       "name                                                               ...   \n",
       "Andre Drummond       0.002283               0.000185     0.000351  ...   \n",
       "Anthony Davis        0.002356               0.000643     0.000288  ...   \n",
       "Ben Simmons          0.002417               0.000305     0.000679  ...   \n",
       "Christian Wood       0.067452               0.075847     0.074476  ...   \n",
       "DeMarcus Cousins     0.005604               0.004286     0.003822  ...   \n",
       "\n",
       "name              Drew Eubanks  Hakim Warrick  Isaiah Hartenstein  \\\n",
       "name                                                                \n",
       "Andre Drummond        0.015078       0.016995            0.014225   \n",
       "Anthony Davis         0.013611       0.011731            0.011026   \n",
       "Ben Simmons           0.015215       0.018014            0.014944   \n",
       "Christian Wood        0.054160       0.061387            0.048505   \n",
       "DeMarcus Cousins      0.009721       0.012246            0.006756   \n",
       "\n",
       "name              JaKarr Sampson  Johnathan Motley  Ray Spalding  \\\n",
       "name                                                               \n",
       "Andre Drummond          0.016964          0.010224      0.007243   \n",
       "Anthony Davis           0.013265          0.008490      0.006390   \n",
       "Ben Simmons             0.017673          0.010478      0.007510   \n",
       "Christian Wood          0.045808          0.050521      0.055979   \n",
       "DeMarcus Cousins        0.008941          0.006391      0.004565   \n",
       "\n",
       "name              Shevon Thompson  Terrence Jones  Willie Reed  Yante Maten  \n",
       "name                                                                         \n",
       "Andre Drummond           0.024852        0.019466     0.039164     0.008143  \n",
       "Anthony Davis            0.022494        0.012825     0.030215     0.006714  \n",
       "Ben Simmons              0.025232        0.020773     0.041765     0.008511  \n",
       "Christian Wood           0.048156        0.056317     0.050121     0.056755  \n",
       "DeMarcus Cousins         0.015605        0.011627     0.023736     0.005911  \n",
       "\n",
       "[5 rows x 35 columns]"
      ]
     },
     "execution_count": 96,
     "metadata": {},
     "output_type": "execute_result"
    }
   ],
   "source": [
    "recommender_df.head()"
   ]
  },
  {
   "cell_type": "code",
   "execution_count": 97,
   "metadata": {},
   "outputs": [
    {
     "data": {
      "text/plain": [
       "age                   24.657143\n",
       "Pts                   30.025714\n",
       "Restricted_FG%        69.368571\n",
       "Restricted_FGA         7.120000\n",
       "Restricted_FGM         4.945714\n",
       "Paint_FG%             41.837143\n",
       "Paint_FGA              2.714286\n",
       "Paint_FGM              1.154286\n",
       "Mid_FG%               38.522857\n",
       "Mid_FGA                1.331429\n",
       "Mid_FGM                0.514286\n",
       "Left_Corner_FG%       33.705714\n",
       "Left_Corner_FGA        0.125714\n",
       "Left_Corner_FGM        0.040000\n",
       "Right_Corner_FG%      25.202857\n",
       "Right_Corner_FGA       0.108571\n",
       "Right_Corner_FGM       0.048571\n",
       "Above_Break_FG%       26.488571\n",
       "Above_Break_FGA        1.557143\n",
       "Above_Break_FGM        0.471429\n",
       "FG%                   32.585886\n",
       "3PAr                   0.123800\n",
       "FGA                   20.937143\n",
       "FGM                   11.591429\n",
       "FT%                   40.724343\n",
       "FTAr                   0.394514\n",
       "As%                   14.348571\n",
       "Blk%                   3.634286\n",
       "DRB%                  26.191429\n",
       "Fouls                  4.671429\n",
       "GP                    44.857143\n",
       "MP                  1314.142857\n",
       "ORB%                  11.025714\n",
       "PER                   24.117143\n",
       "Stl%                   1.457143\n",
       "TO%                   13.445714\n",
       "TRB%                  18.662857\n",
       "TS%                    0.612200\n",
       "USG%                  25.354286\n",
       "Cluster                3.000000\n",
       "dtype: float64"
      ]
     },
     "execution_count": 97,
     "metadata": {},
     "output_type": "execute_result"
    }
   ],
   "source": [
    "Unicorns19.mean()"
   ]
  },
  {
   "cell_type": "markdown",
   "metadata": {},
   "source": [
    "### Return 10 similar"
   ]
  },
  {
   "cell_type": "code",
   "execution_count": 98,
   "metadata": {},
   "outputs": [
    {
     "name": "stdout",
     "output_type": "stream",
     "text": [
      "Players\n",
      "\n",
      "10 closest Players\n",
      "name\n",
      "Andre Drummond           0.000156\n",
      "Deandre Ayton            0.000193\n",
      "Montrezl Harrell         0.000230\n",
      "Giannis Antetokounmpo    0.000305\n",
      "Julius Randle            0.000451\n",
      "Karl-Anthony Towns       0.000524\n",
      "Joel Embiid              0.000679\n",
      "John Collins             0.001121\n",
      "Domantas Sabonis         0.001268\n",
      "Anthony Davis            0.001629\n",
      "Name: Ben Simmons, dtype: float64\n",
      "\n"
     ]
    }
   ],
   "source": [
    "search = 'Ben Simmons'\n",
    "\n",
    "for name in Unicorns19.loc[Unicorns19['name'].str.contains(search), 'name']:\n",
    "    print('Players')\n",
    "    print('')\n",
    "    print('10 closest Players')\n",
    "    print(recommender_df[name].sort_values()[1:11])\n",
    "    print('')"
   ]
  },
  {
   "cell_type": "code",
   "execution_count": 99,
   "metadata": {},
   "outputs": [
    {
     "data": {
      "image/png": "[encoded data removed]",
      "text/plain": [
       "<Figure size 432x288 with 1 Axes>"
      ]
     },
     "metadata": {
      "needs_background": "light"
     },
     "output_type": "display_data"
    }
   ],
   "source": [
    "plt.hist(Unicorns19['TRB%'])\n",
    "plt.title('Unicorns Total Rebound%');"
   ]
  },
  {
   "cell_type": "code",
   "execution_count": 100,
   "metadata": {},
   "outputs": [
    {
     "data": {
      "image/png": "[encoded data removed]",
      "text/plain": [
       "<Figure size 432x288 with 1 Axes>"
      ]
     },
     "metadata": {
      "needs_background": "light"
     },
     "output_type": "display_data"
    }
   ],
   "source": [
    "plt.hist(Unicorns19['Restricted_FG%'])\n",
    "plt.title('Unicorns Restricted AreaFG%');"
   ]
  },
  {
   "cell_type": "code",
   "execution_count": 101,
   "metadata": {},
   "outputs": [
    {
     "data": {
      "image/png": "[encoded data removed]",
      "text/plain": [
       "<Figure size 432x288 with 1 Axes>"
      ]
     },
     "metadata": {
      "needs_background": "light"
     },
     "output_type": "display_data"
    }
   ],
   "source": [
    "plt.hist(Unicorns19['As%'])\n",
    "plt.title('Unicorns As%');"
   ]
  },
  {
   "cell_type": "markdown",
   "metadata": {},
   "source": [
    "### Create DF of Cluster 5"
   ]
  },
  {
   "cell_type": "code",
   "execution_count": 102,
   "metadata": {},
   "outputs": [],
   "source": [
    "LowUsage_Guards19 = Players19.loc[Players19['Cluster'] == 5]"
   ]
  },
  {
   "cell_type": "code",
   "execution_count": 103,
   "metadata": {},
   "outputs": [],
   "source": [
    "LowUsage_Guards = LowUsage_Guards19.set_index(['name'])"
   ]
  },
  {
   "cell_type": "code",
   "execution_count": 104,
   "metadata": {},
   "outputs": [],
   "source": [
    "LowUsage_Guards.drop(columns=['Teams','age'],inplace=True)"
   ]
  },
  {
   "cell_type": "code",
   "execution_count": 105,
   "metadata": {},
   "outputs": [],
   "source": [
    "LowUsage_sparse = sparse.csr_matrix(LowUsage_Guards.fillna(0))"
   ]
  },
  {
   "cell_type": "markdown",
   "metadata": {},
   "source": [
    "### Build Recommender"
   ]
  },
  {
   "cell_type": "code",
   "execution_count": 106,
   "metadata": {},
   "outputs": [],
   "source": [
    "recommender = pairwise_distances(LowUsage_Guards, metric='cosine')"
   ]
  },
  {
   "cell_type": "code",
   "execution_count": 107,
   "metadata": {},
   "outputs": [],
   "source": [
    "recommender_df = pd.DataFrame(recommender, index=LowUsage_Guards.index, columns=LowUsage_Guards.index)"
   ]
  },
  {
   "cell_type": "code",
   "execution_count": 108,
   "metadata": {},
   "outputs": [
    {
     "data": {
      "text/html": [
       "<div>\n",
       "<style scoped>\n",
       "    .dataframe tbody tr th:only-of-type {\n",
       "        vertical-align: middle;\n",
       "    }\n",
       "\n",
       "    .dataframe tbody tr th {\n",
       "        vertical-align: top;\n",
       "    }\n",
       "\n",
       "    .dataframe thead th {\n",
       "        text-align: right;\n",
       "    }\n",
       "</style>\n",
       "<table border=\"1\" class=\"dataframe\">\n",
       "  <thead>\n",
       "    <tr style=\"text-align: right;\">\n",
       "      <th>name</th>\n",
       "      <th>Abdel Nader</th>\n",
       "      <th>Anthony Tolliver</th>\n",
       "      <th>Austin Rivers</th>\n",
       "      <th>Bruce Brown</th>\n",
       "      <th>Chandler Hutchison</th>\n",
       "      <th>Channing Frye</th>\n",
       "      <th>Corey Brewer</th>\n",
       "      <th>D.J. Wilson</th>\n",
       "      <th>Dante Cunningham</th>\n",
       "      <th>De'Anthony Melton</th>\n",
       "      <th>...</th>\n",
       "      <th>Nuni Omot</th>\n",
       "      <th>Paul Watson</th>\n",
       "      <th>Phillip Carr</th>\n",
       "      <th>Robert Heyer</th>\n",
       "      <th>Sam Thompson</th>\n",
       "      <th>Sanjay Lumpkin</th>\n",
       "      <th>Tim Bond</th>\n",
       "      <th>Todd Withers</th>\n",
       "      <th>Trayvon Palmer</th>\n",
       "      <th>V.J. Beachem</th>\n",
       "    </tr>\n",
       "    <tr>\n",
       "      <th>name</th>\n",
       "      <th></th>\n",
       "      <th></th>\n",
       "      <th></th>\n",
       "      <th></th>\n",
       "      <th></th>\n",
       "      <th></th>\n",
       "      <th></th>\n",
       "      <th></th>\n",
       "      <th></th>\n",
       "      <th></th>\n",
       "      <th></th>\n",
       "      <th></th>\n",
       "      <th></th>\n",
       "      <th></th>\n",
       "      <th></th>\n",
       "      <th></th>\n",
       "      <th></th>\n",
       "      <th></th>\n",
       "      <th></th>\n",
       "      <th></th>\n",
       "      <th></th>\n",
       "    </tr>\n",
       "  </thead>\n",
       "  <tbody>\n",
       "    <tr>\n",
       "      <th>Abdel Nader</th>\n",
       "      <td>1.110223e-16</td>\n",
       "      <td>0.002855</td>\n",
       "      <td>0.006141</td>\n",
       "      <td>0.004571</td>\n",
       "      <td>0.002170</td>\n",
       "      <td>0.016681</td>\n",
       "      <td>0.003474</td>\n",
       "      <td>0.001261</td>\n",
       "      <td>0.001032</td>\n",
       "      <td>0.002062</td>\n",
       "      <td>...</td>\n",
       "      <td>0.013825</td>\n",
       "      <td>0.006607</td>\n",
       "      <td>0.065344</td>\n",
       "      <td>0.009567</td>\n",
       "      <td>0.005958</td>\n",
       "      <td>0.007293</td>\n",
       "      <td>0.007083</td>\n",
       "      <td>0.006013</td>\n",
       "      <td>0.008370</td>\n",
       "      <td>0.006786</td>\n",
       "    </tr>\n",
       "    <tr>\n",
       "      <th>Anthony Tolliver</th>\n",
       "      <td>2.854665e-03</td>\n",
       "      <td>0.000000</td>\n",
       "      <td>0.001247</td>\n",
       "      <td>0.000715</td>\n",
       "      <td>0.000661</td>\n",
       "      <td>0.028129</td>\n",
       "      <td>0.006694</td>\n",
       "      <td>0.000648</td>\n",
       "      <td>0.001365</td>\n",
       "      <td>0.001179</td>\n",
       "      <td>...</td>\n",
       "      <td>0.016790</td>\n",
       "      <td>0.002150</td>\n",
       "      <td>0.072837</td>\n",
       "      <td>0.010185</td>\n",
       "      <td>0.004036</td>\n",
       "      <td>0.006367</td>\n",
       "      <td>0.006687</td>\n",
       "      <td>0.002594</td>\n",
       "      <td>0.008217</td>\n",
       "      <td>0.005862</td>\n",
       "    </tr>\n",
       "    <tr>\n",
       "      <th>Austin Rivers</th>\n",
       "      <td>6.140619e-03</td>\n",
       "      <td>0.001247</td>\n",
       "      <td>0.000000</td>\n",
       "      <td>0.000239</td>\n",
       "      <td>0.002188</td>\n",
       "      <td>0.037980</td>\n",
       "      <td>0.011221</td>\n",
       "      <td>0.002496</td>\n",
       "      <td>0.003632</td>\n",
       "      <td>0.001974</td>\n",
       "      <td>...</td>\n",
       "      <td>0.019639</td>\n",
       "      <td>0.001403</td>\n",
       "      <td>0.085563</td>\n",
       "      <td>0.012367</td>\n",
       "      <td>0.005204</td>\n",
       "      <td>0.007909</td>\n",
       "      <td>0.008330</td>\n",
       "      <td>0.003262</td>\n",
       "      <td>0.011102</td>\n",
       "      <td>0.007080</td>\n",
       "    </tr>\n",
       "    <tr>\n",
       "      <th>Bruce Brown</th>\n",
       "      <td>4.571446e-03</td>\n",
       "      <td>0.000715</td>\n",
       "      <td>0.000239</td>\n",
       "      <td>0.000000</td>\n",
       "      <td>0.001574</td>\n",
       "      <td>0.034144</td>\n",
       "      <td>0.009219</td>\n",
       "      <td>0.001744</td>\n",
       "      <td>0.002691</td>\n",
       "      <td>0.001298</td>\n",
       "      <td>...</td>\n",
       "      <td>0.017914</td>\n",
       "      <td>0.001462</td>\n",
       "      <td>0.081374</td>\n",
       "      <td>0.011475</td>\n",
       "      <td>0.004566</td>\n",
       "      <td>0.007002</td>\n",
       "      <td>0.007212</td>\n",
       "      <td>0.002936</td>\n",
       "      <td>0.010062</td>\n",
       "      <td>0.006422</td>\n",
       "    </tr>\n",
       "    <tr>\n",
       "      <th>Chandler Hutchison</th>\n",
       "      <td>2.169919e-03</td>\n",
       "      <td>0.000661</td>\n",
       "      <td>0.002188</td>\n",
       "      <td>0.001574</td>\n",
       "      <td>0.000000</td>\n",
       "      <td>0.026604</td>\n",
       "      <td>0.005633</td>\n",
       "      <td>0.000328</td>\n",
       "      <td>0.001435</td>\n",
       "      <td>0.001361</td>\n",
       "      <td>...</td>\n",
       "      <td>0.016099</td>\n",
       "      <td>0.002941</td>\n",
       "      <td>0.068835</td>\n",
       "      <td>0.008697</td>\n",
       "      <td>0.003880</td>\n",
       "      <td>0.006077</td>\n",
       "      <td>0.006673</td>\n",
       "      <td>0.002609</td>\n",
       "      <td>0.006854</td>\n",
       "      <td>0.005327</td>\n",
       "    </tr>\n",
       "  </tbody>\n",
       "</table>\n",
       "<p>5 rows × 95 columns</p>\n",
       "</div>"
      ],
      "text/plain": [
       "name                 Abdel Nader  Anthony Tolliver  Austin Rivers  \\\n",
       "name                                                                \n",
       "Abdel Nader         1.110223e-16          0.002855       0.006141   \n",
       "Anthony Tolliver    2.854665e-03          0.000000       0.001247   \n",
       "Austin Rivers       6.140619e-03          0.001247       0.000000   \n",
       "Bruce Brown         4.571446e-03          0.000715       0.000239   \n",
       "Chandler Hutchison  2.169919e-03          0.000661       0.002188   \n",
       "\n",
       "name                Bruce Brown  Chandler Hutchison  Channing Frye  \\\n",
       "name                                                                 \n",
       "Abdel Nader            0.004571            0.002170       0.016681   \n",
       "Anthony Tolliver       0.000715            0.000661       0.028129   \n",
       "Austin Rivers          0.000239            0.002188       0.037980   \n",
       "Bruce Brown            0.000000            0.001574       0.034144   \n",
       "Chandler Hutchison     0.001574            0.000000       0.026604   \n",
       "\n",
       "name                Corey Brewer  D.J. Wilson  Dante Cunningham  \\\n",
       "name                                                              \n",
       "Abdel Nader             0.003474     0.001261          0.001032   \n",
       "Anthony Tolliver        0.006694     0.000648          0.001365   \n",
       "Austin Rivers           0.011221     0.002496          0.003632   \n",
       "Bruce Brown             0.009219     0.001744          0.002691   \n",
       "Chandler Hutchison      0.005633     0.000328          0.001435   \n",
       "\n",
       "name                De'Anthony Melton  ...  Nuni Omot  Paul Watson  \\\n",
       "name                                   ...                           \n",
       "Abdel Nader                  0.002062  ...   0.013825     0.006607   \n",
       "Anthony Tolliver             0.001179  ...   0.016790     0.002150   \n",
       "Austin Rivers                0.001974  ...   0.019639     0.001403   \n",
       "Bruce Brown                  0.001298  ...   0.017914     0.001462   \n",
       "Chandler Hutchison           0.001361  ...   0.016099     0.002941   \n",
       "\n",
       "name                Phillip Carr  Robert Heyer  Sam Thompson  Sanjay Lumpkin  \\\n",
       "name                                                                           \n",
       "Abdel Nader             0.065344      0.009567      0.005958        0.007293   \n",
       "Anthony Tolliver        0.072837      0.010185      0.004036        0.006367   \n",
       "Austin Rivers           0.085563      0.012367      0.005204        0.007909   \n",
       "Bruce Brown             0.081374      0.011475      0.004566        0.007002   \n",
       "Chandler Hutchison      0.068835      0.008697      0.003880        0.006077   \n",
       "\n",
       "name                Tim Bond  Todd Withers  Trayvon Palmer  V.J. Beachem  \n",
       "name                                                                      \n",
       "Abdel Nader         0.007083      0.006013        0.008370      0.006786  \n",
       "Anthony Tolliver    0.006687      0.002594        0.008217      0.005862  \n",
       "Austin Rivers       0.008330      0.003262        0.011102      0.007080  \n",
       "Bruce Brown         0.007212      0.002936        0.010062      0.006422  \n",
       "Chandler Hutchison  0.006673      0.002609        0.006854      0.005327  \n",
       "\n",
       "[5 rows x 95 columns]"
      ]
     },
     "execution_count": 108,
     "metadata": {},
     "output_type": "execute_result"
    }
   ],
   "source": [
    "recommender_df.head()"
   ]
  },
  {
   "cell_type": "code",
   "execution_count": 109,
   "metadata": {},
   "outputs": [
    {
     "data": {
      "text/plain": [
       "age                  25.126316\n",
       "Pts                  13.596842\n",
       "Restricted_FG%       57.201053\n",
       "Restricted_FGA        1.272632\n",
       "Restricted_FGM        0.738947\n",
       "Paint_FG%            31.037895\n",
       "Paint_FGA             0.506316\n",
       "Paint_FGM             0.164211\n",
       "Mid_FG%              29.106316\n",
       "Mid_FGA               0.398947\n",
       "Mid_FGM               0.125263\n",
       "Left_Corner_FG%      32.747368\n",
       "Left_Corner_FGA       0.468421\n",
       "Left_Corner_FGM       0.165263\n",
       "Right_Corner_FG%     32.467368\n",
       "Right_Corner_FGA      0.426316\n",
       "Right_Corner_FGM      0.150526\n",
       "Above_Break_FG%      30.295789\n",
       "Above_Break_FGA       1.443158\n",
       "Above_Break_FGM       0.464211\n",
       "FG%                  14.549000\n",
       "3PAr                  0.501979\n",
       "FGA                  12.601053\n",
       "FGM                   4.940000\n",
       "FT%                  27.388674\n",
       "FTAr                  0.192189\n",
       "As%                   8.997895\n",
       "Blk%                  1.292632\n",
       "DRB%                 12.782105\n",
       "Fouls                 4.717895\n",
       "GP                   45.557895\n",
       "MP                  806.452632\n",
       "ORB%                  3.432632\n",
       "PER                   8.321053\n",
       "Stl%                  1.509474\n",
       "TO%                  13.311579\n",
       "TRB%                  8.110526\n",
       "TS%                   0.501484\n",
       "USG%                 14.038947\n",
       "Cluster               5.000000\n",
       "dtype: float64"
      ]
     },
     "execution_count": 109,
     "metadata": {},
     "output_type": "execute_result"
    }
   ],
   "source": [
    "LowUsage_Guards19.mean()"
   ]
  },
  {
   "cell_type": "markdown",
   "metadata": {},
   "source": [
    "### Return 10 similar"
   ]
  },
  {
   "cell_type": "code",
   "execution_count": 110,
   "metadata": {},
   "outputs": [
    {
     "name": "stdout",
     "output_type": "stream",
     "text": [
      "Players\n",
      "\n",
      "10 closest Players\n",
      "name\n",
      "Dorian Finney-Smith    0.000050\n",
      "Garrett Temple         0.000057\n",
      "Mikal Bridges          0.000104\n",
      "Patrick Beverley       0.000116\n",
      "Josh Okogie            0.000126\n",
      "Josh Hart              0.000137\n",
      "Terrance Ferguson      0.000142\n",
      "Rodney McGruder        0.000173\n",
      "Bruce Brown            0.000239\n",
      "Torrey Craig           0.000302\n",
      "Name: Austin Rivers, dtype: float64\n",
      "\n"
     ]
    }
   ],
   "source": [
    "search = 'Austin Rivers'\n",
    "\n",
    "for name in LowUsage_Guards19.loc[LowUsage_Guards19['name'].str.contains(search), 'name']:\n",
    "    print('Players')\n",
    "    print('')\n",
    "    print('10 closest Players')\n",
    "    print(recommender_df[name].sort_values()[1:11])\n",
    "    print('')"
   ]
  },
  {
   "cell_type": "code",
   "execution_count": 111,
   "metadata": {},
   "outputs": [
    {
     "data": {
      "image/png": "[encoded data removed]",
      "text/plain": [
       "<Figure size 432x288 with 1 Axes>"
      ]
     },
     "metadata": {
      "needs_background": "light"
     },
     "output_type": "display_data"
    }
   ],
   "source": [
    "plt.hist(LowUsage_Guards19['USG%'])\n",
    "plt.title('Offball Guards USG%');"
   ]
  },
  {
   "cell_type": "code",
   "execution_count": 112,
   "metadata": {},
   "outputs": [
    {
     "data": {
      "image/png": "[encoded data removed]",
      "text/plain": [
       "<Figure size 432x288 with 1 Axes>"
      ]
     },
     "metadata": {
      "needs_background": "light"
     },
     "output_type": "display_data"
    }
   ],
   "source": [
    "plt.hist(LowUsage_Guards19['Stl%'])\n",
    "plt.title('Offball Guards Stl%');"
   ]
  },
  {
   "cell_type": "markdown",
   "metadata": {},
   "source": [
    "### Create DF of Cluster 0"
   ]
  },
  {
   "cell_type": "code",
   "execution_count": 113,
   "metadata": {},
   "outputs": [],
   "source": [
    "Playmaking_Guards19 = Players19.loc[Players19['Cluster'] == 0]"
   ]
  },
  {
   "cell_type": "code",
   "execution_count": 114,
   "metadata": {},
   "outputs": [],
   "source": [
    "Playmaking_Guards = Playmaking_Guards19.set_index(['name'])"
   ]
  },
  {
   "cell_type": "code",
   "execution_count": 115,
   "metadata": {},
   "outputs": [],
   "source": [
    "Playmaking_Guards.drop(columns=['Teams','age'],inplace=True)"
   ]
  },
  {
   "cell_type": "code",
   "execution_count": 116,
   "metadata": {},
   "outputs": [],
   "source": [
    "PG_sparse = sparse.csr_matrix(Playmaking_Guards.fillna(0))"
   ]
  },
  {
   "cell_type": "markdown",
   "metadata": {},
   "source": [
    "### Build Recommender"
   ]
  },
  {
   "cell_type": "code",
   "execution_count": 117,
   "metadata": {},
   "outputs": [],
   "source": [
    "recommender = pairwise_distances(Playmaking_Guards, metric='cosine')"
   ]
  },
  {
   "cell_type": "code",
   "execution_count": 118,
   "metadata": {},
   "outputs": [],
   "source": [
    "recommender_df = pd.DataFrame(recommender, index=Playmaking_Guards.index, columns=Playmaking_Guards.index)"
   ]
  },
  {
   "cell_type": "code",
   "execution_count": 119,
   "metadata": {},
   "outputs": [
    {
     "data": {
      "text/html": [
       "<div>\n",
       "<style scoped>\n",
       "    .dataframe tbody tr th:only-of-type {\n",
       "        vertical-align: middle;\n",
       "    }\n",
       "\n",
       "    .dataframe tbody tr th {\n",
       "        vertical-align: top;\n",
       "    }\n",
       "\n",
       "    .dataframe thead th {\n",
       "        text-align: right;\n",
       "    }\n",
       "</style>\n",
       "<table border=\"1\" class=\"dataframe\">\n",
       "  <thead>\n",
       "    <tr style=\"text-align: right;\">\n",
       "      <th>name</th>\n",
       "      <th>Andrew Wiggins</th>\n",
       "      <th>Brandon Ingram</th>\n",
       "      <th>Chris Paul</th>\n",
       "      <th>Collin Sexton</th>\n",
       "      <th>Darren Collison</th>\n",
       "      <th>De'Aaron Fox</th>\n",
       "      <th>Dwyane Wade</th>\n",
       "      <th>Emmanuel Mudiay</th>\n",
       "      <th>Eric Bledsoe</th>\n",
       "      <th>Evan Fournier</th>\n",
       "      <th>...</th>\n",
       "      <th>Scott Machado</th>\n",
       "      <th>Scotty Hopson</th>\n",
       "      <th>Tarik Phillip</th>\n",
       "      <th>Theo Pinson</th>\n",
       "      <th>Travis Wear</th>\n",
       "      <th>Trevon Bluiett</th>\n",
       "      <th>Troy Caupain</th>\n",
       "      <th>Tyler Harvey</th>\n",
       "      <th>Xavier Rathan-Mayes</th>\n",
       "      <th>Zach Lofton</th>\n",
       "    </tr>\n",
       "    <tr>\n",
       "      <th>name</th>\n",
       "      <th></th>\n",
       "      <th></th>\n",
       "      <th></th>\n",
       "      <th></th>\n",
       "      <th></th>\n",
       "      <th></th>\n",
       "      <th></th>\n",
       "      <th></th>\n",
       "      <th></th>\n",
       "      <th></th>\n",
       "      <th></th>\n",
       "      <th></th>\n",
       "      <th></th>\n",
       "      <th></th>\n",
       "      <th></th>\n",
       "      <th></th>\n",
       "      <th></th>\n",
       "      <th></th>\n",
       "      <th></th>\n",
       "      <th></th>\n",
       "      <th></th>\n",
       "    </tr>\n",
       "  </thead>\n",
       "  <tbody>\n",
       "    <tr>\n",
       "      <th>Andrew Wiggins</th>\n",
       "      <td>0.000000</td>\n",
       "      <td>3.234342e-04</td>\n",
       "      <td>3.917885e-04</td>\n",
       "      <td>0.000058</td>\n",
       "      <td>0.000260</td>\n",
       "      <td>0.000159</td>\n",
       "      <td>0.000275</td>\n",
       "      <td>0.000546</td>\n",
       "      <td>0.000207</td>\n",
       "      <td>0.000045</td>\n",
       "      <td>...</td>\n",
       "      <td>0.003433</td>\n",
       "      <td>0.008112</td>\n",
       "      <td>0.002906</td>\n",
       "      <td>0.004333</td>\n",
       "      <td>0.004185</td>\n",
       "      <td>0.022638</td>\n",
       "      <td>0.002561</td>\n",
       "      <td>0.007664</td>\n",
       "      <td>0.008779</td>\n",
       "      <td>0.019942</td>\n",
       "    </tr>\n",
       "    <tr>\n",
       "      <th>Brandon Ingram</th>\n",
       "      <td>0.000323</td>\n",
       "      <td>3.330669e-16</td>\n",
       "      <td>1.512139e-04</td>\n",
       "      <td>0.000391</td>\n",
       "      <td>0.000219</td>\n",
       "      <td>0.000300</td>\n",
       "      <td>0.000107</td>\n",
       "      <td>0.000143</td>\n",
       "      <td>0.000243</td>\n",
       "      <td>0.000241</td>\n",
       "      <td>...</td>\n",
       "      <td>0.002807</td>\n",
       "      <td>0.006218</td>\n",
       "      <td>0.002309</td>\n",
       "      <td>0.003606</td>\n",
       "      <td>0.003216</td>\n",
       "      <td>0.019926</td>\n",
       "      <td>0.001874</td>\n",
       "      <td>0.006109</td>\n",
       "      <td>0.007432</td>\n",
       "      <td>0.017471</td>\n",
       "    </tr>\n",
       "    <tr>\n",
       "      <th>Chris Paul</th>\n",
       "      <td>0.000392</td>\n",
       "      <td>1.512139e-04</td>\n",
       "      <td>1.110223e-16</td>\n",
       "      <td>0.000405</td>\n",
       "      <td>0.000180</td>\n",
       "      <td>0.000277</td>\n",
       "      <td>0.000117</td>\n",
       "      <td>0.000111</td>\n",
       "      <td>0.000266</td>\n",
       "      <td>0.000284</td>\n",
       "      <td>...</td>\n",
       "      <td>0.002686</td>\n",
       "      <td>0.006434</td>\n",
       "      <td>0.002333</td>\n",
       "      <td>0.003654</td>\n",
       "      <td>0.003427</td>\n",
       "      <td>0.020205</td>\n",
       "      <td>0.002005</td>\n",
       "      <td>0.006280</td>\n",
       "      <td>0.007278</td>\n",
       "      <td>0.017669</td>\n",
       "    </tr>\n",
       "    <tr>\n",
       "      <th>Collin Sexton</th>\n",
       "      <td>0.000058</td>\n",
       "      <td>3.911793e-04</td>\n",
       "      <td>4.052568e-04</td>\n",
       "      <td>0.000000</td>\n",
       "      <td>0.000336</td>\n",
       "      <td>0.000094</td>\n",
       "      <td>0.000335</td>\n",
       "      <td>0.000623</td>\n",
       "      <td>0.000149</td>\n",
       "      <td>0.000042</td>\n",
       "      <td>...</td>\n",
       "      <td>0.003458</td>\n",
       "      <td>0.008258</td>\n",
       "      <td>0.002839</td>\n",
       "      <td>0.004512</td>\n",
       "      <td>0.004429</td>\n",
       "      <td>0.023060</td>\n",
       "      <td>0.002789</td>\n",
       "      <td>0.008062</td>\n",
       "      <td>0.009247</td>\n",
       "      <td>0.020634</td>\n",
       "    </tr>\n",
       "    <tr>\n",
       "      <th>Darren Collison</th>\n",
       "      <td>0.000260</td>\n",
       "      <td>2.192612e-04</td>\n",
       "      <td>1.797208e-04</td>\n",
       "      <td>0.000336</td>\n",
       "      <td>0.000000</td>\n",
       "      <td>0.000209</td>\n",
       "      <td>0.000176</td>\n",
       "      <td>0.000273</td>\n",
       "      <td>0.000218</td>\n",
       "      <td>0.000180</td>\n",
       "      <td>...</td>\n",
       "      <td>0.003039</td>\n",
       "      <td>0.006951</td>\n",
       "      <td>0.002574</td>\n",
       "      <td>0.004012</td>\n",
       "      <td>0.003603</td>\n",
       "      <td>0.020958</td>\n",
       "      <td>0.001936</td>\n",
       "      <td>0.006515</td>\n",
       "      <td>0.007950</td>\n",
       "      <td>0.018653</td>\n",
       "    </tr>\n",
       "  </tbody>\n",
       "</table>\n",
       "<p>5 rows × 88 columns</p>\n",
       "</div>"
      ],
      "text/plain": [
       "name             Andrew Wiggins  Brandon Ingram    Chris Paul  Collin Sexton  \\\n",
       "name                                                                           \n",
       "Andrew Wiggins         0.000000    3.234342e-04  3.917885e-04       0.000058   \n",
       "Brandon Ingram         0.000323    3.330669e-16  1.512139e-04       0.000391   \n",
       "Chris Paul             0.000392    1.512139e-04  1.110223e-16       0.000405   \n",
       "Collin Sexton          0.000058    3.911793e-04  4.052568e-04       0.000000   \n",
       "Darren Collison        0.000260    2.192612e-04  1.797208e-04       0.000336   \n",
       "\n",
       "name             Darren Collison  De'Aaron Fox  Dwyane Wade  Emmanuel Mudiay  \\\n",
       "name                                                                           \n",
       "Andrew Wiggins          0.000260      0.000159     0.000275         0.000546   \n",
       "Brandon Ingram          0.000219      0.000300     0.000107         0.000143   \n",
       "Chris Paul              0.000180      0.000277     0.000117         0.000111   \n",
       "Collin Sexton           0.000336      0.000094     0.000335         0.000623   \n",
       "Darren Collison         0.000000      0.000209     0.000176         0.000273   \n",
       "\n",
       "name             Eric Bledsoe  Evan Fournier  ...  Scott Machado  \\\n",
       "name                                          ...                  \n",
       "Andrew Wiggins       0.000207       0.000045  ...       0.003433   \n",
       "Brandon Ingram       0.000243       0.000241  ...       0.002807   \n",
       "Chris Paul           0.000266       0.000284  ...       0.002686   \n",
       "Collin Sexton        0.000149       0.000042  ...       0.003458   \n",
       "Darren Collison      0.000218       0.000180  ...       0.003039   \n",
       "\n",
       "name             Scotty Hopson  Tarik Phillip  Theo Pinson  Travis Wear  \\\n",
       "name                                                                      \n",
       "Andrew Wiggins        0.008112       0.002906     0.004333     0.004185   \n",
       "Brandon Ingram        0.006218       0.002309     0.003606     0.003216   \n",
       "Chris Paul            0.006434       0.002333     0.003654     0.003427   \n",
       "Collin Sexton         0.008258       0.002839     0.004512     0.004429   \n",
       "Darren Collison       0.006951       0.002574     0.004012     0.003603   \n",
       "\n",
       "name             Trevon Bluiett  Troy Caupain  Tyler Harvey  \\\n",
       "name                                                          \n",
       "Andrew Wiggins         0.022638      0.002561      0.007664   \n",
       "Brandon Ingram         0.019926      0.001874      0.006109   \n",
       "Chris Paul             0.020205      0.002005      0.006280   \n",
       "Collin Sexton          0.023060      0.002789      0.008062   \n",
       "Darren Collison        0.020958      0.001936      0.006515   \n",
       "\n",
       "name             Xavier Rathan-Mayes  Zach Lofton  \n",
       "name                                               \n",
       "Andrew Wiggins              0.008779     0.019942  \n",
       "Brandon Ingram              0.007432     0.017471  \n",
       "Chris Paul                  0.007278     0.017669  \n",
       "Collin Sexton               0.009247     0.020634  \n",
       "Darren Collison             0.007950     0.018653  \n",
       "\n",
       "[5 rows x 88 columns]"
      ]
     },
     "execution_count": 119,
     "metadata": {},
     "output_type": "execute_result"
    }
   ],
   "source": [
    "recommender_df.head()"
   ]
  },
  {
   "cell_type": "code",
   "execution_count": 120,
   "metadata": {},
   "outputs": [
    {
     "data": {
      "text/plain": [
       "Pts                   24.212500\n",
       "Restricted_FG%        59.819318\n",
       "Restricted_FGA         3.490909\n",
       "Restricted_FGM         2.082955\n",
       "Paint_FG%             39.005682\n",
       "Paint_FGA              2.080682\n",
       "Paint_FGM              0.831818\n",
       "Mid_FG%               40.285227\n",
       "Mid_FGA                2.187500\n",
       "Mid_FGM                0.877273\n",
       "Left_Corner_FG%       37.985227\n",
       "Left_Corner_FGA        0.496591\n",
       "Left_Corner_FGM        0.202273\n",
       "Right_Corner_FG%      40.025000\n",
       "Right_Corner_FGA       0.400000\n",
       "Right_Corner_FGM       0.170455\n",
       "Above_Break_FG%       35.182955\n",
       "Above_Break_FGA        3.909091\n",
       "Above_Break_FGM        1.395455\n",
       "FG%                   26.280284\n",
       "3PAr                   0.383273\n",
       "FGA                   20.092045\n",
       "FGM                    8.847727\n",
       "FT%                   47.480886\n",
       "FTAr                   0.234398\n",
       "As%                   19.852273\n",
       "Blk%                   0.806818\n",
       "DRB%                  11.978409\n",
       "Fouls                  3.428409\n",
       "GP                    49.659091\n",
       "MP                  1460.056818\n",
       "ORB%                   2.521591\n",
       "PER                   15.319318\n",
       "Stl%                   1.750000\n",
       "TO%                   12.730682\n",
       "TRB%                   7.254545\n",
       "TS%                    0.549239\n",
       "USG%                  22.750000\n",
       "Cluster                0.000000\n",
       "dtype: float64"
      ]
     },
     "execution_count": 120,
     "metadata": {},
     "output_type": "execute_result"
    }
   ],
   "source": [
    "Playmaking_Guards.mean()"
   ]
  },
  {
   "cell_type": "markdown",
   "metadata": {},
   "source": [
    "### Return 10 similar"
   ]
  },
  {
   "cell_type": "code",
   "execution_count": 121,
   "metadata": {},
   "outputs": [
    {
     "name": "stdout",
     "output_type": "stream",
     "text": [
      "Players\n",
      "\n",
      "10 closest Players\n",
      "name\n",
      "Ricky Rubio          0.000061\n",
      "Jordan Clarkson      0.000092\n",
      "Brandon Ingram       0.000107\n",
      "Spencer Dinwiddie    0.000108\n",
      "Reggie Jackson       0.000110\n",
      "Emmanuel Mudiay      0.000111\n",
      "Chris Paul           0.000117\n",
      "Jamal Murray         0.000135\n",
      "Kyle Lowry           0.000137\n",
      "Terrence Ross        0.000145\n",
      "Name: Dwyane Wade, dtype: float64\n",
      "\n"
     ]
    }
   ],
   "source": [
    "search = 'Dwyane Wade'\n",
    "\n",
    "for name in Playmaking_Guards19.loc[Playmaking_Guards19['name'].str.contains(search), 'name']:\n",
    "    print('Players')\n",
    "    print('')\n",
    "    print('10 closest Players')\n",
    "    print(recommender_df[name].sort_values()[1:11])\n",
    "    print('')"
   ]
  },
  {
   "cell_type": "code",
   "execution_count": 122,
   "metadata": {},
   "outputs": [
    {
     "data": {
      "image/png": "[encoded data removed]",
      "text/plain": [
       "<Figure size 432x288 with 1 Axes>"
      ]
     },
     "metadata": {
      "needs_background": "light"
     },
     "output_type": "display_data"
    }
   ],
   "source": [
    "# Visualization\n",
    "plt.hist(Playmaking_Guards19['Mid_FG%'])\n",
    "plt.title('Playmakers Mid FG%');"
   ]
  },
  {
   "cell_type": "code",
   "execution_count": 123,
   "metadata": {},
   "outputs": [
    {
     "data": {
      "image/png": "[encoded data removed]",
      "text/plain": [
       "<Figure size 432x288 with 1 Axes>"
      ]
     },
     "metadata": {
      "needs_background": "light"
     },
     "output_type": "display_data"
    }
   ],
   "source": [
    "# Viz\n",
    "plt.hist(Playmaking_Guards19['USG%'])\n",
    "plt.title('Playmakers USG%');"
   ]
  },
  {
   "cell_type": "code",
   "execution_count": 124,
   "metadata": {},
   "outputs": [
    {
     "data": {
      "image/png": "[encoded data removed]",
      "text/plain": [
       "<Figure size 432x288 with 1 Axes>"
      ]
     },
     "metadata": {
      "needs_background": "light"
     },
     "output_type": "display_data"
    }
   ],
   "source": [
    "# 9 different clusters\n",
    "plt.scatter(X_pca[:, 0], X_pca[:, 1], c=y_kmeans, s=50, cmap='viridis')\n",
    "\n",
    "centers = km.cluster_centers_\n",
    "plt.scatter(centers[:, 0], centers[:, 1], c='black', s=200, alpha=0.5);\n",
    "# Iterated code from Jake VanderPlas"
   ]
  },
  {
   "cell_type": "code",
   "execution_count": null,
   "metadata": {},
   "outputs": [],
   "source": []
  }
 ],
 "metadata": {
  "kernelspec": {
   "display_name": "Python 3",
   "language": "python",
   "name": "python3"
  },
  "language_info": {
   "codemirror_mode": {
    "name": "ipython",
    "version": 3
   },
   "file_extension": ".py",
   "mimetype": "text/x-python",
   "name": "python",
   "nbconvert_exporter": "python",
   "pygments_lexer": "ipython3",
   "version": "3.6.9"
  }
 },
 "nbformat": 4,
 "nbformat_minor": 2
}
